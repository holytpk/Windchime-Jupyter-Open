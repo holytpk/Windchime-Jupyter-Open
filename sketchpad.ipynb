{
 "cells": [
  {
   "cell_type": "code",
   "execution_count": 1,
   "id": "worldwide-characteristic",
   "metadata": {},
   "outputs": [
    {
     "name": "stdout",
     "output_type": "stream",
     "text": [
      "{y: a0 + a1*cos(w*x) + a2*cos(2*w*x) + a3*cos(3*w*x) + b1*sin(w*x) + b2*sin(2*w*x) + b3*sin(3*w*x)}\n",
      "\n",
      "Parameter Value        Standard Deviation\n",
      "a0        5.000000e-01 2.075395e-02\n",
      "a1        5.734887e-12 3.277426e-02\n",
      "a2        6.124944e-12 3.197889e-02\n",
      "a3        3.243879e-12 3.080979e-02\n",
      "b1        6.267589e-01 2.548585e-02\n",
      "b2        1.986491e-02 2.643438e-02\n",
      "b3        1.846406e-01 2.756060e-02\n",
      "w         8.671471e-01 3.356602e-02\n",
      "Status message         Optimization terminated successfully.\n",
      "Number of iterations   25\n",
      "Objective              <symfit.core.objectives.LeastSquares object at 0x0000016F0FEDBAC0>\n",
      "Minimizer              <symfit.core.minimizers.BFGS object at 0x0000016F0FEDBB50>\n",
      "\n",
      "Goodness of fit qualifiers:\n",
      "chi_squared            0.7478591086418305\n",
      "objective_value        0.37392955432091524\n",
      "r_squared              0.9401712713086535\n"
     ]
    },
    {
     "data": {
      "image/png": "[encoded data removed]",
      "text/plain": [
       "<Figure size 432x288 with 1 Axes>"
      ]
     },
     "metadata": {
      "needs_background": "light"
     },
     "output_type": "display_data"
    }
   ],
   "source": [
    "from symfit import parameters, variables, sin, cos, Fit\n",
    "import numpy as np\n",
    "import matplotlib.pyplot as plt\n",
    "\n",
    "def fourier_series(x, f, n=0):\n",
    "    # Make the parameter objects for all the terms\n",
    "    a0, *cos_a = parameters(','.join(['a{}'.format(i) for i in range(0, n + 1)]))\n",
    "    sin_b = parameters(','.join(['b{}'.format(i) for i in range(1, n + 1)]))\n",
    "    # Construct the series\n",
    "    series = a0 + sum(ai * cos(i * f * x) + bi * sin(i * f * x)\n",
    "                     for i, (ai, bi) in enumerate(zip(cos_a, sin_b), start=1))\n",
    "    return series\n",
    "\n",
    "x, y = variables('x, y')\n",
    "w, = parameters('w')\n",
    "model_dict = {y: fourier_series(x, f=w, n=3)}\n",
    "print(model_dict)\n",
    "\n",
    "# Make step function data\n",
    "xdata = np.linspace(-np.pi, np.pi)\n",
    "ydata = np.zeros_like(xdata)\n",
    "ydata[xdata > 0] = 1\n",
    "# Define a Fit object for this model and data\n",
    "fit = Fit(model_dict, x=xdata, y=ydata)\n",
    "fit_result = fit.execute()\n",
    "print(fit_result)\n",
    "\n",
    "# Plot the result\n",
    "plt.plot(xdata, ydata)\n",
    "plt.plot(xdata, fit.model(x=xdata, **fit_result.params).y, ls=':')\n",
    "plt.xlabel('x')\n",
    "plt.ylabel('y')\n",
    "plt.show()"
   ]
  },
  {
   "cell_type": "code",
   "execution_count": null,
   "id": "b58227bc",
   "metadata": {},
   "outputs": [],
   "source": []
  }
 ],
 "metadata": {
  "kernelspec": {
   "display_name": "Python 3 (ipykernel)",
   "language": "python",
   "name": "python3"
  },
  "language_info": {
   "codemirror_mode": {
    "name": "ipython",
    "version": 3
   },
   "file_extension": ".py",
   "mimetype": "text/x-python",
   "name": "python",
   "nbconvert_exporter": "python",
   "pygments_lexer": "ipython3",
   "version": "3.9.7"
  }
 },
 "nbformat": 4,
 "nbformat_minor": 5
}
