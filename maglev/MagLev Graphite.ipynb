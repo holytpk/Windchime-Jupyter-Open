{
 "cells": [
  {
   "cell_type": "code",
   "execution_count": 3,
   "id": "2ce22a08",
   "metadata": {},
   "outputs": [],
   "source": [
    "import os\n",
    "import sys\n",
    "module_path = os.path.abspath(os.path.join('../..'))\n",
    "if module_path not in sys.path:\n",
    "    sys.path.append(module_path)\n",
    "import numpy as np\n",
    "from scipy import stats, signal\n",
    "import matplotlib.pyplot as plt\n",
    "from numba import njit\n",
    "import pandas as pd\n",
    "from tqdm import tqdm, trange"
   ]
  },
  {
   "cell_type": "markdown",
   "id": "33347ba9",
   "metadata": {},
   "source": [
    "1) The total kinetic energy is $T=\\frac{1}{2}\\tilde{\\dot{q}}^T \\cdot M \\cdot \\tilde{\\dot{q}}=\\frac{1}{2}\\sum_{i,j=1}^{6} M_{ij}\\tilde{\\dot{q_i}}\\tilde{\\dot{q_j}}$ with $ M = $\n",
    "\n",
    "\\begin{pmatrix}\n",
    "m &   &   &\\\\\n",
    "  & m &   &\\\\\n",
    "  &   & m &\\\\\n",
    "  &   &   & I \n",
    "\\end{pmatrix} \n",
    "\n",
    "where $I$ is the moment of inertia tensor. We can also use $\\frac{p^2}{2m}$ for 1-D system. \n",
    "\n",
    "2) The magnetic field is produced by the arrangement of NdFeB blocks with side length $b$ (can be $b_x$, $b_y$ or $b_z$), the individual contribution to the total field is $B^{(1)}_z(x,y,z)=-\\frac{B_0}{2\\pi}[F_1(-x,y,z)+F_1(-x,y,-z)+F_1(-x,-y,z)+F_1(-x,-y,-z)+F_1(x,y,z)+F_1(x,y,-z)+F_1(x,-y,z)+F_1(x,-y,-z)]$ with $F_1(x,y,z)=tan^{-1}\\left[\\frac{(x+\\frac{b_x}{2})(y+\\frac{b_y}{2})}{(z+\\frac{b_z}{2})\\sqrt{(x+\\frac{b_x}{2})^2+(y+\\frac{b_y}{2})^2+(z+\\frac{b_z}{2})^2}}\\right]$. If we only consider the action in z-coordinate and ignore x and y contributions to $B_z$, then $B_z\\approx\\frac{-B_0}{2\\pi}tan^{-1}(\\frac{1}{z^2})$ in order to check the order of magnitude of the system and we can simply find the equilibrium position along $\\hat{z}$. \n",
    "\n",
    "The total potential is then $V=V_{mag}+V_{grav}=-\\frac{1}{2 \\mu_0}\\int_V(\\chi \\cdot \\vec{B_0} (\\psi^*(\\tilde{\\psi}, x^*, \\alpha^*))) \\cdot \\vec{B_0}(\\psi^*(\\tilde{\\psi}, x^*, \\alpha^*)))dV+mg(\\tilde{x_3}+x^*_3)$\n",
    "\n",
    "3) Combine 1) and 2): \n",
    "As we know, the Lagriangian of a system is $L=T-V$, is simply the difference between the kinetic energy and the potential energy. Then one can apply the Euler-Lagriangian formalism to find the dynamic equations, or, simply assume that the system is a driven harmonic oscillator with a real solution $\\ddot{z} + \\gamma\\dot{z} + \\omega_0^2 z = F_{impulse} + F_{thermal} + F_{measure}$, the forces on the right hand side of the equations are the prependicular force component to the impact parameter, thermal noise and noises induced by the measurements.   \n",
    "\n",
    "Here are some typical values for $\\chi=-5\\times10^{-4}\\sim-1$ (dimensionless), $B_0=0.5 T$ \n",
    "\n",
    "Reference:\n",
    "Suppose such a system is close to a Driven Damped Harmonic Oscillator (DDHO), then it behaves like: \n",
    "https://physics.stackexchange.com/questions/682059/finding-the-resonance-frequency-for-forced-damped-oscillations"
   ]
  },
  {
   "cell_type": "markdown",
   "id": "5c7b81b8",
   "metadata": {},
   "source": [
    "Assume that the system reaches standard quantum limit (SQL). Then we need to compare the following two impulses: \n",
    "\n",
    "$\\Delta p = \\sqrt{\\frac{1}{m_{sensor}\\omega}}$\n",
    "\n",
    "$p_{signal} = \\frac{G_N m_\\chi m_{sensor}}{bv}$"
   ]
  },
  {
   "cell_type": "markdown",
   "id": "7d324bb5",
   "metadata": {},
   "source": [
    "typeDH\n",
    "\n"
   ]
  },
  {
   "cell_type": "code",
   "execution_count": null,
   "id": "e64106a9",
   "metadata": {},
   "outputs": [],
   "source": []
  }
 ],
 "metadata": {
  "kernelspec": {
   "display_name": "Python 3 (ipykernel)",
   "language": "python",
   "name": "python3"
  },
  "language_info": {
   "codemirror_mode": {
    "name": "ipython",
    "version": 3
   },
   "file_extension": ".py",
   "mimetype": "text/x-python",
   "name": "python",
   "nbconvert_exporter": "python",
   "pygments_lexer": "ipython3",
   "version": "3.9.7"
  }
 },
 "nbformat": 4,
 "nbformat_minor": 5
}
