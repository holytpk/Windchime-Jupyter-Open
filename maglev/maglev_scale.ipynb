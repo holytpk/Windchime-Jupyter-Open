{
 "cells": [
  {
   "cell_type": "code",
   "execution_count": 759,
   "id": "lucky-region",
   "metadata": {},
   "outputs": [],
   "source": [
    "import scipy\n",
    "import numpy as np\n",
    "import pandas as pd\n",
    "import matplotlib.pyplot as plt\n",
    "from mpl_toolkits.mplot3d import axes3d\n",
    "from matplotlib import cm\n",
    "import magpylib as magpy\n",
    "from mayavi import mlab\n",
    "from scipy.spatial.transform import Rotation as R\n",
    "import scipy.constants as constants\n",
    "from scipy import stats\n",
    "import math\n",
    "from math import pi, sqrt, ceil \n",
    "from math import log as ln\n",
    "from scipy.optimize import curve_fit\n",
    "from scipy import constants\n",
    "import jdc\n",
    "\n",
    "from scipy import integrate\n",
    "from scipy.integrate import quad\n",
    "from scipy.optimize import fsolve\n",
    "from scipy.special import kn\n",
    "from tqdm import tqdm, trange"
   ]
  },
  {
   "cell_type": "code",
   "execution_count": 699,
   "id": "c0175969",
   "metadata": {},
   "outputs": [],
   "source": [
    "b_x=3e-3 # m\n",
    "b_y=3e-3 # m\n",
    "b_z=1e-4 # m\n",
    "\n",
    "m=1e-5 # kg\n",
    "w=1e-3 # m, width of graphite plate\n",
    "chi=1e-4 # magnetic susceptibility"
   ]
  },
  {
   "cell_type": "markdown",
   "id": "signed-replication",
   "metadata": {},
   "source": [
    "# Magnetism\n",
    "\n",
    "$\\textbf{F}_\\textbf{B}=\\nabla\\int_V\\textbf{M}\\cdot\\textbf{B}{dV}=\\frac{\\mu_0}{2}\\int_V\\nabla(\\chi_x H_x^2+\\chi_y H_y^2 + \\chi_z H_z^2){dV}$\n",
    "\n",
    "$    B^{(1)}_z(x,y,z)=-\\frac{B_0}{2\\pi}[F_1(-x,y,z)+F_1(-x,y,-z)\\\\\n",
    "    +F_1(-x,-y,z)+F_1(-x,-y,-z)\\\\\n",
    "    +F_1(x,y,z)+F_1(x,y,-z)\\\\\n",
    "    +F_1(x,-y,z)+F_1(x,-y,-z)]$\n",
    "    \n",
    "$F_1(x,y,z)=\\\\\n",
    "tan^{-1}\\left[\\frac{(x+\\frac{b_x}{2})(y+\\frac{b_y}{2})}{(z+\\frac{b_z}{2})\\sqrt{(x+\\frac{b_x}{2})^2+(y+\\frac{b_y}{2})^2+(z+\\frac{b_z}{2})^2}}\\right]$"
   ]
  },
  {
   "cell_type": "code",
   "execution_count": 702,
   "id": "c3a5ed48",
   "metadata": {},
   "outputs": [],
   "source": [
    "def find_equilibrium_z():\n",
    "    \n",
    "    l = 0.11*b_x # length scale\n",
    "    l_0 = 5e-4*0.5**2/(2*4*pi*1e-7*2200*9.8)\n",
    "    a = 0.7\n",
    "    z=abs(l*ln(a*l_0/l)) #units m\n",
    "\n",
    "    #print(\"{:.12f}\".format(z))\n",
    "    return z "
   ]
  },
  {
   "cell_type": "code",
   "execution_count": 703,
   "id": "9e3598f1",
   "metadata": {},
   "outputs": [
    {
     "data": {
      "text/plain": [
       "0.0005239988613120337"
      ]
     },
     "execution_count": 703,
     "metadata": {},
     "output_type": "execute_result"
    }
   ],
   "source": [
    "find_equilibrium_z()"
   ]
  },
  {
   "cell_type": "code",
   "execution_count": 728,
   "id": "hundred-luxury",
   "metadata": {},
   "outputs": [],
   "source": [
    "def B_static_component(x,y,z):\n",
    "    B_0 = 0.5 # T/m\n",
    "    F_1 = math.atan((x+b_x/2)*(y+b_y/2)/((z+b_z/2)*sqrt((x+b_x/2)**2+(y+b_y/2)**2+(z+b_z/2)**2)))\n",
    "    return -B_0*F_1/(2*pi)"
   ]
  },
  {
   "cell_type": "code",
   "execution_count": 729,
   "id": "personal-tissue",
   "metadata": {},
   "outputs": [],
   "source": [
    "def B_static(x,y,z):\n",
    "    sum_B_static_component = B_static_component(-x,y,z) + B_static_component(-x,y,-z) + \\\n",
    "    + B_static_component(-x,-y,z) + B_static_component(-x,-y,-z) \\\n",
    "    + B_static_component(x,y,z) + B_static_component(x,y,-z) \\\n",
    "    + B_static_component(x,-y,z) + B_static_component(x,-y,-z)\n",
    "    return sum_B_static_component"
   ]
  },
  {
   "cell_type": "code",
   "execution_count": 743,
   "id": "126ef466",
   "metadata": {},
   "outputs": [],
   "source": [
    "def sum_B_static(x,y,z):\n",
    "    N_total = 20 \n",
    "    sum_B = B_static(x,y,z)\n",
    "    for N_stack in range(N_total):\n",
    "        sum_B += B_static(x,y,z+N_stack*b_z)       \n",
    "    return sum_B "
   ]
  },
  {
   "cell_type": "code",
   "execution_count": 757,
   "id": "c0dd3fc4",
   "metadata": {},
   "outputs": [
    {
     "name": "stdout",
     "output_type": "stream",
     "text": [
      "0.14762423\n"
     ]
    }
   ],
   "source": [
    "x=1e-3 # m\n",
    "y=1e-3 # m\n",
    "z=9e-4 # m\n",
    "\n",
    "print(\"{0:.8f}\".format(sum_B_static(-x,-y,z)))"
   ]
  },
  {
   "cell_type": "code",
   "execution_count": 755,
   "id": "2ee09b6b",
   "metadata": {},
   "outputs": [
    {
     "data": {
      "text/plain": [
       "<matplotlib.collections.PathCollection at 0x19d9e9ea730>"
      ]
     },
     "execution_count": 755,
     "metadata": {},
     "output_type": "execute_result"
    },
    {
     "data": {
      "image/png": "[encoded data removed]",
      "text/plain": [
       "<Figure size 432x288 with 1 Axes>"
      ]
     },
     "metadata": {
      "needs_background": "light"
     },
     "output_type": "display_data"
    }
   ],
   "source": [
    "z=np.linspace(-0.005, 0.005, 100)\n",
    "B_static_component_vector = np.vectorize(B_static_component)\n",
    "fig, ax = plt.subplots(1, 1)\n",
    "ax.set_xlabel(\"z (m)\")\n",
    "ax.set_ylabel(\"Magnetic Field (T)\")\n",
    "plt.axvline(x = 0, color='yellow')\n",
    "plt.scatter(z, B_static_component_vector(-x,y,z))\n",
    "plt.scatter(z, B_static_component_vector(-x,y,-z))\n",
    "plt.scatter(z, B_static_component_vector(-x,-y,z))\n",
    "plt.scatter(z, B_static_component_vector(-x,-y,-z))\n",
    "plt.scatter(z, B_static_component_vector(x,y,z))\n",
    "plt.scatter(z, B_static_component_vector(x,y,-z))"
   ]
  },
  {
   "cell_type": "code",
   "execution_count": 754,
   "id": "aa3a051e",
   "metadata": {},
   "outputs": [
    {
     "name": "stderr",
     "output_type": "stream",
     "text": [
      "100%|██████████████████████████████████████████████████████████████████████████████████| 25/25 [03:01<00:00,  7.28s/it]\n"
     ]
    },
    {
     "data": {
      "text/plain": [
       "Text(0, 0.5, 'Magnetic Field (T)')"
      ]
     },
     "execution_count": 754,
     "metadata": {},
     "output_type": "execute_result"
    },
    {
     "data": {
      "image/png": "[encoded data removed]",
      "text/plain": [
       "<Figure size 432x288 with 2 Axes>"
      ]
     },
     "metadata": {
      "needs_background": "light"
     },
     "output_type": "display_data"
    },
    {
     "data": {
      "image/png": "[encoded data removed]",
      "text/plain": [
       "<Figure size 432x288 with 2 Axes>"
      ]
     },
     "metadata": {
      "needs_background": "light"
     },
     "output_type": "display_data"
    }
   ],
   "source": [
    "N=1000\n",
    "feature_x=np.linspace(-b_x, b_x, N)\n",
    "feature_y=np.linspace(-b_y, b_y, N)\n",
    "[X, Y] = np.meshgrid(feature_x, feature_y)\n",
    "\n",
    "B_static_vector = np.vectorize(B_static)\n",
    "\n",
    "z_above = 2e-4\n",
    "z_shift = 1e-4 # m\n",
    "\n",
    "fig1, ax1 = plt.subplots(1, 1)\n",
    "ax1.set_xlabel(\"x (m)\")\n",
    "ax1.set_ylabel(\"y (m)\")\n",
    "c1 = ax1.contourf(X, Y, B_static_vector(X, Y, z_above))\n",
    "cbar1 = fig1.colorbar(c1)\n",
    "cbar1.ax.set_ylabel('Magnetic Field (T)')\n",
    "\n",
    "N_total = 25 \n",
    "sum_B_static_vector = B_static_vector(X,Y,z_shift)\n",
    "for N_stack in trange(N_total):\n",
    "    #print(N_stack)\n",
    "    sum_B_static_vector += B_static_vector(X,Y,z_above+(N_stack+1)*b_z)\n",
    "\n",
    "fig2, ax2 = plt.subplots(1, 1)\n",
    "ax2.set_xlabel(\"x (m)\")\n",
    "ax2.set_ylabel(\"y (m)\")\n",
    "c2 = ax2.contourf(X, Y, sum_B_static_vector)\n",
    "cbar2 = fig2.colorbar(c2)\n",
    "cbar2.ax.set_ylabel('Magnetic Field (T)')\n"
   ]
  },
  {
   "cell_type": "markdown",
   "id": "e2ab5e03",
   "metadata": {},
   "source": [
    "# Method 1\n",
    "\n",
    "$d\\vec{M}_{graphite}(x,y,z)=\\chi\\cdot d\\vec{B}_{static}(x,y,z)$\n",
    "\n",
    "$\\vec{B}_{graphite}(x,y,z)=\\chi \\cdot \\int \\int \\int dx_{graphite}dy_{graphite}dz_{graphite} \\vec{B}_{static}(x_{graphite},y_{graphite},z_{graphite})$\n",
    "\n",
    "$\\vec{B}_{graphite}(\\vec{r})=\\chi \\cdot \\int \\nabla \\times \\vec{A}_{graphite} dV = \\chi \\cdot \\int \\int \\int \\frac{2 \\vec{M}(\\vec{r}_{graphite}) }{4\\pi (\\vec{r}-\\vec{r}_{graphite})^3} dx_{graphite}dy_{graphite}dz_{graphite}$ "
   ]
  },
  {
   "cell_type": "code",
   "execution_count": 863,
   "id": "b6bee525",
   "metadata": {},
   "outputs": [],
   "source": [
    "# the following calculation is for scale approximation and does not include the vector nature of the fields \n",
    "# unit in T per cubic meter\n",
    "def dB_graphite(x,y,z,x_graphite,y_graphite,z_graphite):\n",
    "    r_scripted = sqrt((x-x_graphite)**2+(y-y_graphite)**2+(z-z_graphite)**2)\n",
    "    dM = chi*sum_B_static(x_graphite,y_graphite,z_graphite)\n",
    "    dB = -2*dM/(4*pi*r_scripted**3)\n",
    "    return dB"
   ]
  },
  {
   "cell_type": "code",
   "execution_count": 864,
   "id": "ca568301",
   "metadata": {},
   "outputs": [],
   "source": [
    "# 4th argument input value or err\n",
    "def B_graphite(x,y,z,x_graphite,y_graphtie,z_graphite): \n",
    "    B_graphite_value, B_graphite_err = integrate.tplquad(dB_graphite, 0, b_x, 0, b_y, z_graphite-1e-2, z_graphite+1e-2, args=(x, y, z))\n",
    "    return B_graphite_value"
   ]
  },
  {
   "cell_type": "code",
   "execution_count": 870,
   "id": "e61da854",
   "metadata": {},
   "outputs": [],
   "source": [
    "# method 1, exact result\n",
    "z_lev=find_equilibrium_z() \n",
    "#B_graphite(1.5e-4, 1.5e-4, 1.1e-4, 0, 0, z_lev)"
   ]
  },
  {
   "cell_type": "markdown",
   "id": "b460b0d5",
   "metadata": {},
   "source": [
    "# Method 2\n",
    "\n",
    "Assume Uniformly Magnetized Plate and The Plate Is As Small As A Point Mass"
   ]
  },
  {
   "cell_type": "code",
   "execution_count": 966,
   "id": "821222c8",
   "metadata": {},
   "outputs": [],
   "source": [
    "# method 2, assume uniform magnetization\n",
    "def B_graphite_uniform(x,y,z):\n",
    "    z_lev=find_equilibrium_z()\n",
    "    r = sqrt(x**2+y**2+(z-z_lev)**2)\n",
    "    V = (b_x/2)*(b_y/2)*1e-2\n",
    "    dM = chi*sum_B_static(1.5e-3,1.5e-3,z)\n",
    "    B = -2*V*dM/(4*pi*r**3)/chi\n",
    "    return B\n",
    "\n",
    "def dBdz_graphite_uniform(x,y,z):\n",
    "    dz = 1e-8\n",
    "    dB = B_graphite_uniform(x,y,z+dz)-B_graphite_uniform(x,y,z-dz)\n",
    "    return dB/dz"
   ]
  },
  {
   "cell_type": "code",
   "execution_count": 967,
   "id": "c35e490b",
   "metadata": {},
   "outputs": [
    {
     "name": "stdout",
     "output_type": "stream",
     "text": [
      "B_graphite(x,y,z) = -0.002905582211184924 T \n",
      "dB/dz = 1.5045135856768532 T/m\n"
     ]
    }
   ],
   "source": [
    "z_lev=find_equilibrium_z()\n",
    "print(\"B_graphite(x,y,z) =\", B_graphite_uniform(b_x,b_y,z_lev-1e-4),\"T \\ndB/dz =\", dBdz_graphite_uniform(b_x,b_y,z_lev-1e-4), \"T/m\")"
   ]
  },
  {
   "cell_type": "code",
   "execution_count": null,
   "id": "2af185b3",
   "metadata": {},
   "outputs": [],
   "source": []
  }
 ],
 "metadata": {
  "kernelspec": {
   "display_name": "Python 3 (ipykernel)",
   "language": "python",
   "name": "python3"
  },
  "language_info": {
   "codemirror_mode": {
    "name": "ipython",
    "version": 3
   },
   "file_extension": ".py",
   "mimetype": "text/x-python",
   "name": "python",
   "nbconvert_exporter": "python",
   "pygments_lexer": "ipython3",
   "version": "3.9.7"
  }
 },
 "nbformat": 4,
 "nbformat_minor": 5
}
