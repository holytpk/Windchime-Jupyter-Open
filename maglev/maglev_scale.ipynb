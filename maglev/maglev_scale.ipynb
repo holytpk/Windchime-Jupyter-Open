{
 "cells": [
  {
   "cell_type": "code",
   "execution_count": 712,
   "id": "lucky-region",
   "metadata": {},
   "outputs": [],
   "source": [
    "import scipy\n",
    "import numpy as np\n",
    "import pandas as pd\n",
    "import matplotlib.pyplot as plt\n",
    "from mpl_toolkits.mplot3d import axes3d\n",
    "from matplotlib import cm\n",
    "import magpylib as magpy\n",
    "from mayavi import mlab\n",
    "from scipy.spatial.transform import Rotation as R\n",
    "import scipy.constants as constants\n",
    "from scipy import stats\n",
    "import math\n",
    "from math import pi, sqrt, ceil \n",
    "from math import log as ln\n",
    "from scipy.optimize import curve_fit\n",
    "from scipy import constants\n",
    "import jdc\n",
    "\n",
    "from scipy.integrate import quad\n",
    "from scipy.optimize import fsolve\n",
    "from scipy.special import kn\n",
    "from tqdm import tqdm, trange"
   ]
  },
  {
   "cell_type": "code",
   "execution_count": 699,
   "id": "7be9df13",
   "metadata": {},
   "outputs": [],
   "source": [
    "b_x=3e-3 # m\n",
    "b_y=3e-3 # m\n",
    "b_z=1e-4 # m\n",
    "\n",
    "m=1e-5 # kg\n",
    "w=1e-3 # m, width of graphite plate\n",
    "chi=1e-4 # magnetic susceptibility"
   ]
  },
  {
   "cell_type": "markdown",
   "id": "signed-replication",
   "metadata": {},
   "source": [
    "$\\textbf{F}_\\textbf{B}=\\nabla\\int_V\\textbf{M}\\cdot\\textbf{B}{dV}=\\frac{\\mu_0}{2}\\int_V\\nabla(\\chi_x H_x^2+\\chi_y H_y^2 + \\chi_z H_z^2){dV}$\n",
    "\n",
    "$    B^{(1)}_z(x,y,z)=-\\frac{B_0}{2\\pi}[F_1(-x,y,z)+F_1(-x,y,-z)\\\\\n",
    "    +F_1(-x,-y,z)+F_1(-x,-y,-z)\\\\\n",
    "    +F_1(x,y,z)+F_1(x,y,-z)\\\\\n",
    "    +F_1(x,-y,z)+F_1(x,-y,-z)]$\n",
    "    \n",
    "$F_1(x,y,z)=\\\\\n",
    "tan^{-1}\\left[\\frac{(x+\\frac{b_x}{2})(y+\\frac{b_y}{2})}{(z+\\frac{b_z}{2})\\sqrt{(x+\\frac{b_x}{2})^2+(y+\\frac{b_y}{2})^2+(z+\\frac{b_z}{2})^2}}\\right]$"
   ]
  },
  {
   "cell_type": "code",
   "execution_count": 702,
   "id": "c2988da4",
   "metadata": {},
   "outputs": [],
   "source": [
    "def find_equilibrium_z():\n",
    "    \n",
    "    l = 0.11*b_x # length scale\n",
    "    l_0 = 5e-4*0.5**2/(2*4*pi*1e-7*2200*9.8)\n",
    "    a = 0.7\n",
    "    z=abs(l*ln(a*l_0/l)) #units m\n",
    "\n",
    "    #print(\"{:.12f}\".format(z))\n",
    "    return z "
   ]
  },
  {
   "cell_type": "code",
   "execution_count": 703,
   "id": "1da4c51f",
   "metadata": {},
   "outputs": [
    {
     "data": {
      "text/plain": [
       "0.0005239988613120337"
      ]
     },
     "execution_count": 703,
     "metadata": {},
     "output_type": "execute_result"
    }
   ],
   "source": [
    "find_equilibrium_z()"
   ]
  },
  {
   "cell_type": "code",
   "execution_count": 728,
   "id": "hundred-luxury",
   "metadata": {},
   "outputs": [],
   "source": [
    "def B_static_component(x,y,z):\n",
    "    B_0 = 0.5 # T/m\n",
    "    F_1 = math.atan((x+b_x/2)*(y+b_y/2)/((z+b_z/2)*sqrt((x+b_x/2)**2+(y+b_y/2)**2+(z+b_z/2)**2)))\n",
    "    return -B_0*F_1/(2*pi)"
   ]
  },
  {
   "cell_type": "code",
   "execution_count": 729,
   "id": "personal-tissue",
   "metadata": {},
   "outputs": [],
   "source": [
    "def B_static(x,y,z):\n",
    "    sum_B_static_component = B_static_component(-x,y,z) + B_static_component(-x,y,-z) + \\\n",
    "    + B_static_component(-x,-y,z) + B_static_component(-x,-y,-z) \\\n",
    "    + B_static_component(x,y,z) + B_static_component(x,y,-z) \\\n",
    "    + B_static_component(x,-y,z) + B_static_component(x,-y,-z)\n",
    "    return sum_B_static_component"
   ]
  },
  {
   "cell_type": "code",
   "execution_count": 743,
   "id": "e43b1101",
   "metadata": {},
   "outputs": [],
   "source": [
    "def sum_B_static(x,y,z):\n",
    "    N_total = 20 \n",
    "    sum_B = B_static(x,y,z)\n",
    "    for N_stack in range(N_total):\n",
    "        sum_B += B_static(x,y,z+N_stack*b_z)       \n",
    "    return sum_B "
   ]
  },
  {
   "cell_type": "code",
   "execution_count": 748,
   "id": "b41b58ad",
   "metadata": {},
   "outputs": [
    {
     "name": "stdout",
     "output_type": "stream",
     "text": [
      "0.20717231\n"
     ]
    }
   ],
   "source": [
    "x=5e-4 # m\n",
    "y=5e-4 # m\n",
    "z=9e-4 # m\n",
    "\n",
    "print(\"{0:.8f}\".format(sum_B_static(x,y,z)))"
   ]
  },
  {
   "cell_type": "code",
   "execution_count": 749,
   "id": "243d03c4",
   "metadata": {},
   "outputs": [
    {
     "data": {
      "text/plain": [
       "<matplotlib.collections.PathCollection at 0x19d88d7e7f0>"
      ]
     },
     "execution_count": 749,
     "metadata": {},
     "output_type": "execute_result"
    },
    {
     "data": {
      "image/png": "[encoded data removed]",
      "text/plain": [
       "<Figure size 432x288 with 1 Axes>"
      ]
     },
     "metadata": {
      "needs_background": "light"
     },
     "output_type": "display_data"
    }
   ],
   "source": [
    "z=np.linspace(-0.005, 0.005, 100)\n",
    "B_static_component_vector = np.vectorize(B_static_component)\n",
    "fig, ax = plt.subplots(1, 1)\n",
    "ax.set_xlabel(\"z\")\n",
    "ax.set_ylabel(\"Magnetic Field (T)\")\n",
    "plt.axvline(x = 0, color='yellow')\n",
    "plt.scatter(z, B_static_component_vector(-x,y,z))\n",
    "plt.scatter(z, B_static_component_vector(-x,y,-z))\n",
    "plt.scatter(z, B_static_component_vector(-x,-y,z))\n",
    "plt.scatter(z, B_static_component_vector(-x,-y,-z))\n",
    "plt.scatter(z, B_static_component_vector(x,y,z))\n",
    "plt.scatter(z, B_static_component_vector(x,y,-z))"
   ]
  },
  {
   "cell_type": "code",
   "execution_count": 750,
   "id": "cb960ada",
   "metadata": {},
   "outputs": [
    {
     "ename": "KeyboardInterrupt",
     "evalue": "",
     "output_type": "error",
     "traceback": [
      "\u001b[1;31m---------------------------------------------------------------------------\u001b[0m",
      "\u001b[1;31mKeyboardInterrupt\u001b[0m                         Traceback (most recent call last)",
      "\u001b[1;32m~\\AppData\\Local\\Temp/ipykernel_1052/411372244.py\u001b[0m in \u001b[0;36m<cell line: 12>\u001b[1;34m()\u001b[0m\n\u001b[0;32m     10\u001b[0m \u001b[1;33m\u001b[0m\u001b[0m\n\u001b[0;32m     11\u001b[0m \u001b[0mfig1\u001b[0m\u001b[1;33m,\u001b[0m \u001b[0max1\u001b[0m \u001b[1;33m=\u001b[0m \u001b[0mplt\u001b[0m\u001b[1;33m.\u001b[0m\u001b[0msubplots\u001b[0m\u001b[1;33m(\u001b[0m\u001b[1;36m1\u001b[0m\u001b[1;33m,\u001b[0m \u001b[1;36m1\u001b[0m\u001b[1;33m)\u001b[0m\u001b[1;33m\u001b[0m\u001b[1;33m\u001b[0m\u001b[0m\n\u001b[1;32m---> 12\u001b[1;33m \u001b[0mc1\u001b[0m \u001b[1;33m=\u001b[0m \u001b[0max1\u001b[0m\u001b[1;33m.\u001b[0m\u001b[0mcontourf\u001b[0m\u001b[1;33m(\u001b[0m\u001b[0mX\u001b[0m\u001b[1;33m,\u001b[0m \u001b[0mY\u001b[0m\u001b[1;33m,\u001b[0m \u001b[0mB_static_vector\u001b[0m\u001b[1;33m(\u001b[0m\u001b[0mX\u001b[0m\u001b[1;33m,\u001b[0m \u001b[0mY\u001b[0m\u001b[1;33m,\u001b[0m \u001b[0mz_above\u001b[0m\u001b[1;33m)\u001b[0m\u001b[1;33m)\u001b[0m\u001b[1;33m\u001b[0m\u001b[1;33m\u001b[0m\u001b[0m\n\u001b[0m\u001b[0;32m     13\u001b[0m \u001b[0mcbar1\u001b[0m \u001b[1;33m=\u001b[0m \u001b[0mfig1\u001b[0m\u001b[1;33m.\u001b[0m\u001b[0mcolorbar\u001b[0m\u001b[1;33m(\u001b[0m\u001b[0mc1\u001b[0m\u001b[1;33m)\u001b[0m\u001b[1;33m\u001b[0m\u001b[1;33m\u001b[0m\u001b[0m\n\u001b[0;32m     14\u001b[0m \u001b[0mcbar1\u001b[0m\u001b[1;33m.\u001b[0m\u001b[0max\u001b[0m\u001b[1;33m.\u001b[0m\u001b[0mset_ylabel\u001b[0m\u001b[1;33m(\u001b[0m\u001b[1;34m'Magnetic Field (T)'\u001b[0m\u001b[1;33m)\u001b[0m\u001b[1;33m\u001b[0m\u001b[1;33m\u001b[0m\u001b[0m\n",
      "\u001b[1;32m~\\anaconda3\\lib\\site-packages\\numpy\\lib\\function_base.py\u001b[0m in \u001b[0;36m__call__\u001b[1;34m(self, *args, **kwargs)\u001b[0m\n\u001b[0;32m   2111\u001b[0m             \u001b[0mvargs\u001b[0m\u001b[1;33m.\u001b[0m\u001b[0mextend\u001b[0m\u001b[1;33m(\u001b[0m\u001b[1;33m[\u001b[0m\u001b[0mkwargs\u001b[0m\u001b[1;33m[\u001b[0m\u001b[0m_n\u001b[0m\u001b[1;33m]\u001b[0m \u001b[1;32mfor\u001b[0m \u001b[0m_n\u001b[0m \u001b[1;32min\u001b[0m \u001b[0mnames\u001b[0m\u001b[1;33m]\u001b[0m\u001b[1;33m)\u001b[0m\u001b[1;33m\u001b[0m\u001b[1;33m\u001b[0m\u001b[0m\n\u001b[0;32m   2112\u001b[0m \u001b[1;33m\u001b[0m\u001b[0m\n\u001b[1;32m-> 2113\u001b[1;33m         \u001b[1;32mreturn\u001b[0m \u001b[0mself\u001b[0m\u001b[1;33m.\u001b[0m\u001b[0m_vectorize_call\u001b[0m\u001b[1;33m(\u001b[0m\u001b[0mfunc\u001b[0m\u001b[1;33m=\u001b[0m\u001b[0mfunc\u001b[0m\u001b[1;33m,\u001b[0m \u001b[0margs\u001b[0m\u001b[1;33m=\u001b[0m\u001b[0mvargs\u001b[0m\u001b[1;33m)\u001b[0m\u001b[1;33m\u001b[0m\u001b[1;33m\u001b[0m\u001b[0m\n\u001b[0m\u001b[0;32m   2114\u001b[0m \u001b[1;33m\u001b[0m\u001b[0m\n\u001b[0;32m   2115\u001b[0m     \u001b[1;32mdef\u001b[0m \u001b[0m_get_ufunc_and_otypes\u001b[0m\u001b[1;33m(\u001b[0m\u001b[0mself\u001b[0m\u001b[1;33m,\u001b[0m \u001b[0mfunc\u001b[0m\u001b[1;33m,\u001b[0m \u001b[0margs\u001b[0m\u001b[1;33m)\u001b[0m\u001b[1;33m:\u001b[0m\u001b[1;33m\u001b[0m\u001b[1;33m\u001b[0m\u001b[0m\n",
      "\u001b[1;32m~\\anaconda3\\lib\\site-packages\\numpy\\lib\\function_base.py\u001b[0m in \u001b[0;36m_vectorize_call\u001b[1;34m(self, func, args)\u001b[0m\n\u001b[0;32m   2195\u001b[0m                       for a in args]\n\u001b[0;32m   2196\u001b[0m \u001b[1;33m\u001b[0m\u001b[0m\n\u001b[1;32m-> 2197\u001b[1;33m             \u001b[0moutputs\u001b[0m \u001b[1;33m=\u001b[0m \u001b[0mufunc\u001b[0m\u001b[1;33m(\u001b[0m\u001b[1;33m*\u001b[0m\u001b[0minputs\u001b[0m\u001b[1;33m)\u001b[0m\u001b[1;33m\u001b[0m\u001b[1;33m\u001b[0m\u001b[0m\n\u001b[0m\u001b[0;32m   2198\u001b[0m \u001b[1;33m\u001b[0m\u001b[0m\n\u001b[0;32m   2199\u001b[0m             \u001b[1;32mif\u001b[0m \u001b[0mufunc\u001b[0m\u001b[1;33m.\u001b[0m\u001b[0mnout\u001b[0m \u001b[1;33m==\u001b[0m \u001b[1;36m1\u001b[0m\u001b[1;33m:\u001b[0m\u001b[1;33m\u001b[0m\u001b[1;33m\u001b[0m\u001b[0m\n",
      "\u001b[1;32m~\\AppData\\Local\\Temp/ipykernel_1052/3260650435.py\u001b[0m in \u001b[0;36mB_static\u001b[1;34m(x, y, z)\u001b[0m\n\u001b[0;32m      3\u001b[0m     \u001b[1;33m+\u001b[0m \u001b[0mB_static_component\u001b[0m\u001b[1;33m(\u001b[0m\u001b[1;33m-\u001b[0m\u001b[0mx\u001b[0m\u001b[1;33m,\u001b[0m\u001b[1;33m-\u001b[0m\u001b[0my\u001b[0m\u001b[1;33m,\u001b[0m\u001b[0mz\u001b[0m\u001b[1;33m)\u001b[0m \u001b[1;33m+\u001b[0m \u001b[0mB_static_component\u001b[0m\u001b[1;33m(\u001b[0m\u001b[1;33m-\u001b[0m\u001b[0mx\u001b[0m\u001b[1;33m,\u001b[0m\u001b[1;33m-\u001b[0m\u001b[0my\u001b[0m\u001b[1;33m,\u001b[0m\u001b[1;33m-\u001b[0m\u001b[0mz\u001b[0m\u001b[1;33m)\u001b[0m\u001b[0;31m \u001b[0m\u001b[0;31m\\\u001b[0m\u001b[1;33m\u001b[0m\u001b[1;33m\u001b[0m\u001b[0m\n\u001b[0;32m      4\u001b[0m     \u001b[1;33m+\u001b[0m \u001b[0mB_static_component\u001b[0m\u001b[1;33m(\u001b[0m\u001b[0mx\u001b[0m\u001b[1;33m,\u001b[0m\u001b[0my\u001b[0m\u001b[1;33m,\u001b[0m\u001b[0mz\u001b[0m\u001b[1;33m)\u001b[0m \u001b[1;33m+\u001b[0m \u001b[0mB_static_component\u001b[0m\u001b[1;33m(\u001b[0m\u001b[0mx\u001b[0m\u001b[1;33m,\u001b[0m\u001b[0my\u001b[0m\u001b[1;33m,\u001b[0m\u001b[1;33m-\u001b[0m\u001b[0mz\u001b[0m\u001b[1;33m)\u001b[0m\u001b[0;31m \u001b[0m\u001b[0;31m\\\u001b[0m\u001b[1;33m\u001b[0m\u001b[1;33m\u001b[0m\u001b[0m\n\u001b[1;32m----> 5\u001b[1;33m     \u001b[1;33m+\u001b[0m \u001b[0mB_static_component\u001b[0m\u001b[1;33m(\u001b[0m\u001b[0mx\u001b[0m\u001b[1;33m,\u001b[0m\u001b[1;33m-\u001b[0m\u001b[0my\u001b[0m\u001b[1;33m,\u001b[0m\u001b[0mz\u001b[0m\u001b[1;33m)\u001b[0m \u001b[1;33m+\u001b[0m \u001b[0mB_static_component\u001b[0m\u001b[1;33m(\u001b[0m\u001b[0mx\u001b[0m\u001b[1;33m,\u001b[0m\u001b[1;33m-\u001b[0m\u001b[0my\u001b[0m\u001b[1;33m,\u001b[0m\u001b[1;33m-\u001b[0m\u001b[0mz\u001b[0m\u001b[1;33m)\u001b[0m\u001b[1;33m\u001b[0m\u001b[1;33m\u001b[0m\u001b[0m\n\u001b[0m\u001b[0;32m      6\u001b[0m     \u001b[1;32mreturn\u001b[0m \u001b[0msum_B_static_component\u001b[0m\u001b[1;33m\u001b[0m\u001b[1;33m\u001b[0m\u001b[0m\n",
      "\u001b[1;32m~\\AppData\\Local\\Temp/ipykernel_1052/849177668.py\u001b[0m in \u001b[0;36mB_static_component\u001b[1;34m(x, y, z)\u001b[0m\n\u001b[0;32m      1\u001b[0m \u001b[1;32mdef\u001b[0m \u001b[0mB_static_component\u001b[0m\u001b[1;33m(\u001b[0m\u001b[0mx\u001b[0m\u001b[1;33m,\u001b[0m\u001b[0my\u001b[0m\u001b[1;33m,\u001b[0m\u001b[0mz\u001b[0m\u001b[1;33m)\u001b[0m\u001b[1;33m:\u001b[0m\u001b[1;33m\u001b[0m\u001b[1;33m\u001b[0m\u001b[0m\n\u001b[0;32m      2\u001b[0m     \u001b[0mB_0\u001b[0m \u001b[1;33m=\u001b[0m \u001b[1;36m0.5\u001b[0m \u001b[1;31m# T/m\u001b[0m\u001b[1;33m\u001b[0m\u001b[1;33m\u001b[0m\u001b[0m\n\u001b[1;32m----> 3\u001b[1;33m     \u001b[0mF_1\u001b[0m \u001b[1;33m=\u001b[0m \u001b[0mmath\u001b[0m\u001b[1;33m.\u001b[0m\u001b[0matan\u001b[0m\u001b[1;33m(\u001b[0m\u001b[1;33m(\u001b[0m\u001b[0mx\u001b[0m\u001b[1;33m+\u001b[0m\u001b[0mb_x\u001b[0m\u001b[1;33m/\u001b[0m\u001b[1;36m2\u001b[0m\u001b[1;33m)\u001b[0m\u001b[1;33m*\u001b[0m\u001b[1;33m(\u001b[0m\u001b[0my\u001b[0m\u001b[1;33m+\u001b[0m\u001b[0mb_y\u001b[0m\u001b[1;33m/\u001b[0m\u001b[1;36m2\u001b[0m\u001b[1;33m)\u001b[0m\u001b[1;33m/\u001b[0m\u001b[1;33m(\u001b[0m\u001b[1;33m(\u001b[0m\u001b[0mz\u001b[0m\u001b[1;33m+\u001b[0m\u001b[0mb_z\u001b[0m\u001b[1;33m/\u001b[0m\u001b[1;36m2\u001b[0m\u001b[1;33m)\u001b[0m\u001b[1;33m*\u001b[0m\u001b[0msqrt\u001b[0m\u001b[1;33m(\u001b[0m\u001b[1;33m(\u001b[0m\u001b[0mx\u001b[0m\u001b[1;33m+\u001b[0m\u001b[0mb_x\u001b[0m\u001b[1;33m/\u001b[0m\u001b[1;36m2\u001b[0m\u001b[1;33m)\u001b[0m\u001b[1;33m**\u001b[0m\u001b[1;36m2\u001b[0m\u001b[1;33m+\u001b[0m\u001b[1;33m(\u001b[0m\u001b[0my\u001b[0m\u001b[1;33m+\u001b[0m\u001b[0mb_y\u001b[0m\u001b[1;33m/\u001b[0m\u001b[1;36m2\u001b[0m\u001b[1;33m)\u001b[0m\u001b[1;33m**\u001b[0m\u001b[1;36m2\u001b[0m\u001b[1;33m+\u001b[0m\u001b[1;33m(\u001b[0m\u001b[0mz\u001b[0m\u001b[1;33m+\u001b[0m\u001b[0mb_z\u001b[0m\u001b[1;33m/\u001b[0m\u001b[1;36m2\u001b[0m\u001b[1;33m)\u001b[0m\u001b[1;33m**\u001b[0m\u001b[1;36m2\u001b[0m\u001b[1;33m)\u001b[0m\u001b[1;33m)\u001b[0m\u001b[1;33m)\u001b[0m\u001b[1;33m\u001b[0m\u001b[1;33m\u001b[0m\u001b[0m\n\u001b[0m\u001b[0;32m      4\u001b[0m     \u001b[1;32mreturn\u001b[0m \u001b[1;33m-\u001b[0m\u001b[0mB_0\u001b[0m\u001b[1;33m*\u001b[0m\u001b[0mF_1\u001b[0m\u001b[1;33m/\u001b[0m\u001b[1;33m(\u001b[0m\u001b[1;36m2\u001b[0m\u001b[1;33m*\u001b[0m\u001b[0mpi\u001b[0m\u001b[1;33m)\u001b[0m\u001b[1;33m\u001b[0m\u001b[1;33m\u001b[0m\u001b[0m\n",
      "\u001b[1;31mKeyboardInterrupt\u001b[0m: "
     ]
    },
    {
     "data": {
      "image/png": "[encoded data removed]",
      "text/plain": [
       "<Figure size 432x288 with 1 Axes>"
      ]
     },
     "metadata": {
      "needs_background": "light"
     },
     "output_type": "display_data"
    }
   ],
   "source": [
    "N=1000\n",
    "feature_x=np.linspace(-b_x, b_x, N)\n",
    "feature_y=np.linspace(-b_y, b_y, N)\n",
    "[X, Y] = np.meshgrid(feature_x, feature_y)\n",
    "\n",
    "B_static_vector = np.vectorize(B_static)\n",
    "\n",
    "z_above = 2e-4\n",
    "z_shift = 1e-4 # m\n",
    "\n",
    "fig1, ax1 = plt.subplots(1, 1)\n",
    "c1 = ax1.contourf(X, Y, B_static_vector(X, Y, z_above))\n",
    "cbar1 = fig1.colorbar(c1)\n",
    "cbar1.ax.set_ylabel('Magnetic Field (T)')\n",
    "\n",
    "N_total = 20 \n",
    "sum_B_static_vector = B_static_vector(X,Y,z_shift)\n",
    "for N_stack in trange(N_total):\n",
    "    #print(N_stack)\n",
    "    sum_B_static_vector += B_static_vector(X,Y,z_above+(N_stack+1)*b_z)\n",
    "\n",
    "fig2, ax2 = plt.subplots(1, 1)\n",
    "c2 = ax2.contourf(X, Y, sum_B_static_vector)\n",
    "cbar2 = fig2.colorbar(c2)\n",
    "cbar2.ax.set_ylabel('Magnetic Field (T)')\n"
   ]
  }
 ],
 "metadata": {
  "kernelspec": {
   "display_name": "Python 3 (ipykernel)",
   "language": "python",
   "name": "python3"
  },
  "language_info": {
   "codemirror_mode": {
    "name": "ipython",
    "version": 3
   },
   "file_extension": ".py",
   "mimetype": "text/x-python",
   "name": "python",
   "nbconvert_exporter": "python",
   "pygments_lexer": "ipython3",
   "version": "3.9.7"
  }
 },
 "nbformat": 4,
 "nbformat_minor": 5
}
