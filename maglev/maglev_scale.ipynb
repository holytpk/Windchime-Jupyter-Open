{
 "cells": [
  {
   "cell_type": "code",
   "execution_count": 2,
   "id": "lucky-region",
   "metadata": {},
   "outputs": [],
   "source": [
    "import scipy\n",
    "import numpy as np\n",
    "import pandas as pd\n",
    "import matplotlib.pyplot as plt\n",
    "import magpylib as magpy\n",
    "from scipy.spatial.transform import Rotation as R\n",
    "import scipy.constants as constants\n",
    "from scipy import stats\n",
    "from math import pi, sqrt, ceil, log \n",
    "from scipy.optimize import curve_fit\n",
    "from scipy import constants\n",
    "import jdc\n",
    "import math\n",
    "\n",
    "from scipy.integrate import quad\n",
    "from scipy.optimize import fsolve\n",
    "from scipy.special import kn"
   ]
  },
  {
   "cell_type": "code",
   "execution_count": 10,
   "id": "22de295f",
   "metadata": {},
   "outputs": [],
   "source": [
    "b_x=0.003 # m\n",
    "b_y=0.003 # m\n",
    "b_z=0.001 # m"
   ]
  },
  {
   "cell_type": "markdown",
   "id": "signed-replication",
   "metadata": {},
   "source": [
    "$\\textbf{F}_\\textbf{B}=\\nabla\\int_V\\textbf{M}\\cdot\\textbf{B}{dV}=\\frac{\\mu_0}{2}\\int_V\\nabla(\\chi_x H_x^2+\\chi_y H_y^2 + \\chi_z H_z^2){dV}$\n",
    "\n",
    "$    B^{(1)}_z(x,y,z)=-\\frac{B_0}{2\\pi}[F_1(-x,y,z)+F_1(-x,y,-z)\\\\\n",
    "    +F_1(-x,-y,z)+F_1(-x,-y,-z)\\\\\n",
    "    +F_1(x,y,z)+F_1(x,y,-z)\\\\\n",
    "    +F_1(x,-y,z)+F_1(x,-y,-z)]$\n",
    "    \n",
    "$F_1(x,y,z)=\\\\\n",
    "tan^{-1}\\left[\\frac{(x+\\frac{b_x}{2})(y+\\frac{b_y}{2})}{(z+\\frac{b_z}{2})\\sqrt{(x+\\frac{b_x}{2})^2+(y+\\frac{b_y}{2})^2+(z+\\frac{b_z}{2})^2}}\\right]$"
   ]
  },
  {
   "cell_type": "code",
   "execution_count": 11,
   "id": "hundred-luxury",
   "metadata": {},
   "outputs": [],
   "source": [
    "def B_static_component(x,y,z):\n",
    "\n",
    "    B_0 = 0.5 # T/m\n",
    "    F_1 = math.atan((x+b_x/2)*(y+b_y/2)/((z+b_z/2)*sqrt((x+b_x/2)**2+(y+b_y/2)**2+(z+b_z/2)**2)))\n",
    "    return -B_0*F_1/(2*pi)"
   ]
  },
  {
   "cell_type": "code",
   "execution_count": 12,
   "id": "personal-tissue",
   "metadata": {},
   "outputs": [],
   "source": [
    "def B_static(x,y,z):\n",
    "    sum_B_static_component = B_static_component(-x,y,z) + B_static_component(-x,y,-z) + \\\n",
    "    + B_static_component(-x,-y,z) + B_static_component(-x,-y,-z) \\\n",
    "    + B_static_component(x,-y,z) + B_static_component(x,-y,-z) \n",
    "    return sum_B_static_component"
   ]
  },
  {
   "cell_type": "code",
   "execution_count": 13,
   "id": "147dab83",
   "metadata": {},
   "outputs": [
    {
     "name": "stdout",
     "output_type": "stream",
     "text": [
      "-0.48396128\n"
     ]
    }
   ],
   "source": [
    "x=5e-4 # m\n",
    "y=5e-4 # m\n",
    "z=1e-4 # m\n",
    "\n",
    "print(\"{0:.8f}\".format(B_static(x,y,z)))"
   ]
  },
  {
   "cell_type": "code",
   "execution_count": 19,
   "id": "ec8ad38e",
   "metadata": {},
   "outputs": [
    {
     "data": {
      "text/plain": [
       "[<matplotlib.lines.Line2D at 0x19daa60a970>]"
      ]
     },
     "execution_count": 19,
     "metadata": {},
     "output_type": "execute_result"
    },
    {
     "data": {
      "image/png": "[encoded data removed]",
      "text/plain": [
       "<Figure size 432x288 with 1 Axes>"
      ]
     },
     "metadata": {
      "needs_background": "light"
     },
     "output_type": "display_data"
    }
   ],
   "source": [
    "z=np.linspace(0, 0.001, 10)\n",
    "B_static_vector = np.vectorize(B_static)\n",
    "plt.plot(z, B_static_vector(x,y,z))"
   ]
  },
  {
   "cell_type": "code",
   "execution_count": null,
   "id": "1c94eae2",
   "metadata": {},
   "outputs": [],
   "source": []
  }
 ],
 "metadata": {
  "kernelspec": {
   "display_name": "Python 3 (ipykernel)",
   "language": "python",
   "name": "python3"
  },
  "language_info": {
   "codemirror_mode": {
    "name": "ipython",
    "version": 3
   },
   "file_extension": ".py",
   "mimetype": "text/x-python",
   "name": "python",
   "nbconvert_exporter": "python",
   "pygments_lexer": "ipython3",
   "version": "3.9.7"
  }
 },
 "nbformat": 4,
 "nbformat_minor": 5
}
