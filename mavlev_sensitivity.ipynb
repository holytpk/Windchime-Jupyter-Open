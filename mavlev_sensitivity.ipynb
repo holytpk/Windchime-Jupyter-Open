{
 "cells": [
  {
   "cell_type": "code",
   "execution_count": 31,
   "id": "9f64f888",
   "metadata": {},
   "outputs": [],
   "source": [
    "import numpy as np\n",
    "import pandas as pd\n",
    "import matplotlib.pyplot as plt\n",
    "import magpylib as magpy\n",
    "from scipy.spatial.transform import Rotation as R\n",
    "import scipy.constants as constants\n",
    "import jdc"
   ]
  },
  {
   "cell_type": "markdown",
   "id": "cd838f1f",
   "metadata": {},
   "source": [
    "# Class: Simple Setup"
   ]
  },
  {
   "cell_type": "markdown",
   "id": "043c0f56",
   "metadata": {},
   "source": [
    "## Methods"
   ]
  },
  {
   "cell_type": "markdown",
   "id": "c1105199",
   "metadata": {},
   "source": [
    "### initialize_magnets(mag_dims,remanance_field)\n",
    "This method must be run before any other analysis may be done. Specifies the layout size and magnetization of the lower magnets in the setup.\n",
    "* mag_dims: the dimension of the lower magnets in millimeters\n",
    "* remanance_feild: the magnitization of the four magnets. Often seen on product website listed as $Br_{max}$ or similar\n",
    "\n",
    "RETURNS: None\n",
    "\n",
    "### show_magnets()\n",
    "Displays an interactive veiw of magnetic setup. Here it can be seen that _.initialize_magnets()_ populates the graph with four magnets. Each magnet will have opposing magnitization to the two next to it. Additionally, the magnets are rotated off axis by 45 degrees. This worked better with meshes used in later parts of the code.\n",
    "\n",
    "RETURNS: plotly 3D graph"
   ]
  },
  {
   "cell_type": "code",
   "execution_count": 32,
   "id": "2b4444bd",
   "metadata": {},
   "outputs": [],
   "source": [
    "class simple_setup:\n",
    "    def initialize_magnets(self,mag_dims,remanance_field):\n",
    "        \"\"\"Defines the magnets to be analyzed by later simple_setup methods. MUST BE\n",
    "        DEFINED BEFORE OTHER METHODS ARE USED. MAG_DIMS input must be in units of mm.\n",
    "        Defines magnets off axis, as this works better for the later methods that\n",
    "        analyze values related to the floating diamagnetic plate. The process for \n",
    "        inputing the magnetization of each magnet is also still in the works.\"\"\"\n",
    "        self.mag_dims = mag_dims\n",
    "        dim = mag_dims\n",
    "        \n",
    "        self.magnetization = remanance_field\n",
    "        rotate = R.from_rotvec(np.pi/4*np.array([0,0,1]))\n",
    "        sqrt2 = np.sqrt(2)\n",
    "\n",
    "        self.mag_configuration = magpy.Collection()\n",
    "        cube1 = magpy.magnet.Cuboid(magnetization=(0,0,-1*self.magnetization),dimension=(dim,dim,dim),\n",
    "                                    position=(0,-1/sqrt2*dim*1.05,-0.5*dim),orientation=rotate)\n",
    "        cube2 = magpy.magnet.Cuboid(magnetization=(0,0,self.magnetization),dimension=(dim,dim,dim),\n",
    "                                    position=(dim/sqrt2*1.05,0,-0.5*dim),orientation=rotate)\n",
    "        cube3 = magpy.magnet.Cuboid(magnetization=(0,0,self.magnetization),dimension=(dim,dim,dim),\n",
    "                                    position=(-1/sqrt2*dim*1.05,0,-0.5*dim),orientation=rotate)\n",
    "        cube4 = magpy.magnet.Cuboid(magnetization=(0,0,-1*self.magnetization),dimension=(dim,dim,dim),\n",
    "                                    position=(0,dim/sqrt2*1.05,-0.5*dim),orientation=rotate)\n",
    "        self.mag_configuration.add(cube1,cube2,cube3,cube4)\n",
    "        \n",
    "    def show_magnets(self):\n",
    "        \"\"\"Used to display a visualization of the magnetic setup.\"\"\"\n",
    "        self.mag_configuration.show(backend='plotly')"
   ]
  },
  {
   "cell_type": "markdown",
   "id": "71789bea",
   "metadata": {},
   "source": [
    "### diamag_plate(side_length,thickness,volume_fraction)\n",
    "Defines parameters of the levitating diamagnetic plate. In this code, the plate is assumed to be a square prism.\n",
    "* side_length: side length of plate in mm\n",
    "* thickness: thickness of plate in mm\n",
    "* volume_fraction: (0<float<1) volume of graphite in plate divided by total volume of plate. Part not filed with graphite are assumed to be filled with epoxy.\n",
    "\n",
    "RETURNS: None"
   ]
  },
  {
   "cell_type": "code",
   "execution_count": 33,
   "id": "5ff65490",
   "metadata": {},
   "outputs": [],
   "source": [
    "%%add_to simple_setup   \n",
    "def diamag_plate(self,side_length,thickness,volume_fraction):\n",
    "    \"\"\"Used to define the side length and thickness of the diamagnetic plate.\n",
    "    The volume fraction (i.e. volume_graphite/volume_plate) is also defined\n",
    "    with this method. Further, this method initialzes values that will be used\n",
    "    by later methods, such as the density of graphite and total density of the\n",
    "    plate.\"\"\"\n",
    "    self.plate_side_length = side_length\n",
    "    self.plate_thickness = thickness\n",
    "    self.volume_fraction = volume_fraction\n",
    "\n",
    "    self.rho_g = 2260\n",
    "    self.rho_e = 1100\n",
    "    self.density = self.rho_g*volume_fraction + self.rho_e*(1-volume_fraction)\n",
    "\n",
    "    self.rho_r = 5e-6\n",
    "    \n",
    "    self.plate_volume = (side_length/1000)**2*thickness/1000\n",
    "    self.plate_mass = self.plate_volume*self.density\n",
    "    print(self.plate_mass)"
   ]
  },
  {
   "cell_type": "markdown",
   "id": "b6a95513",
   "metadata": {},
   "source": [
    "### magnetic_feild_graph2D()\n",
    "Displays a streamplot of the magnetic feild created by the magnet configuration. Additionally, a contour plot is diplayed in the background to show the magnitude of the magnetic field.\n",
    "\n",
    "RETURNS: matplotlib streamplot/contourf"
   ]
  },
  {
   "cell_type": "code",
   "execution_count": 34,
   "id": "6998c277",
   "metadata": {},
   "outputs": [],
   "source": [
    "%%add_to simple_setup    \n",
    "def magnetic_field_graph2D(self):\n",
    "    \"\"\"Used to dipslay a 2D graph of the magnetic feild created by the magnets.\n",
    "    Can set which direction value equals zero with the zero_direction input.\"\"\"\n",
    "    dim = self.mag_dims\n",
    "    fig, ax = plt.subplots(1, 1, figsize=(13,5))\n",
    "\n",
    "    # create grid\n",
    "    ts = np.linspace(-2*dim, 2*dim, 50)\n",
    "    grid = np.array([[(x,0,z) for x in ts] for z in ts])\n",
    "\n",
    "    #find magnetic feild on grid\n",
    "    B = magpy.getB(self.mag_configuration, grid)/1000 #/1000 scales output to units of tesla\n",
    "    Bamp = np.linalg.norm(B, axis=2)\n",
    "    \n",
    "    #create countourplot\n",
    "    cp = ax.contourf(\n",
    "        grid[:,:,0], grid[:,:,2], Bamp,\n",
    "        levels=100,cmap='hsv_r')\n",
    "    #overlay streamplot\n",
    "    ax.streamplot(\n",
    "        grid[:,:,0], grid[:,:,2], B[:,:,0], B[:,:,2],\n",
    "        density=2,color='black')\n",
    "    \n",
    "    #set things on plot\n",
    "    xlabel = 'x-position [mm]'\n",
    "    ylabel = 'z-position [mm]'\n",
    "\n",
    "    ax.set(\n",
    "        title='Magnetic field of Congfiguration',\n",
    "        xlabel=xlabel,\n",
    "        ylabel=ylabel,\n",
    "        aspect=1)\n",
    "    \n",
    "    #include colorbar\n",
    "    plt.colorbar(cp, ax=ax, label='[T]')\n",
    "\n",
    "    plt.tight_layout()\n",
    "    plt.show()"
   ]
  },
  {
   "cell_type": "markdown",
   "id": "0df60104",
   "metadata": {},
   "source": [
    "### mag_force(plate_z)\n",
    "Finds the magnetic force acting on the plate at some point (0,0,z).\n",
    "* plate_z: the height of the plate off of the magnets\n",
    "\n",
    "Uses equation (3) from \"Diamagnetic composites for high-Q levitating resonators\" by Chen et al. (2022). That is,\n",
    "\n",
    "$\\textbf{F}_\\textbf{B}=\\nabla\\int_V\\textbf{M}\\cdot\\textbf{B}{dV}=\\frac{\\mu_0}{2}\\int_V\\nabla(\\chi_x H_x^2+\\chi_y H_y^2 + \\chi_z H_z^2){dV}$\n",
    "\n",
    "where $\\chi_x=\\chi_y=-85\\times 10^{-6}$, and $\\chi_z=-450\\times 10^{-6}$ are the magnetic susceptibility of the levitating plate in the x,y,z directions, $V$ is the volume of the plate, $\\textbf{B}$ is the magnetic field created by the magnets and $\\textbf{M}$ is the plate's resulting magnetization. The components of the magnetic field inside the plate are $H_{x,y,z}=B_{x,y,z}/\\mu$ where $\\mu \\approx \\mu_0$ is the magnetic permeability of graphite.\n",
    "\n",
    "RETURNS: numpy array of form (Fx,Fy,Fz) (units: N)"
   ]
  },
  {
   "cell_type": "code",
   "execution_count": 35,
   "id": "427c1f65",
   "metadata": {},
   "outputs": [],
   "source": [
    "%%add_to simple_setup   \n",
    "def mag_force(self,plate_z):\n",
    "    \"\"\"Calculates the magnetic force on the plate depending on its location.\"\"\"\n",
    "    #retrieve previously defined volume fraction\n",
    "    volume_fraction = self.volume_fraction\n",
    "    #use directional magnetic susceptibilities from paper.\n",
    "    sus_x = -85e-6\n",
    "    sus_y = -85e-6\n",
    "    sus_z = -450e-6\n",
    "\n",
    "    xy_points = 10\n",
    "    z_points = 5\n",
    "\n",
    "    #retreieve plate dimension\n",
    "    side_length = self.plate_side_length\n",
    "    thickness = self.plate_thickness\n",
    "    dim = self.mag_dims\n",
    "\n",
    "    #need delta values for integral\n",
    "    delta_x = side_length/1000/xy_points\n",
    "    delta_y = side_length/1000/xy_points\n",
    "    delta_z = thickness/1000/z_points\n",
    "    delta_V = delta_x*delta_y*delta_z\n",
    "\n",
    "    #define grid to find magnetic feild on\n",
    "    ts = np.linspace(0,side_length,xy_points)\n",
    "    zs = np.linspace(0,thickness,z_points)+plate_z\n",
    "    grid = np.array([[[(x,y,z) for z in zs] for y in ts] for x in ts])\n",
    "    \n",
    "    #find magnetic feild on grid\n",
    "    B = magpy.getB(self.mag_configuration,grid)/1000 #/1000 scales to units of T\n",
    "    #separate into directional components\n",
    "    Bx = B[:,:,0]\n",
    "    By = B[:,:,1]\n",
    "    Bz = B[:,:,2]\n",
    "    \n",
    "    #find feild on inside of diamagnetic plate\n",
    "    Hx = Bx/constants.mu_0 #mu_0 is approximate\n",
    "    Hy = By/constants.mu_0\n",
    "    Hz = Bz/constants.mu_0\n",
    "\n",
    "    #combine the total H-feild for integration\n",
    "    xterm = sus_x*Hx**2\n",
    "    yterm = sus_y*Hy**2\n",
    "    zterm = sus_z*Hz**2\n",
    "\n",
    "    Htotal_term = xterm+yterm+zterm\n",
    "\n",
    "    #find the gradient of the H-feild and separate into direction components\n",
    "    grad_Htotal_components = np.gradient(Htotal_term,*[delta_x,delta_y,delta_z])\n",
    "    grad_Htotal_x = grad_Htotal_components[0]\n",
    "    grad_Htotal_y = grad_Htotal_components[1]\n",
    "    grad_Htotal_z = grad_Htotal_components[2]\n",
    "    \n",
    "    #integrate each component to find the directional force vector at that location\n",
    "    Fx = np.sum(grad_Htotal_x*delta_V*constants.mu_0/2)*volume_fraction\n",
    "    Fy = np.sum(grad_Htotal_y*delta_V*constants.mu_0/2)*volume_fraction\n",
    "    Fz = np.sum(grad_Htotal_z*delta_V*constants.mu_0/2)*volume_fraction\n",
    "    return np.array([Fx,Fy,Fz])"
   ]
  },
  {
   "cell_type": "markdown",
   "id": "c5ccb5a9",
   "metadata": {},
   "source": [
    "### find_equilibrium_z()\n",
    "Finds the point where the upwards magnetic force and the downwards gravitational force are balanced. This is the point that you would expect the plate to levitate at. If resulting answer is equal to 0 then the plate would fail to levitate, if it is equal to the dimension of the magnets, then the plate will be ejected away from the plates.\n",
    "\n",
    "RETURNS: float (>0 but <mag_dims) (units: mm)"
   ]
  },
  {
   "cell_type": "code",
   "execution_count": 36,
   "id": "db7ea27b",
   "metadata": {},
   "outputs": [],
   "source": [
    "%%add_to simple_setup \n",
    "def find_equilibrium_z(self):\n",
    "    \"\"\"Find the point at which the upward force of the magnetic field is equal\n",
    "    and opposite to the gravitational force that the plate is also experiencing.\n",
    "    This tells you how high the plate should settle above the magnets.\"\"\"\n",
    "    \n",
    "    #define space to look for equilibrium z on\n",
    "    zs = np.linspace(0,self.mag_dims,1000)\n",
    "    \n",
    "    #find the total force exerted on the plate at each z location.\n",
    "    F_z = np.zeros(len(zs))\n",
    "    Fz_grav = self.plate_mass*constants.g\n",
    "    for i in range(0,len(zs)):\n",
    "        Fz_mag = self.mag_force(zs[i])[2]\n",
    "        F_tot_z = -1*Fz_mag-Fz_grav\n",
    "        F_z[i]=F_tot_z\n",
    "    \n",
    "    #find the point where the total z-force is closest to zero.\n",
    "    min_force = min(abs(F_z))\n",
    "    for i in range(0,len(F_z)):\n",
    "        if abs(F_z[i])==min_force:\n",
    "            return zs[i]"
   ]
  },
  {
   "cell_type": "markdown",
   "id": "47b44065",
   "metadata": {},
   "source": [
    "### z_res_frequency()\n",
    "Finds the resonant freqency of the plate. For this to be a valid solution, it should be confirmed with _.find_equilibrium_z()_ that the plate does levitate stably. Found using:\n",
    "\n",
    "$f_{res}=\\frac{1}{2\\pi}\\sqrt{\\frac{k}{m}}$ with $k=\\frac{dF_z}{dz}|_{z=z_0}$ where $z_0$ is the equilibrium point found above.\n",
    "\n",
    "RETURNS: float (units: Hz)"
   ]
  },
  {
   "cell_type": "code",
   "execution_count": 37,
   "id": "e8dc3ffe",
   "metadata": {},
   "outputs": [],
   "source": [
    "%%add_to simple_setup        \n",
    "def z_res_frequency(self):\n",
    "    \"\"\"This finds the resonant freqency of the plate near the equilibrium point.\n",
    "    This result seems pretty near the results that would be expected based on the\n",
    "    paper this code was developed from.\"\"\"\n",
    "    \n",
    "    #define points on z axis to determine the total force at each point\n",
    "    z0 = self.find_equilibrium_z()\n",
    "    thickness = self.plate_thickness\n",
    "    z = np.linspace(z0-thickness,z0+thickness,100)\n",
    "    delta_z = 2*self.plate_thickness/1000/100\n",
    "    \n",
    "    #find the force at each point\n",
    "    F_z = np.zeros(len(z))\n",
    "    Fz_grav = self.plate_mass*constants.g\n",
    "    for i in range(0,len(z)):\n",
    "        Fz_mag = self.mag_force(z[i])[2]\n",
    "        F_z[i]=Fz_mag\n",
    "    \n",
    "    #find the gradient of the z-force at each point and average to find k value\n",
    "    derFz_dz = np.gradient(F_z,*[delta_z])\n",
    "    k = np.mean(np.abs(derFz_dz))\n",
    "    \n",
    "    #use k value to find f_res\n",
    "    f_res = 1/(2*np.pi)*np.sqrt(k/self.plate_mass)\n",
    "    return f_res"
   ]
  },
  {
   "cell_type": "markdown",
   "id": "5a1e110c",
   "metadata": {},
   "source": [
    "### laplacian_B()\n",
    "Finds $\\nabla^2 \\textbf{B}$ in the diamagnetic plate. Uses equation (16) from the paper mentioned above. That is,\n",
    "\n",
    "$\\nabla^2 B = \\frac{\\int_{V_{plate}}(\\frac{dB}{dz})^2 {dV_{plate}}}{V_{plate}}$\n",
    "\n",
    "RETURNS: float (units: $(T/m)^2$)"
   ]
  },
  {
   "cell_type": "code",
   "execution_count": 38,
   "id": "dc852869",
   "metadata": {},
   "outputs": [],
   "source": [
    "%%add_to simple_setup\n",
    "def laplacian_B(self):\n",
    "    \"\"\"This function finds the laplacian of B over the volume of the diamagnetic plate.\n",
    "    This is needed to find the Q of the levitated magnet. Found following equation (2)\n",
    "    from the paper.\"\"\"\n",
    "    xy_points = 10\n",
    "    z_points = 3\n",
    "\n",
    "    #define grid in vacinity of plate\n",
    "    plate_z = self.find_equilibrium_z()\n",
    "    side_length = self.plate_side_length\n",
    "    thickness = self.plate_thickness\n",
    "\n",
    "    ts = np.linspace(0,side_length,xy_points)\n",
    "    zs = np.linspace(0,thickness,z_points)+plate_z\n",
    "    \n",
    "    #deltas needed for integration\n",
    "    delta_x = side_length/1000/xy_points\n",
    "    delta_y = side_length/1000/xy_points\n",
    "    delta_z = thickness/1000/z_points\n",
    "    delta_V = delta_x*delta_y*delta_z\n",
    "\n",
    "    #find magnetic feild on gride\n",
    "    grid = np.array([[[(x,y,z) for z in zs] for y in ts] for x in ts])\n",
    "    B = magpy.getB(self.mag_configuration,grid)/1000\n",
    "    B = np.sqrt(B[:,:,:,2]**2+B[:,:,:,1]**2+B[:,:,:,0]**2)\n",
    "    \n",
    "    #find gradient of magnetic field\n",
    "    dBdz = np.gradient(B,*[delta_z],axis=2)\n",
    "\n",
    "    #integrate via finite sum\n",
    "    laplac_B = np.sum(dBdz**2*delta_V)/(thickness*side_length**2/1000**3)\n",
    "\n",
    "    return laplac_B"
   ]
  },
  {
   "cell_type": "markdown",
   "id": "cf5ee57b",
   "metadata": {},
   "source": [
    "### find_Q()\n",
    "Finds the Q value of the oscillating diamagnetic plate. Found using equation (1) from the paper:\n",
    "\n",
    "$Q = \\frac{80\\pi f_{res}\\rho_r ((\\rho_g-\\rho_e)+\\rho_e/V_r)}{(C_rd)^2\\nabla^2 B}$\n",
    "\n",
    "where $\\rho_r$ is the resistivity, $\\rho_g$ is the density of graphite, $\\rho_e$ is the density of epoxy, $C_r$ is the effective particle size factor, $V_f$ is the volume fraction, and $d$ is the average size of graphite particle in the plate.\n",
    "\n",
    "RETURNS: float"
   ]
  },
  {
   "cell_type": "code",
   "execution_count": 39,
   "id": "e515de71",
   "metadata": {},
   "outputs": [],
   "source": [
    "%%add_to simple_setup    \n",
    "def find_Q(self):\n",
    "    \"\"\"Find the Q value of the osciallating plate under the\n",
    "    conditions currently defined for this class. Uses equation (1)\n",
    "    from the paper\"\"\"\n",
    "    \n",
    "    #find the Q-value\n",
    "    f_res = self.z_res_frequency()\n",
    "    laplacian_B = self.laplacian_B()\n",
    "    V_f = self.volume_fraction\n",
    "    C_r = 6.3\n",
    "    rho_g = 2260\n",
    "    rho_e = 1100\n",
    "    rho_r = 5e-6\n",
    "    d = 2.7e-6\n",
    "\n",
    "    Q_num = 80*f_res*rho_r*(rho_g-rho_e+rho_e/V_f)*np.pi\n",
    "    Q_den = (C_r*d)**2*laplacian_B\n",
    "\n",
    "    Q = Q_num/Q_den\n",
    "\n",
    "    return Q "
   ]
  },
  {
   "cell_type": "markdown",
   "id": "798401d6",
   "metadata": {},
   "source": [
    "### find_acc_sensitivity(tempreature)\n",
    "* tempreature: tempreature of the setup (in K)\n",
    "\n",
    "Finds the thermal noise limited acceleration sensitivity of the defined setup. Uses equation (17) from the paper. That is,\n",
    "\n",
    "$\\sqrt{S_{aa}}=\\sqrt{\\frac{8\\pi f_{res} k_{B} T}{mQ}}$\n",
    "\n",
    "RETURNS: float (units: nano-gs/$\\sqrt{\\textrm{Hz}}$)"
   ]
  },
  {
   "cell_type": "code",
   "execution_count": 40,
   "id": "8f322ea6",
   "metadata": {},
   "outputs": [],
   "source": [
    "%%add_to simple_setup\n",
    "def find_acc_sensitivity(self,tempreature):\n",
    "    \"\"\"Finds the acceleration sensitivity of the levitated diamagnetic plate.\n",
    "    Uses equation (17) from the paper.\"\"\"\n",
    "    T = tempreature\n",
    "    f_res = self.z_res_frequency()\n",
    "    Q = self.find_Q()\n",
    "\n",
    "    sqrt_Saa = np.sqrt(8*np.pi*f_res*constants.k*T/self.plate_mass/Q)/constants.g*1e9\n",
    "\n",
    "    return sqrt_Saa"
   ]
  },
  {
   "cell_type": "markdown",
   "id": "edc7923d",
   "metadata": {},
   "source": [
    "### add_plate(plate_z)\n",
    "* plate_z: height of plate above magnets (units: mm)\n",
    "\n",
    "This function adds the plate to the magnet configuration from above to derive emf in a pickup coil. It determines plate magnetization by find the magnetic feild at many points on the diamagnetic plate and then converting this into a auxilary $\\textbf{H}$ field before using the magnetic susceptibility to find the total magnetic susceptibility. That is,\n",
    "\n",
    "$\\textbf{H}_{x,y,z}\\approx \\textbf{B}_{x,y,z}/\\mu_0$ and $\\textbf{M}_{x,y,z}=\\chi_{x,y,z}\\textbf{H}_{x,y,z}$\n",
    "\n",
    "RETURNS: None (adds plate to magnet collection)\n",
    "\n",
    "### remove_plate()\n",
    "This function removes the plate from the previous function from the magnetic configuration. This allow it to be placed into a different location later.\n",
    "\n",
    "RETURNS: None (removes plate from magnet collection)"
   ]
  },
  {
   "cell_type": "code",
   "execution_count": 41,
   "id": "accda423",
   "metadata": {},
   "outputs": [],
   "source": [
    "%%add_to simple_setup\n",
    "def add_plate(self,plate_z):\n",
    "    #define variables relevent to plate\n",
    "    volume_fraction = self.volume_fraction\n",
    "    sus_x = -85e-6\n",
    "    sus_y = -85e-6\n",
    "    sus_z = -450e-6\n",
    "\n",
    "    xy_points = 5\n",
    "    z_points = 1\n",
    "\n",
    "    side_length = self.plate_side_length\n",
    "    thickness = self.plate_thickness\n",
    "    dim = self.mag_dims\n",
    "    \n",
    "    #need deltas for scaling\n",
    "    delta_x = side_length/xy_points\n",
    "    delta_y = side_length/xy_points\n",
    "    delta_z = thickness/z_points\n",
    "    delta_V = delta_x*delta_y*delta_z/1000**3\n",
    "    \n",
    "    #define grid in vacinity of plate\n",
    "    ts = np.linspace(-1*side_length/2,side_length/2,xy_points)\n",
    "    zs = np.linspace(0,thickness,z_points)+plate_z\n",
    "    \n",
    "    #define magpy collection that contains the peices of the diamagnetic plate\n",
    "    self.plate_pieces = []\n",
    "    for x in ts:\n",
    "        for y in ts:\n",
    "            for z in zs:\n",
    "                #find B at (x,y,z)\n",
    "                B = magpy.getB(self.mag_configuration,(x,y,z))/1000\n",
    "                #find H at (x,y,z)\n",
    "                H = B/constants.mu_0\n",
    "                #use H to find magnetization at (x,y,z)\n",
    "                #must multiply by 1000 to sclae to mT for input into magpylib object\n",
    "                Mx = H[0]*sus_x*1000*self.volume_fraction #units in mT\n",
    "                My = H[1]*sus_y*1000*self.volume_fraction\n",
    "                Mz = H[2]*sus_z*1000*self.volume_fraction\n",
    "                \n",
    "                #add new object to new magpylib collection\n",
    "                small_plate = magpy.magnet.Cuboid(magnetization=(Mx,My,Mz),\n",
    "                                                 position=(x,y,z),\n",
    "                                                 dimension=(delta_x,delta_y,delta_z))\n",
    "                self.plate_pieces.append(small_plate)\n",
    "                \n",
    "    #add magpylib plate collection to the collection containing the permanent magnets\n",
    "    self.mag_configuration.add(self.plate_pieces)\n",
    "    \n",
    "    \n",
    "def remove_plate(self):\n",
    "    #remove plate that was added by the method above.\n",
    "    self.mag_configuration.remove(self.plate_pieces)"
   ]
  },
  {
   "cell_type": "markdown",
   "id": "1a1ec0e4",
   "metadata": {},
   "source": [
    "### initialize_pickup_coil(z,radius,turns)\n",
    "* z: z axis location of pickup coil (units: mm)\n",
    "* radius: radius of pickup coil (units: mm)\n",
    "* turns: number of turns in pickup coil\n",
    "\n",
    "This function initializes the location and other parameters of the pickup coil used for measure the emf due to the movement of the diamagnetic plate.\n",
    "\n",
    "RETURNS: None\n",
    "\n",
    "### pickup_coil_flux()\n",
    "Finds the flux through the pickup coil defined by the method above based off of the current configuration of the magnets and diamagnetic plate.\n",
    "\n",
    "RETURNS: float (units: $\\textrm{T}\\cdot\\textrm{m}^2$)"
   ]
  },
  {
   "cell_type": "code",
   "execution_count": 42,
   "id": "aebe73f0",
   "metadata": {},
   "outputs": [],
   "source": [
    "%%add_to simple_setup\n",
    "def initialize_pickup_coil(self,z,radius,turns):\n",
    "    #define variable relevent to the pickup coil\n",
    "    #coil assumed to have normal vector in +z direction\n",
    "    self.pickup_coil_z = z\n",
    "    self.pickup_coil_radius = radius\n",
    "    self.pickup_turns = turns\n",
    "\n",
    "def pickup_coil_flux(self):\n",
    "    points = 10\n",
    "    radius = self.pickup_coil_radius\n",
    "    z = self.pickup_coil_z\n",
    "    \n",
    "    #define grid to find magnetic feild on\n",
    "    R = np.linspace(0,radius,points)\n",
    "    N = np.arange(points)*10\n",
    "    N[0] = 1\n",
    "    \n",
    "    x_list = []\n",
    "    y_list = []\n",
    "    B_flux_list = []\n",
    "    \n",
    "    for i in range(0,len(R)):\n",
    "        delta_R = radius/points\n",
    "        delta_theta = 2*np.pi/N[i]\n",
    "        theta = np.linspace(0,2*np.pi,N[i])\n",
    "        x = R[i]*np.cos(theta)\n",
    "        y = R[i]*np.sin(theta)\n",
    "        \n",
    "        for j in range(0,len(theta)):\n",
    "            x_list.append(x[j])\n",
    "            y_list.append(y[j])\n",
    "            \n",
    "            #find magnetic feild\n",
    "            B = magpy.getB(self.mag_configuration,(x[j],y[j],z))/1000\n",
    "            #only need z-direction of the magnetic feild as coil is oriented on z-axis\n",
    "            B_flux = B[2]*delta_R/1000*R[i]/1000*delta_theta\n",
    "            B_flux_list.append(B_flux) \n",
    "            \n",
    "    B_flux_array = np.array(B_flux_list)\n",
    "    #find sum of all small fluxes\n",
    "    B_flux_total = np.sum(B_flux_array)\n",
    "    \n",
    "    return B_flux_total*self.pickup_turns"
   ]
  },
  {
   "cell_type": "markdown",
   "id": "2139b32f",
   "metadata": {},
   "source": [
    "### emf(plate_z0,plate_z1,delta_t)\n",
    "* plate_z0: initial z location of plate\n",
    "* plate_z1: final z location of plate\n",
    "* delta_t: time the plate takes to move from *plate_z0* to *plate_z1*\n",
    "\n",
    "Finds the emf induced in the previously defined pickup coil based on the two heights for the diamagnetic plate and the time interval that the plate takes to move between locations. \n",
    "\n",
    "RETURNS: float (units: $T\\cdot m^2$)"
   ]
  },
  {
   "cell_type": "code",
   "execution_count": 43,
   "id": "f662dea4",
   "metadata": {},
   "outputs": [],
   "source": [
    "%%add_to simple_setup\n",
    "\n",
    "def emf(self,plate_z0,plate_z1,delta_t):\n",
    "    \"\"\"Find emf induced in pickup coil due to movement occuring over some time interval\"\"\"\n",
    "    #add plate peices at starting point\n",
    "    self.add_plate(plate_z0)\n",
    "    #find flux through pickup coil with plate at initial location\n",
    "    flux0 = self.pickup_coil_flux()\n",
    "    #remove the plate\n",
    "    self.remove_plate()\n",
    "    #place plate at second specified location\n",
    "    self.add_plate(plate_z1)\n",
    "    #find flux through pickup coil with plate at final location\n",
    "    flux1 = self.pickup_coil_flux()\n",
    "    #remove plate\n",
    "    self.remove_plate()\n",
    "    #find emf\n",
    "    emf = -1*(flux1-flux0)/delta_t\n",
    "    return emf"
   ]
  },
  {
   "cell_type": "markdown",
   "id": "dbcb91b5",
   "metadata": {},
   "source": [
    "### delta_B(plate_z0,plate_z1,location)\n",
    "* plate_z0: starting z location of the diamagnetic plate\n",
    "* plate_z1: ending z location of the diamagnetic plate\n",
    "* location: location that the change in the magnetic feild is being found at.\n",
    "\n",
    "Find the change in magentic feild at a location due to the movement of the diamagnetic plate.\n",
    "\n",
    "RETURNS: float (units: T)"
   ]
  },
  {
   "cell_type": "code",
   "execution_count": 44,
   "id": "b73f0ede",
   "metadata": {},
   "outputs": [],
   "source": [
    "%%add_to simple_setup\n",
    "\n",
    "def delta_B(self,plate_z0,plate_z1,location):\n",
    "    \"\"\"Find the change in magnetic field due to the movement of the plate at some location.\"\"\"\n",
    "    self.add_plate(plate_z0)\n",
    "    B0 = magpy.getB(self.mag_configuration,location)\n",
    "    B0 = np.sqrt(B0[0]**2+B0[1]**2+B0[2]**2)\n",
    "    self.remove_plate()\n",
    "    self.add_plate(plate_z1)\n",
    "    B1 = magpy.getB(self.mag_configuration,location)\n",
    "    B1 = np.sqrt(B1[0]**2+B1[1]**2+B1[2]**2)\n",
    "    delta_B = B1-B0\n",
    "    return delta_B"
   ]
  },
  {
   "cell_type": "markdown",
   "id": "2710fd6e",
   "metadata": {},
   "source": [
    "### save_model()\n",
    "Saves specification of model and list of flux through a single coil to files in the same directory. This allows to be done outside of this program.\n",
    "\n",
    "RETURNS: None (files saved to directory)"
   ]
  },
  {
   "cell_type": "code",
   "execution_count": 45,
   "id": "8ac4244a",
   "metadata": {},
   "outputs": [],
   "source": [
    "%%add_to simple_setup\n",
    "\n",
    "def save_model(self):\n",
    "    specs_dict = dict()\n",
    "    #magnet specs\n",
    "    specs_dict['magnet_dimensions']=self.mag_dims\n",
    "    specs_dict['magnet_magnetization']=self.magnetization\n",
    "    #pickup coil specs (assumes only 1 turn)\n",
    "    specs_dict['pickup_coil_radius']=self.pickup_coil_radius\n",
    "    specs_dict['pickup_coil_z']=self.pickup_coil_z\n",
    "    #plate specifications\n",
    "    specs_dict['plate_side_length']=self.plate_side_length\n",
    "    specs_dict['plate_thickness']=self.plate_thickness\n",
    "    specs_dict['plate_volume_fraction']=self.volume_fraction\n",
    "    specs_dict['plate_mass']=self.plate_mass*1000 # in grams\n",
    "    #general information\n",
    "    specs_dict['levitation_height']=self.find_equilibrium_z()\n",
    "    specs_dict['resonant_frequency']=self.z_res_frequency()\n",
    "    specs_dict['theory_Q']=self.find_Q()\n",
    "    #save data to file\n",
    "    specs_df = pd.DataFrame(specs_dict.items(),columns=['Quantity','Value'])\n",
    "    specs_df = specs_df.set_index('Quantity')\n",
    "    specs_df.to_csv('model_specs.csv')\n",
    "    print('model_specs.csv saved succesfully')\n",
    "    \n",
    "    points = 500\n",
    "    self.pickup_turns = 1\n",
    "    z = self.find_equilibrium_z()\n",
    "    zs = np.linspace(0,2*z,points)\n",
    "    flux_array = np.zeros(len(zs))\n",
    "    count = 0\n",
    "    for i in range(0,len(zs)):\n",
    "        self.add_plate(zs[i])\n",
    "        flux = self.pickup_coil_flux()\n",
    "        flux_array[i]=flux\n",
    "        self.remove_plate()\n",
    "        count=count+1\n",
    "        if count/points*100%20==0:\n",
    "            print(count/points*100,\"% complete\")\n",
    "    \n",
    "    flux_df=pd.DataFrame()\n",
    "    flux_df['z_plate']=zs\n",
    "    flux_df['flux']=flux_array\n",
    "    flux_df.set_index('z_plate')\n",
    "    print(flux_df)\n",
    "    flux_df.to_csv('model_flux.csv')\n",
    "    print('model_flux.csv saved successfully')"
   ]
  },
  {
   "cell_type": "markdown",
   "id": "8f94fbd4",
   "metadata": {},
   "source": [
    "# Tests"
   ]
  },
  {
   "cell_type": "code",
   "execution_count": 46,
   "id": "628563f2",
   "metadata": {},
   "outputs": [
    {
     "name": "stdout",
     "output_type": "stream",
     "text": [
      "0.0014125000000000003\n"
     ]
    }
   ],
   "source": [
    "mag_config = simple_setup()\n",
    "mag_config.initialize_magnets(25,1480)\n",
    "mag_config.diamag_plate(25,1,1)\n",
    "mag_config.initialize_pickup_coil(0,30,100)"
   ]
  },
  {
   "cell_type": "code",
   "execution_count": 47,
   "id": "93df4dcb",
   "metadata": {},
   "outputs": [
    {
     "data": {
      "application/vnd.plotly.v1+json": {
       "config": {
        "plotlyServerURL": "https://plot.ly"
       },
       "data": [
        {
         "color": "#2E91E5",
         "colorscale": [
          [
           0,
           "#00b050"
          ],
          [
           0.16,
           "#00b050"
          ],
          [
           0.26,
           "#dddddd"
          ],
          [
           0.74,
           "#dddddd"
          ],
          [
           0.8400000000000001,
           "#e71111"
          ],
          [
           1,
           "#e71111"
          ]
         ],
         "i": [
          7,
          0,
          0,
          0,
          4,
          4,
          2,
          6,
          4,
          0,
          3,
          7,
          15,
          8,
          8,
          8,
          12,
          12,
          10,
          14,
          12,
          8,
          11,
          15,
          23,
          16,
          16,
          16,
          20,
          20,
          18,
          22,
          20,
          16,
          19,
          23,
          31,
          24,
          24,
          24,
          28,
          28,
          26,
          30,
          28,
          24,
          27,
          31
         ],
         "intensity": [
          1,
          1,
          1,
          1,
          0,
          0,
          0,
          0,
          0,
          0,
          0,
          0,
          1,
          1,
          1,
          1,
          0,
          0,
          0,
          0,
          1,
          1,
          1,
          1,
          1,
          1,
          1,
          1,
          0,
          0,
          0,
          0
         ],
         "j": [
          0,
          7,
          1,
          2,
          6,
          7,
          1,
          2,
          5,
          5,
          2,
          2,
          8,
          15,
          9,
          10,
          14,
          15,
          9,
          10,
          13,
          13,
          10,
          10,
          16,
          23,
          17,
          18,
          22,
          23,
          17,
          18,
          21,
          21,
          18,
          18,
          24,
          31,
          25,
          26,
          30,
          31,
          25,
          26,
          29,
          29,
          26,
          26
         ],
         "k": [
          3,
          4,
          2,
          3,
          5,
          6,
          5,
          5,
          0,
          1,
          7,
          6,
          11,
          12,
          10,
          11,
          13,
          14,
          13,
          13,
          8,
          9,
          15,
          14,
          19,
          20,
          18,
          19,
          21,
          22,
          21,
          21,
          16,
          17,
          23,
          22,
          27,
          28,
          26,
          27,
          29,
          30,
          29,
          29,
          24,
          25,
          31,
          30
         ],
         "legendgroup": "Collection(id=3055849375488)",
         "name": "Collection(id=3055849375488)",
         "opacity": 1,
         "showlegend": true,
         "showscale": false,
         "type": "mesh3d",
         "x": [
          1.7763568394002505e-15,
          -17.67766952966369,
          -1.7763568394002505e-15,
          17.67766952966369,
          1.7763568394002505e-15,
          -17.67766952966369,
          -1.7763568394002505e-15,
          17.67766952966369,
          18.561553006146873,
          0.8838834764831809,
          18.561553006146866,
          36.239222535810555,
          18.561553006146873,
          0.8838834764831809,
          18.561553006146866,
          36.239222535810555,
          -18.561553006146866,
          -36.239222535810555,
          -18.561553006146873,
          -0.8838834764831809,
          -18.561553006146866,
          -36.239222535810555,
          -18.561553006146873,
          -0.8838834764831809,
          1.7763568394002505e-15,
          -17.67766952966369,
          -1.7763568394002505e-15,
          17.67766952966369,
          1.7763568394002505e-15,
          -17.67766952966369,
          -1.7763568394002505e-15,
          17.67766952966369
         ],
         "y": [
          -36.239222535810555,
          -18.561553006146873,
          -0.8838834764831809,
          -18.561553006146866,
          -36.239222535810555,
          -18.561553006146873,
          -0.8838834764831809,
          -18.561553006146866,
          -17.67766952966369,
          -1.7763568394002505e-15,
          17.67766952966369,
          1.7763568394002505e-15,
          -17.67766952966369,
          -1.7763568394002505e-15,
          17.67766952966369,
          1.7763568394002505e-15,
          -17.67766952966369,
          -1.7763568394002505e-15,
          17.67766952966369,
          1.7763568394002505e-15,
          -17.67766952966369,
          -1.7763568394002505e-15,
          17.67766952966369,
          1.7763568394002505e-15,
          0.8838834764831809,
          18.561553006146866,
          36.239222535810555,
          18.561553006146873,
          0.8838834764831809,
          18.561553006146866,
          36.239222535810555,
          18.561553006146873
         ],
         "z": [
          -25,
          -25,
          -25,
          -25,
          0,
          0,
          0,
          0,
          -25,
          -25,
          -25,
          -25,
          0,
          0,
          0,
          0,
          -25,
          -25,
          -25,
          -25,
          0,
          0,
          0,
          0,
          -25,
          -25,
          -25,
          -25,
          0,
          0,
          0,
          0
         ]
        }
       ],
       "layout": {
        "legend": {
         "itemsizing": "constant"
        },
        "scene": {
         "aspectmode": "manual",
         "aspectratio": {
          "x": 1,
          "y": 1,
          "z": 1
         },
         "camera": {
          "eye": {
           "x": 1,
           "y": -1.5,
           "z": 1.4
          }
         },
         "xaxis": {
          "autorange": false,
          "range": [
           -36.239222535810555,
           36.239222535810555
          ],
          "title": {
           "text": "x [mm]"
          }
         },
         "yaxis": {
          "autorange": false,
          "range": [
           -36.239222535810555,
           36.239222535810555
          ],
          "title": {
           "text": "y [mm]"
          }
         },
         "zaxis": {
          "autorange": false,
          "range": [
           -48.739222535810555,
           23.739222535810555
          ],
          "title": {
           "text": "z [mm]"
          }
         }
        },
        "template": {
         "data": {
          "bar": [
           {
            "error_x": {
             "color": "#2a3f5f"
            },
            "error_y": {
             "color": "#2a3f5f"
            },
            "marker": {
             "line": {
              "color": "#E5ECF6",
              "width": 0.5
             },
             "pattern": {
              "fillmode": "overlay",
              "size": 10,
              "solidity": 0.2
             }
            },
            "type": "bar"
           }
          ],
          "barpolar": [
           {
            "marker": {
             "line": {
              "color": "#E5ECF6",
              "width": 0.5
             },
             "pattern": {
              "fillmode": "overlay",
              "size": 10,
              "solidity": 0.2
             }
            },
            "type": "barpolar"
           }
          ],
          "carpet": [
           {
            "aaxis": {
             "endlinecolor": "#2a3f5f",
             "gridcolor": "white",
             "linecolor": "white",
             "minorgridcolor": "white",
             "startlinecolor": "#2a3f5f"
            },
            "baxis": {
             "endlinecolor": "#2a3f5f",
             "gridcolor": "white",
             "linecolor": "white",
             "minorgridcolor": "white",
             "startlinecolor": "#2a3f5f"
            },
            "type": "carpet"
           }
          ],
          "choropleth": [
           {
            "colorbar": {
             "outlinewidth": 0,
             "ticks": ""
            },
            "type": "choropleth"
           }
          ],
          "contour": [
           {
            "colorbar": {
             "outlinewidth": 0,
             "ticks": ""
            },
            "colorscale": [
             [
              0,
              "#0d0887"
             ],
             [
              0.1111111111111111,
              "#46039f"
             ],
             [
              0.2222222222222222,
              "#7201a8"
             ],
             [
              0.3333333333333333,
              "#9c179e"
             ],
             [
              0.4444444444444444,
              "#bd3786"
             ],
             [
              0.5555555555555556,
              "#d8576b"
             ],
             [
              0.6666666666666666,
              "#ed7953"
             ],
             [
              0.7777777777777778,
              "#fb9f3a"
             ],
             [
              0.8888888888888888,
              "#fdca26"
             ],
             [
              1,
              "#f0f921"
             ]
            ],
            "type": "contour"
           }
          ],
          "contourcarpet": [
           {
            "colorbar": {
             "outlinewidth": 0,
             "ticks": ""
            },
            "type": "contourcarpet"
           }
          ],
          "heatmap": [
           {
            "colorbar": {
             "outlinewidth": 0,
             "ticks": ""
            },
            "colorscale": [
             [
              0,
              "#0d0887"
             ],
             [
              0.1111111111111111,
              "#46039f"
             ],
             [
              0.2222222222222222,
              "#7201a8"
             ],
             [
              0.3333333333333333,
              "#9c179e"
             ],
             [
              0.4444444444444444,
              "#bd3786"
             ],
             [
              0.5555555555555556,
              "#d8576b"
             ],
             [
              0.6666666666666666,
              "#ed7953"
             ],
             [
              0.7777777777777778,
              "#fb9f3a"
             ],
             [
              0.8888888888888888,
              "#fdca26"
             ],
             [
              1,
              "#f0f921"
             ]
            ],
            "type": "heatmap"
           }
          ],
          "heatmapgl": [
           {
            "colorbar": {
             "outlinewidth": 0,
             "ticks": ""
            },
            "colorscale": [
             [
              0,
              "#0d0887"
             ],
             [
              0.1111111111111111,
              "#46039f"
             ],
             [
              0.2222222222222222,
              "#7201a8"
             ],
             [
              0.3333333333333333,
              "#9c179e"
             ],
             [
              0.4444444444444444,
              "#bd3786"
             ],
             [
              0.5555555555555556,
              "#d8576b"
             ],
             [
              0.6666666666666666,
              "#ed7953"
             ],
             [
              0.7777777777777778,
              "#fb9f3a"
             ],
             [
              0.8888888888888888,
              "#fdca26"
             ],
             [
              1,
              "#f0f921"
             ]
            ],
            "type": "heatmapgl"
           }
          ],
          "histogram": [
           {
            "marker": {
             "pattern": {
              "fillmode": "overlay",
              "size": 10,
              "solidity": 0.2
             }
            },
            "type": "histogram"
           }
          ],
          "histogram2d": [
           {
            "colorbar": {
             "outlinewidth": 0,
             "ticks": ""
            },
            "colorscale": [
             [
              0,
              "#0d0887"
             ],
             [
              0.1111111111111111,
              "#46039f"
             ],
             [
              0.2222222222222222,
              "#7201a8"
             ],
             [
              0.3333333333333333,
              "#9c179e"
             ],
             [
              0.4444444444444444,
              "#bd3786"
             ],
             [
              0.5555555555555556,
              "#d8576b"
             ],
             [
              0.6666666666666666,
              "#ed7953"
             ],
             [
              0.7777777777777778,
              "#fb9f3a"
             ],
             [
              0.8888888888888888,
              "#fdca26"
             ],
             [
              1,
              "#f0f921"
             ]
            ],
            "type": "histogram2d"
           }
          ],
          "histogram2dcontour": [
           {
            "colorbar": {
             "outlinewidth": 0,
             "ticks": ""
            },
            "colorscale": [
             [
              0,
              "#0d0887"
             ],
             [
              0.1111111111111111,
              "#46039f"
             ],
             [
              0.2222222222222222,
              "#7201a8"
             ],
             [
              0.3333333333333333,
              "#9c179e"
             ],
             [
              0.4444444444444444,
              "#bd3786"
             ],
             [
              0.5555555555555556,
              "#d8576b"
             ],
             [
              0.6666666666666666,
              "#ed7953"
             ],
             [
              0.7777777777777778,
              "#fb9f3a"
             ],
             [
              0.8888888888888888,
              "#fdca26"
             ],
             [
              1,
              "#f0f921"
             ]
            ],
            "type": "histogram2dcontour"
           }
          ],
          "mesh3d": [
           {
            "colorbar": {
             "outlinewidth": 0,
             "ticks": ""
            },
            "type": "mesh3d"
           }
          ],
          "parcoords": [
           {
            "line": {
             "colorbar": {
              "outlinewidth": 0,
              "ticks": ""
             }
            },
            "type": "parcoords"
           }
          ],
          "pie": [
           {
            "automargin": true,
            "type": "pie"
           }
          ],
          "scatter": [
           {
            "fillpattern": {
             "fillmode": "overlay",
             "size": 10,
             "solidity": 0.2
            },
            "type": "scatter"
           }
          ],
          "scatter3d": [
           {
            "line": {
             "colorbar": {
              "outlinewidth": 0,
              "ticks": ""
             }
            },
            "marker": {
             "colorbar": {
              "outlinewidth": 0,
              "ticks": ""
             }
            },
            "type": "scatter3d"
           }
          ],
          "scattercarpet": [
           {
            "marker": {
             "colorbar": {
              "outlinewidth": 0,
              "ticks": ""
             }
            },
            "type": "scattercarpet"
           }
          ],
          "scattergeo": [
           {
            "marker": {
             "colorbar": {
              "outlinewidth": 0,
              "ticks": ""
             }
            },
            "type": "scattergeo"
           }
          ],
          "scattergl": [
           {
            "marker": {
             "colorbar": {
              "outlinewidth": 0,
              "ticks": ""
             }
            },
            "type": "scattergl"
           }
          ],
          "scattermapbox": [
           {
            "marker": {
             "colorbar": {
              "outlinewidth": 0,
              "ticks": ""
             }
            },
            "type": "scattermapbox"
           }
          ],
          "scatterpolar": [
           {
            "marker": {
             "colorbar": {
              "outlinewidth": 0,
              "ticks": ""
             }
            },
            "type": "scatterpolar"
           }
          ],
          "scatterpolargl": [
           {
            "marker": {
             "colorbar": {
              "outlinewidth": 0,
              "ticks": ""
             }
            },
            "type": "scatterpolargl"
           }
          ],
          "scatterternary": [
           {
            "marker": {
             "colorbar": {
              "outlinewidth": 0,
              "ticks": ""
             }
            },
            "type": "scatterternary"
           }
          ],
          "surface": [
           {
            "colorbar": {
             "outlinewidth": 0,
             "ticks": ""
            },
            "colorscale": [
             [
              0,
              "#0d0887"
             ],
             [
              0.1111111111111111,
              "#46039f"
             ],
             [
              0.2222222222222222,
              "#7201a8"
             ],
             [
              0.3333333333333333,
              "#9c179e"
             ],
             [
              0.4444444444444444,
              "#bd3786"
             ],
             [
              0.5555555555555556,
              "#d8576b"
             ],
             [
              0.6666666666666666,
              "#ed7953"
             ],
             [
              0.7777777777777778,
              "#fb9f3a"
             ],
             [
              0.8888888888888888,
              "#fdca26"
             ],
             [
              1,
              "#f0f921"
             ]
            ],
            "type": "surface"
           }
          ],
          "table": [
           {
            "cells": {
             "fill": {
              "color": "#EBF0F8"
             },
             "line": {
              "color": "white"
             }
            },
            "header": {
             "fill": {
              "color": "#C8D4E3"
             },
             "line": {
              "color": "white"
             }
            },
            "type": "table"
           }
          ]
         },
         "layout": {
          "annotationdefaults": {
           "arrowcolor": "#2a3f5f",
           "arrowhead": 0,
           "arrowwidth": 1
          },
          "autotypenumbers": "strict",
          "coloraxis": {
           "colorbar": {
            "outlinewidth": 0,
            "ticks": ""
           }
          },
          "colorscale": {
           "diverging": [
            [
             0,
             "#8e0152"
            ],
            [
             0.1,
             "#c51b7d"
            ],
            [
             0.2,
             "#de77ae"
            ],
            [
             0.3,
             "#f1b6da"
            ],
            [
             0.4,
             "#fde0ef"
            ],
            [
             0.5,
             "#f7f7f7"
            ],
            [
             0.6,
             "#e6f5d0"
            ],
            [
             0.7,
             "#b8e186"
            ],
            [
             0.8,
             "#7fbc41"
            ],
            [
             0.9,
             "#4d9221"
            ],
            [
             1,
             "#276419"
            ]
           ],
           "sequential": [
            [
             0,
             "#0d0887"
            ],
            [
             0.1111111111111111,
             "#46039f"
            ],
            [
             0.2222222222222222,
             "#7201a8"
            ],
            [
             0.3333333333333333,
             "#9c179e"
            ],
            [
             0.4444444444444444,
             "#bd3786"
            ],
            [
             0.5555555555555556,
             "#d8576b"
            ],
            [
             0.6666666666666666,
             "#ed7953"
            ],
            [
             0.7777777777777778,
             "#fb9f3a"
            ],
            [
             0.8888888888888888,
             "#fdca26"
            ],
            [
             1,
             "#f0f921"
            ]
           ],
           "sequentialminus": [
            [
             0,
             "#0d0887"
            ],
            [
             0.1111111111111111,
             "#46039f"
            ],
            [
             0.2222222222222222,
             "#7201a8"
            ],
            [
             0.3333333333333333,
             "#9c179e"
            ],
            [
             0.4444444444444444,
             "#bd3786"
            ],
            [
             0.5555555555555556,
             "#d8576b"
            ],
            [
             0.6666666666666666,
             "#ed7953"
            ],
            [
             0.7777777777777778,
             "#fb9f3a"
            ],
            [
             0.8888888888888888,
             "#fdca26"
            ],
            [
             1,
             "#f0f921"
            ]
           ]
          },
          "colorway": [
           "#636efa",
           "#EF553B",
           "#00cc96",
           "#ab63fa",
           "#FFA15A",
           "#19d3f3",
           "#FF6692",
           "#B6E880",
           "#FF97FF",
           "#FECB52"
          ],
          "font": {
           "color": "#2a3f5f"
          },
          "geo": {
           "bgcolor": "white",
           "lakecolor": "white",
           "landcolor": "#E5ECF6",
           "showlakes": true,
           "showland": true,
           "subunitcolor": "white"
          },
          "hoverlabel": {
           "align": "left"
          },
          "hovermode": "closest",
          "mapbox": {
           "style": "light"
          },
          "paper_bgcolor": "white",
          "plot_bgcolor": "#E5ECF6",
          "polar": {
           "angularaxis": {
            "gridcolor": "white",
            "linecolor": "white",
            "ticks": ""
           },
           "bgcolor": "#E5ECF6",
           "radialaxis": {
            "gridcolor": "white",
            "linecolor": "white",
            "ticks": ""
           }
          },
          "scene": {
           "xaxis": {
            "backgroundcolor": "#E5ECF6",
            "gridcolor": "white",
            "gridwidth": 2,
            "linecolor": "white",
            "showbackground": true,
            "ticks": "",
            "zerolinecolor": "white"
           },
           "yaxis": {
            "backgroundcolor": "#E5ECF6",
            "gridcolor": "white",
            "gridwidth": 2,
            "linecolor": "white",
            "showbackground": true,
            "ticks": "",
            "zerolinecolor": "white"
           },
           "zaxis": {
            "backgroundcolor": "#E5ECF6",
            "gridcolor": "white",
            "gridwidth": 2,
            "linecolor": "white",
            "showbackground": true,
            "ticks": "",
            "zerolinecolor": "white"
           }
          },
          "shapedefaults": {
           "line": {
            "color": "#2a3f5f"
           }
          },
          "ternary": {
           "aaxis": {
            "gridcolor": "white",
            "linecolor": "white",
            "ticks": ""
           },
           "baxis": {
            "gridcolor": "white",
            "linecolor": "white",
            "ticks": ""
           },
           "bgcolor": "#E5ECF6",
           "caxis": {
            "gridcolor": "white",
            "linecolor": "white",
            "ticks": ""
           }
          },
          "title": {
           "x": 0.05
          },
          "xaxis": {
           "automargin": true,
           "gridcolor": "white",
           "linecolor": "white",
           "ticks": "",
           "title": {
            "standoff": 15
           },
           "zerolinecolor": "white",
           "zerolinewidth": 2
          },
          "yaxis": {
           "automargin": true,
           "gridcolor": "white",
           "linecolor": "white",
           "ticks": "",
           "title": {
            "standoff": 15
           },
           "zerolinecolor": "white",
           "zerolinewidth": 2
          }
         }
        }
       }
      },
      "text/html": [
       "<div>                            <div id=\"0742561e-ee77-4e8c-85c8-2dc8c66254f6\" class=\"plotly-graph-div\" style=\"height:525px; width:100%;\"></div>            <script type=\"text/javascript\">                require([\"plotly\"], function(Plotly) {                    window.PLOTLYENV=window.PLOTLYENV || {};                                    if (document.getElementById(\"0742561e-ee77-4e8c-85c8-2dc8c66254f6\")) {                    Plotly.newPlot(                        \"0742561e-ee77-4e8c-85c8-2dc8c66254f6\",                        [{\"color\":\"#2E91E5\",\"colorscale\":[[0.0,\"#00b050\"],[0.16,\"#00b050\"],[0.26,\"#dddddd\"],[0.74,\"#dddddd\"],[0.8400000000000001,\"#e71111\"],[1.0,\"#e71111\"]],\"i\":[7,0,0,0,4,4,2,6,4,0,3,7,15,8,8,8,12,12,10,14,12,8,11,15,23,16,16,16,20,20,18,22,20,16,19,23,31,24,24,24,28,28,26,30,28,24,27,31],\"intensity\":[1.0,1.0,1.0,1.0,0.0,0.0,0.0,0.0,0.0,0.0,0.0,0.0,1.0,1.0,1.0,1.0,0.0,0.0,0.0,0.0,1.0,1.0,1.0,1.0,1.0,1.0,1.0,1.0,0.0,0.0,0.0,0.0],\"j\":[0,7,1,2,6,7,1,2,5,5,2,2,8,15,9,10,14,15,9,10,13,13,10,10,16,23,17,18,22,23,17,18,21,21,18,18,24,31,25,26,30,31,25,26,29,29,26,26],\"k\":[3,4,2,3,5,6,5,5,0,1,7,6,11,12,10,11,13,14,13,13,8,9,15,14,19,20,18,19,21,22,21,21,16,17,23,22,27,28,26,27,29,30,29,29,24,25,31,30],\"legendgroup\":\"Collection(id=3055849375488)\",\"name\":\"Collection(id=3055849375488)\",\"opacity\":1,\"showlegend\":true,\"showscale\":false,\"x\":[1.7763568394002505e-15,-17.67766952966369,-1.7763568394002505e-15,17.67766952966369,1.7763568394002505e-15,-17.67766952966369,-1.7763568394002505e-15,17.67766952966369,18.561553006146873,0.8838834764831809,18.561553006146866,36.239222535810555,18.561553006146873,0.8838834764831809,18.561553006146866,36.239222535810555,-18.561553006146866,-36.239222535810555,-18.561553006146873,-0.8838834764831809,-18.561553006146866,-36.239222535810555,-18.561553006146873,-0.8838834764831809,1.7763568394002505e-15,-17.67766952966369,-1.7763568394002505e-15,17.67766952966369,1.7763568394002505e-15,-17.67766952966369,-1.7763568394002505e-15,17.67766952966369],\"y\":[-36.239222535810555,-18.561553006146873,-0.8838834764831809,-18.561553006146866,-36.239222535810555,-18.561553006146873,-0.8838834764831809,-18.561553006146866,-17.67766952966369,-1.7763568394002505e-15,17.67766952966369,1.7763568394002505e-15,-17.67766952966369,-1.7763568394002505e-15,17.67766952966369,1.7763568394002505e-15,-17.67766952966369,-1.7763568394002505e-15,17.67766952966369,1.7763568394002505e-15,-17.67766952966369,-1.7763568394002505e-15,17.67766952966369,1.7763568394002505e-15,0.8838834764831809,18.561553006146866,36.239222535810555,18.561553006146873,0.8838834764831809,18.561553006146866,36.239222535810555,18.561553006146873],\"z\":[-25.0,-25.0,-25.0,-25.0,0.0,0.0,0.0,0.0,-25.0,-25.0,-25.0,-25.0,0.0,0.0,0.0,0.0,-25.0,-25.0,-25.0,-25.0,0.0,0.0,0.0,0.0,-25.0,-25.0,-25.0,-25.0,0.0,0.0,0.0,0.0],\"type\":\"mesh3d\"}],                        {\"template\":{\"data\":{\"histogram2dcontour\":[{\"type\":\"histogram2dcontour\",\"colorbar\":{\"outlinewidth\":0,\"ticks\":\"\"},\"colorscale\":[[0.0,\"#0d0887\"],[0.1111111111111111,\"#46039f\"],[0.2222222222222222,\"#7201a8\"],[0.3333333333333333,\"#9c179e\"],[0.4444444444444444,\"#bd3786\"],[0.5555555555555556,\"#d8576b\"],[0.6666666666666666,\"#ed7953\"],[0.7777777777777778,\"#fb9f3a\"],[0.8888888888888888,\"#fdca26\"],[1.0,\"#f0f921\"]]}],\"choropleth\":[{\"type\":\"choropleth\",\"colorbar\":{\"outlinewidth\":0,\"ticks\":\"\"}}],\"histogram2d\":[{\"type\":\"histogram2d\",\"colorbar\":{\"outlinewidth\":0,\"ticks\":\"\"},\"colorscale\":[[0.0,\"#0d0887\"],[0.1111111111111111,\"#46039f\"],[0.2222222222222222,\"#7201a8\"],[0.3333333333333333,\"#9c179e\"],[0.4444444444444444,\"#bd3786\"],[0.5555555555555556,\"#d8576b\"],[0.6666666666666666,\"#ed7953\"],[0.7777777777777778,\"#fb9f3a\"],[0.8888888888888888,\"#fdca26\"],[1.0,\"#f0f921\"]]}],\"heatmap\":[{\"type\":\"heatmap\",\"colorbar\":{\"outlinewidth\":0,\"ticks\":\"\"},\"colorscale\":[[0.0,\"#0d0887\"],[0.1111111111111111,\"#46039f\"],[0.2222222222222222,\"#7201a8\"],[0.3333333333333333,\"#9c179e\"],[0.4444444444444444,\"#bd3786\"],[0.5555555555555556,\"#d8576b\"],[0.6666666666666666,\"#ed7953\"],[0.7777777777777778,\"#fb9f3a\"],[0.8888888888888888,\"#fdca26\"],[1.0,\"#f0f921\"]]}],\"heatmapgl\":[{\"type\":\"heatmapgl\",\"colorbar\":{\"outlinewidth\":0,\"ticks\":\"\"},\"colorscale\":[[0.0,\"#0d0887\"],[0.1111111111111111,\"#46039f\"],[0.2222222222222222,\"#7201a8\"],[0.3333333333333333,\"#9c179e\"],[0.4444444444444444,\"#bd3786\"],[0.5555555555555556,\"#d8576b\"],[0.6666666666666666,\"#ed7953\"],[0.7777777777777778,\"#fb9f3a\"],[0.8888888888888888,\"#fdca26\"],[1.0,\"#f0f921\"]]}],\"contourcarpet\":[{\"type\":\"contourcarpet\",\"colorbar\":{\"outlinewidth\":0,\"ticks\":\"\"}}],\"contour\":[{\"type\":\"contour\",\"colorbar\":{\"outlinewidth\":0,\"ticks\":\"\"},\"colorscale\":[[0.0,\"#0d0887\"],[0.1111111111111111,\"#46039f\"],[0.2222222222222222,\"#7201a8\"],[0.3333333333333333,\"#9c179e\"],[0.4444444444444444,\"#bd3786\"],[0.5555555555555556,\"#d8576b\"],[0.6666666666666666,\"#ed7953\"],[0.7777777777777778,\"#fb9f3a\"],[0.8888888888888888,\"#fdca26\"],[1.0,\"#f0f921\"]]}],\"surface\":[{\"type\":\"surface\",\"colorbar\":{\"outlinewidth\":0,\"ticks\":\"\"},\"colorscale\":[[0.0,\"#0d0887\"],[0.1111111111111111,\"#46039f\"],[0.2222222222222222,\"#7201a8\"],[0.3333333333333333,\"#9c179e\"],[0.4444444444444444,\"#bd3786\"],[0.5555555555555556,\"#d8576b\"],[0.6666666666666666,\"#ed7953\"],[0.7777777777777778,\"#fb9f3a\"],[0.8888888888888888,\"#fdca26\"],[1.0,\"#f0f921\"]]}],\"mesh3d\":[{\"type\":\"mesh3d\",\"colorbar\":{\"outlinewidth\":0,\"ticks\":\"\"}}],\"scatter\":[{\"fillpattern\":{\"fillmode\":\"overlay\",\"size\":10,\"solidity\":0.2},\"type\":\"scatter\"}],\"parcoords\":[{\"type\":\"parcoords\",\"line\":{\"colorbar\":{\"outlinewidth\":0,\"ticks\":\"\"}}}],\"scatterpolargl\":[{\"type\":\"scatterpolargl\",\"marker\":{\"colorbar\":{\"outlinewidth\":0,\"ticks\":\"\"}}}],\"bar\":[{\"error_x\":{\"color\":\"#2a3f5f\"},\"error_y\":{\"color\":\"#2a3f5f\"},\"marker\":{\"line\":{\"color\":\"#E5ECF6\",\"width\":0.5},\"pattern\":{\"fillmode\":\"overlay\",\"size\":10,\"solidity\":0.2}},\"type\":\"bar\"}],\"scattergeo\":[{\"type\":\"scattergeo\",\"marker\":{\"colorbar\":{\"outlinewidth\":0,\"ticks\":\"\"}}}],\"scatterpolar\":[{\"type\":\"scatterpolar\",\"marker\":{\"colorbar\":{\"outlinewidth\":0,\"ticks\":\"\"}}}],\"histogram\":[{\"marker\":{\"pattern\":{\"fillmode\":\"overlay\",\"size\":10,\"solidity\":0.2}},\"type\":\"histogram\"}],\"scattergl\":[{\"type\":\"scattergl\",\"marker\":{\"colorbar\":{\"outlinewidth\":0,\"ticks\":\"\"}}}],\"scatter3d\":[{\"type\":\"scatter3d\",\"line\":{\"colorbar\":{\"outlinewidth\":0,\"ticks\":\"\"}},\"marker\":{\"colorbar\":{\"outlinewidth\":0,\"ticks\":\"\"}}}],\"scattermapbox\":[{\"type\":\"scattermapbox\",\"marker\":{\"colorbar\":{\"outlinewidth\":0,\"ticks\":\"\"}}}],\"scatterternary\":[{\"type\":\"scatterternary\",\"marker\":{\"colorbar\":{\"outlinewidth\":0,\"ticks\":\"\"}}}],\"scattercarpet\":[{\"type\":\"scattercarpet\",\"marker\":{\"colorbar\":{\"outlinewidth\":0,\"ticks\":\"\"}}}],\"carpet\":[{\"aaxis\":{\"endlinecolor\":\"#2a3f5f\",\"gridcolor\":\"white\",\"linecolor\":\"white\",\"minorgridcolor\":\"white\",\"startlinecolor\":\"#2a3f5f\"},\"baxis\":{\"endlinecolor\":\"#2a3f5f\",\"gridcolor\":\"white\",\"linecolor\":\"white\",\"minorgridcolor\":\"white\",\"startlinecolor\":\"#2a3f5f\"},\"type\":\"carpet\"}],\"table\":[{\"cells\":{\"fill\":{\"color\":\"#EBF0F8\"},\"line\":{\"color\":\"white\"}},\"header\":{\"fill\":{\"color\":\"#C8D4E3\"},\"line\":{\"color\":\"white\"}},\"type\":\"table\"}],\"barpolar\":[{\"marker\":{\"line\":{\"color\":\"#E5ECF6\",\"width\":0.5},\"pattern\":{\"fillmode\":\"overlay\",\"size\":10,\"solidity\":0.2}},\"type\":\"barpolar\"}],\"pie\":[{\"automargin\":true,\"type\":\"pie\"}]},\"layout\":{\"autotypenumbers\":\"strict\",\"colorway\":[\"#636efa\",\"#EF553B\",\"#00cc96\",\"#ab63fa\",\"#FFA15A\",\"#19d3f3\",\"#FF6692\",\"#B6E880\",\"#FF97FF\",\"#FECB52\"],\"font\":{\"color\":\"#2a3f5f\"},\"hovermode\":\"closest\",\"hoverlabel\":{\"align\":\"left\"},\"paper_bgcolor\":\"white\",\"plot_bgcolor\":\"#E5ECF6\",\"polar\":{\"bgcolor\":\"#E5ECF6\",\"angularaxis\":{\"gridcolor\":\"white\",\"linecolor\":\"white\",\"ticks\":\"\"},\"radialaxis\":{\"gridcolor\":\"white\",\"linecolor\":\"white\",\"ticks\":\"\"}},\"ternary\":{\"bgcolor\":\"#E5ECF6\",\"aaxis\":{\"gridcolor\":\"white\",\"linecolor\":\"white\",\"ticks\":\"\"},\"baxis\":{\"gridcolor\":\"white\",\"linecolor\":\"white\",\"ticks\":\"\"},\"caxis\":{\"gridcolor\":\"white\",\"linecolor\":\"white\",\"ticks\":\"\"}},\"coloraxis\":{\"colorbar\":{\"outlinewidth\":0,\"ticks\":\"\"}},\"colorscale\":{\"sequential\":[[0.0,\"#0d0887\"],[0.1111111111111111,\"#46039f\"],[0.2222222222222222,\"#7201a8\"],[0.3333333333333333,\"#9c179e\"],[0.4444444444444444,\"#bd3786\"],[0.5555555555555556,\"#d8576b\"],[0.6666666666666666,\"#ed7953\"],[0.7777777777777778,\"#fb9f3a\"],[0.8888888888888888,\"#fdca26\"],[1.0,\"#f0f921\"]],\"sequentialminus\":[[0.0,\"#0d0887\"],[0.1111111111111111,\"#46039f\"],[0.2222222222222222,\"#7201a8\"],[0.3333333333333333,\"#9c179e\"],[0.4444444444444444,\"#bd3786\"],[0.5555555555555556,\"#d8576b\"],[0.6666666666666666,\"#ed7953\"],[0.7777777777777778,\"#fb9f3a\"],[0.8888888888888888,\"#fdca26\"],[1.0,\"#f0f921\"]],\"diverging\":[[0,\"#8e0152\"],[0.1,\"#c51b7d\"],[0.2,\"#de77ae\"],[0.3,\"#f1b6da\"],[0.4,\"#fde0ef\"],[0.5,\"#f7f7f7\"],[0.6,\"#e6f5d0\"],[0.7,\"#b8e186\"],[0.8,\"#7fbc41\"],[0.9,\"#4d9221\"],[1,\"#276419\"]]},\"xaxis\":{\"gridcolor\":\"white\",\"linecolor\":\"white\",\"ticks\":\"\",\"title\":{\"standoff\":15},\"zerolinecolor\":\"white\",\"automargin\":true,\"zerolinewidth\":2},\"yaxis\":{\"gridcolor\":\"white\",\"linecolor\":\"white\",\"ticks\":\"\",\"title\":{\"standoff\":15},\"zerolinecolor\":\"white\",\"automargin\":true,\"zerolinewidth\":2},\"scene\":{\"xaxis\":{\"backgroundcolor\":\"#E5ECF6\",\"gridcolor\":\"white\",\"linecolor\":\"white\",\"showbackground\":true,\"ticks\":\"\",\"zerolinecolor\":\"white\",\"gridwidth\":2},\"yaxis\":{\"backgroundcolor\":\"#E5ECF6\",\"gridcolor\":\"white\",\"linecolor\":\"white\",\"showbackground\":true,\"ticks\":\"\",\"zerolinecolor\":\"white\",\"gridwidth\":2},\"zaxis\":{\"backgroundcolor\":\"#E5ECF6\",\"gridcolor\":\"white\",\"linecolor\":\"white\",\"showbackground\":true,\"ticks\":\"\",\"zerolinecolor\":\"white\",\"gridwidth\":2}},\"shapedefaults\":{\"line\":{\"color\":\"#2a3f5f\"}},\"annotationdefaults\":{\"arrowcolor\":\"#2a3f5f\",\"arrowhead\":0,\"arrowwidth\":1},\"geo\":{\"bgcolor\":\"white\",\"landcolor\":\"#E5ECF6\",\"subunitcolor\":\"white\",\"showland\":true,\"showlakes\":true,\"lakecolor\":\"white\"},\"title\":{\"x\":0.05},\"mapbox\":{\"style\":\"light\"}}},\"scene\":{\"xaxis\":{\"range\":[-36.239222535810555,36.239222535810555],\"autorange\":false,\"title\":{\"text\":\"x [mm]\"}},\"yaxis\":{\"range\":[-36.239222535810555,36.239222535810555],\"autorange\":false,\"title\":{\"text\":\"y [mm]\"}},\"zaxis\":{\"range\":[-48.739222535810555,23.739222535810555],\"autorange\":false,\"title\":{\"text\":\"z [mm]\"}},\"aspectratio\":{\"x\":1,\"y\":1,\"z\":1},\"camera\":{\"eye\":{\"x\":1,\"y\":-1.5,\"z\":1.4}},\"aspectmode\":\"manual\"},\"legend\":{\"itemsizing\":\"constant\"}},                        {\"responsive\": true}                    ).then(function(){\n",
       "                            \n",
       "var gd = document.getElementById('0742561e-ee77-4e8c-85c8-2dc8c66254f6');\n",
       "var x = new MutationObserver(function (mutations, observer) {{\n",
       "        var display = window.getComputedStyle(gd).display;\n",
       "        if (!display || display === 'none') {{\n",
       "            console.log([gd, 'removed!']);\n",
       "            Plotly.purge(gd);\n",
       "            observer.disconnect();\n",
       "        }}\n",
       "}});\n",
       "\n",
       "// Listen for the removal of the full notebook cells\n",
       "var notebookContainer = gd.closest('#notebook-container');\n",
       "if (notebookContainer) {{\n",
       "    x.observe(notebookContainer, {childList: true});\n",
       "}}\n",
       "\n",
       "// Listen for the clearing of the current output cell\n",
       "var outputEl = gd.closest('.output');\n",
       "if (outputEl) {{\n",
       "    x.observe(outputEl, {childList: true});\n",
       "}}\n",
       "\n",
       "                        })                };                });            </script>        </div>"
      ]
     },
     "metadata": {},
     "output_type": "display_data"
    }
   ],
   "source": [
    "mag_config.show_magnets()"
   ]
  },
  {
   "cell_type": "code",
   "execution_count": 48,
   "id": "c1944521",
   "metadata": {},
   "outputs": [
    {
     "data": {
      "image/png": "[encoded data removed]",
      "text/plain": [
       "<Figure size 936x360 with 2 Axes>"
      ]
     },
     "metadata": {
      "needs_background": "light"
     },
     "output_type": "display_data"
    }
   ],
   "source": [
    "mag_config.magnetic_field_graph2D()"
   ]
  },
  {
   "cell_type": "code",
   "execution_count": 49,
   "id": "ba03a3bc",
   "metadata": {},
   "outputs": [
    {
     "name": "stdout",
     "output_type": "stream",
     "text": [
      "3.6286286286286287\n"
     ]
    }
   ],
   "source": [
    "z = mag_config.find_equilibrium_z() #units mm\n",
    "print(z)"
   ]
  },
  {
   "cell_type": "code",
   "execution_count": 50,
   "id": "ae6d0762",
   "metadata": {},
   "outputs": [
    {
     "name": "stdout",
     "output_type": "stream",
     "text": [
      "8.708870436832296\n"
     ]
    }
   ],
   "source": [
    "freq = mag_config.z_res_frequency() #units Hz\n",
    "print(freq)"
   ]
  },
  {
   "cell_type": "code",
   "execution_count": 51,
   "id": "cd965bdc",
   "metadata": {},
   "outputs": [
    {
     "data": {
      "text/plain": [
       "9637392.147376554"
      ]
     },
     "execution_count": 51,
     "metadata": {},
     "output_type": "execute_result"
    }
   ],
   "source": [
    "mag_config.find_Q() #unitless"
   ]
  },
  {
   "cell_type": "code",
   "execution_count": 52,
   "id": "e741540d",
   "metadata": {},
   "outputs": [
    {
     "data": {
      "text/plain": [
       "0.0014125000000000003"
      ]
     },
     "execution_count": 52,
     "metadata": {},
     "output_type": "execute_result"
    }
   ],
   "source": [
    "mag_config.plate_mass #in kg"
   ]
  },
  {
   "cell_type": "code",
   "execution_count": 53,
   "id": "27db8481",
   "metadata": {},
   "outputs": [
    {
     "data": {
      "text/plain": [
       "-0.40239580325385715"
      ]
     },
     "execution_count": 53,
     "metadata": {},
     "output_type": "execute_result"
    }
   ],
   "source": [
    "mag_config.emf(0.5*z,1.5*z,1/freq/2) #units V"
   ]
  },
  {
   "cell_type": "code",
   "execution_count": 54,
   "id": "773fe89f",
   "metadata": {},
   "outputs": [
    {
     "data": {
      "text/plain": [
       "0.000793832984363591"
      ]
     },
     "execution_count": 54,
     "metadata": {},
     "output_type": "execute_result"
    }
   ],
   "source": [
    "mag_config.find_acc_sensitivity(273)"
   ]
  },
  {
   "cell_type": "code",
   "execution_count": null,
   "id": "378eee04",
   "metadata": {},
   "outputs": [],
   "source": []
  }
 ],
 "metadata": {
  "kernelspec": {
   "display_name": "Python 3 (ipykernel)",
   "language": "python",
   "name": "python3"
  },
  "language_info": {
   "codemirror_mode": {
    "name": "ipython",
    "version": 3
   },
   "file_extension": ".py",
   "mimetype": "text/x-python",
   "name": "python",
   "nbconvert_exporter": "python",
   "pygments_lexer": "ipython3",
   "version": "3.9.7"
  }
 },
 "nbformat": 4,
 "nbformat_minor": 5
}
