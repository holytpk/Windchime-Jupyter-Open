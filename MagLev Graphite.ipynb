{
 "cells": [
  {
   "cell_type": "code",
   "execution_count": 3,
   "id": "2ce22a08",
   "metadata": {},
   "outputs": [],
   "source": [
    "import os\n",
    "import sys\n",
    "module_path = os.path.abspath(os.path.join('../..'))\n",
    "if module_path not in sys.path:\n",
    "    sys.path.append(module_path)\n",
    "import numpy as np\n",
    "from scipy import stats, signal\n",
    "import matplotlib.pyplot as plt\n",
    "from numba import njit\n",
    "import pandas as pd\n",
    "from tqdm import tqdm, trange"
   ]
  },
  {
   "cell_type": "markdown",
   "id": "33347ba9",
   "metadata": {},
   "source": [
    "The magnetic field is produced by the arrangement of NdFeB blocks with side length $b$ (can be $b_x$, $b_y$ or $b_z$), the individual contribution to the total field is $B^{(1)}_z(x,y,z)=-\\frac{B_0}{2\\pi}[F_1(-x,y,z)+F_1(-x,y,-z)+F_1(-x,-y,z)+F_1(-x,-y,-z)+F_1(x,y,z)+F_1(x,y,-z)+F_1(x,-y,z)+F_1(x,-y,-z)]$ with $F_1(x,y,z)=tan^{-1}\\left[\\frac{(x+\\frac{b_x}{2})(y+\\frac{b_y}{2})}{(z+\\frac{b_z}{2})\\sqrt{(x+\\frac{b_x}{2})^2+(y+\\frac{b_y}{2})^2+(z+\\frac{b_z}{2})^2}}\\right]$.\n",
    "\n",
    "The total kinetic energy is $T=\\frac{1}{2}\\tilde{\\dot{q}} \\cdot M \\cdot $\n",
    "\n",
    "The total potential is then $V=V_{mag}+V_{grav}=-\\frac{1}{2 \\mu_0}\\int_V(\\chi \\cdot \\vec{B_0} (\\psi^*(\\tilde{\\psi}, x^*, \\alpha^*))) \\cdot \\vec{B_0}(\\psi^*(\\tilde{\\psi}, x^*, \\alpha^*)))dV+mg(\\tilde{x_3}+x^*_3)$\n",
    "\n",
    "As we know, the Lagriangian of a system is $L=T-V$, is simply the difference between the kinetic energy and the potential energy. "
   ]
  },
  {
   "cell_type": "markdown",
   "id": "5c7b81b8",
   "metadata": {},
   "source": [
    "$\\Delta p = \\sqrt{\\frac{1}{m_{sensor}\\omega}}$\n",
    "\n",
    "$p_{signal} = \\frac{G_N m_\\chi m_{sensor}}{bv}$"
   ]
  },
  {
   "cell_type": "markdown",
   "id": "7d324bb5",
   "metadata": {},
   "source": [
    "The real solution of a driven magnetically levitated resonator is $\\ddot{x} + 2\\beta\\dot{x} + \\omega_0^2 x = A_0 \\cos(\\omega t)$ is:\n",
    "\n"
   ]
  },
  {
   "cell_type": "code",
   "execution_count": null,
   "id": "e64106a9",
   "metadata": {},
   "outputs": [],
   "source": []
  }
 ],
 "metadata": {
  "kernelspec": {
   "display_name": "Python 3 (ipykernel)",
   "language": "python",
   "name": "python3"
  },
  "language_info": {
   "codemirror_mode": {
    "name": "ipython",
    "version": 3
   },
   "file_extension": ".py",
   "mimetype": "text/x-python",
   "name": "python",
   "nbconvert_exporter": "python",
   "pygments_lexer": "ipython3",
   "version": "3.9.7"
  }
 },
 "nbformat": 4,
 "nbformat_minor": 5
}
