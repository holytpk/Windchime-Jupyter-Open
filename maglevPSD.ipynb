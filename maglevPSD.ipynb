{
 "cells": [
  {
   "cell_type": "code",
   "execution_count": null,
   "id": "hourly-vietnam",
   "metadata": {},
   "outputs": [],
   "source": [
    "# MagLev Noise Model of the Windchime Sensor \n",
    "#! pip install ipympl\n",
    "%matplotlib ipympl"
   ]
  },
  {
   "cell_type": "code",
   "execution_count": null,
   "id": "broke-protection",
   "metadata": {},
   "outputs": [],
   "source": [
    "import json\n",
    "import unittest\n",
    "import time\n",
    "\n",
    "import numpy as np\n",
    "import scipy\n",
    "from scipy import stats\n",
    "from math import pi, sqrt, ceil\n",
    "from scipy.optimize import curve_fit\n",
    "from scipy import constants\n",
    "from numba import njit, jit\n",
    "from tqdm import tqdm, trange\n",
    "\n",
    "%matplotlib inline\n",
    "import matplotlib # plotting libraries\n",
    "from matplotlib import animation, rc, cm\n",
    "import matplotlib.pyplot as plt\n",
    "import matplotlib.colors as clr\n",
    "from mpl_toolkits.mplot3d import Axes3D\n",
    "\n",
    "%matplotlib ipympl\n",
    "from ipywidgets import *\n",
    "import numpy as np\n",
    "import matplotlib.pyplot as plt\n",
    "from matplotlib.widgets import Slider\n",
    "\n",
    "#import plotting as pl\n",
    "\n",
    "from scipy.integrate import quad\n",
    "from scipy.optimize import fsolve\n",
    "from scipy.special import kn"
   ]
  },
  {
   "cell_type": "code",
   "execution_count": null,
   "id": "worldwide-characteristic",
   "metadata": {},
   "outputs": [],
   "source": []
  }
 ],
 "metadata": {
  "kernelspec": {
   "display_name": "Python 3",
   "language": "python",
   "name": "python3"
  },
  "language_info": {
   "codemirror_mode": {
    "name": "ipython",
    "version": 3
   },
   "file_extension": ".py",
   "mimetype": "text/x-python",
   "name": "python",
   "nbconvert_exporter": "python",
   "pygments_lexer": "ipython3",
   "version": "3.8.5"
  }
 },
 "nbformat": 4,
 "nbformat_minor": 5
}
