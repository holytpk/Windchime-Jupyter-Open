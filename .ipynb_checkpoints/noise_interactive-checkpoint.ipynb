{
 "cells": [
  {
   "cell_type": "code",
   "execution_count": 14,
   "id": "99857681",
   "metadata": {},
   "outputs": [],
   "source": [
    "#! pip install ipympl\n",
    "%matplotlib ipympl"
   ]
  },
  {
   "cell_type": "code",
   "execution_count": 15,
   "id": "92004fd1",
   "metadata": {},
   "outputs": [],
   "source": [
    "import json\n",
    "import unittest\n",
    "import time\n",
    "\n",
    "import numpy as np\n",
    "import scipy\n",
    "from scipy import stats\n",
    "from scipy.optimize import curve_fit\n",
    "from scipy import constants\n",
    "from numba import njit, jit\n",
    "from tqdm import tqdm, trange\n",
    "\n",
    "%matplotlib inline\n",
    "import matplotlib # plotting libraries\n",
    "from matplotlib import animation, rc, cm\n",
    "import matplotlib.pyplot as plt\n",
    "import matplotlib.colors as clr\n",
    "from mpl_toolkits.mplot3d import Axes3D\n",
    "\n",
    "%matplotlib ipympl\n",
    "from ipywidgets import *\n",
    "import numpy as np\n",
    "import matplotlib.pyplot as plt\n",
    "from matplotlib.widgets import Slider\n",
    "\n",
    "#import plotting as pl\n",
    "\n",
    "from scipy.integrate import quad\n",
    "from scipy.optimize import fsolve\n",
    "from scipy.special import kn\n",
    "\n",
    "#jupyter labextension install @jupyter-widgets/jupyterlab-manager\n",
    "#jupyter labextension install @jupyter-matplotlib"
   ]
  },
  {
   "cell_type": "code",
   "execution_count": 16,
   "id": "cabf1137",
   "metadata": {},
   "outputs": [],
   "source": [
    "Q = 1e6\n",
    "wo = 2*np.pi*1.94*10e14 #Hz\n",
    "Qo = 10*10e6\n",
    "v = 220e3 #m/s\n",
    "wm = 1e-2 #Hz\n",
    "planck_mass = 2.176434e-8 #kg\n",
    "l = 0.015 # cavity length. #EVAN ASSUMPTION.\n",
    "sensor_mass = 1e-3 #kg.\n",
    "sensor_density = 3.17*10**3 #silicon nitride\n",
    "Pin = 1\n",
    "\n",
    "T = 0.01 #K\n",
    "\n",
    "pressure = 1e-10 #Pa\n",
    "\n",
    "QNR = 10**(4.5)"
   ]
  },
  {
   "cell_type": "markdown",
   "id": "46aa00f4",
   "metadata": {},
   "source": [
    "# <center> Check the Noise Functions</center>"
   ]
  },
  {
   "cell_type": "code",
   "execution_count": 17,
   "id": "a53bd3ac",
   "metadata": {},
   "outputs": [],
   "source": [
    "#solving for individual sections of the noise model. \n",
    "                     \n",
    "def shot_noise(w,Pin,wo,Qo,l=l,w_m=wm,Q=Q,m=sensor_mass, use_G_opt=False, w_opt=1):\n",
    "    \n",
    "    h_bar = constants.hbar # checked.\n",
    "    gamma = float(w_m) / float(Q) # damping. # checked. \n",
    "    m = float(m) #checked.\n",
    "    k = wo/Qo #checked. \n",
    "    \n",
    "    G = np.sqrt(2)*wo*np.sqrt(Pin/(h_bar*wo*k))/l # checked. \n",
    "    if use_G_opt:\n",
    "        xc_opt = abs(k/(w_opt**2+(k**2)/4)) #checked\n",
    "        xm_opt = abs((1/m**2)/((w_opt**2-w_m**2)**2+(gamma**2)*w_opt**2))#checked. \n",
    "        G = np.sqrt(1/(h_bar*(xc_opt)*(xm_opt)**0.5))\n",
    "    abs_G = abs(G)\n",
    "    \n",
    "    abs_xc = abs(k/(w**2+(k**2)/4)) #checked\n",
    "    abs_xm = abs((1/m**2)/((w**2-w_m**2)**2+(gamma**2)*w**2))#checked. \n",
    "    \n",
    "    SN = 1/((abs_G**2)*(abs_xc)*(abs_xm))# checked.\n",
    "\n",
    "    return SN\n",
    "               \n",
    "def back_action(w, Pin, wo, Qo,l=l,w_m=wm,Q=Q,m=sensor_mass, use_G_opt=False, w_opt=1):\n",
    "    \n",
    "    h_bar = constants.hbar\n",
    "    gamma = float(w_m) / float(Q)\n",
    "    k = wo/Qo\n",
    "    G = np.sqrt(2)*wo*np.sqrt((Pin)/(h_bar*wo*k))/l # checked. \n",
    "    if use_G_opt:\n",
    "        xc_opt = abs(k/(w_opt**2+(k**2)/4)) #checked\n",
    "        xm_opt = abs((1/m**2)/((w_opt**2-w_m**2)**2+(gamma**2)*w_opt**2))#checked. \n",
    "        G = np.sqrt(1/(h_bar*(xc_opt)*(xm_opt)**0.5))\n",
    "    abs_G = abs(G)\n",
    "    \n",
    "    xc = k/(w**2+(k**2)/4) # checked.\n",
    "    abs_xc = abs(xc)\n",
    "\n",
    "    BA = (h_bar**2)*(abs_G**2)*(abs_xc) #checked. \n",
    "   \n",
    "    #print('BA is a ', type(BA))\n",
    "    return BA\n",
    "                 \n",
    "def thermal_noise(m, T, w_m, Q):\n",
    "\n",
    "    k_b = float(constants.k) # Boltzmann constant\n",
    "    m = float(m) # mass of sensor\n",
    "    T = float(np.array(T)) # temperature Kelvin\n",
    "    gamma = float(w_m) / float(Q) # damping.\n",
    "\n",
    "    TN = 4*k_b*m*T*gamma #checked. \n",
    "    #print('TN is a', type(TN))\n",
    "    return TN\n",
    "\n",
    "def thermal_noise_gas(T, sensor_mass=sensor_mass, sensor_density=sensor_density, pressure=pressure):\n",
    "\n",
    "    k_b = float(constants.k) # Boltzmann constant\n",
    "    gas_mass = 6.646e-27 # mass of Helium in kg.\n",
    "    T = float(np.array(T)) # temperature Kelvin\n",
    "    \n",
    "    sensor_radius = (sensor_mass/(4/3*np.pi*sensor_density))**(1/3)\n",
    "    sensor_area = (sensor_radius**2)*np.pi\n",
    "    \n",
    "    TN = pressure*sensor_area*np.sqrt(gas_mass*k_b*T)\n",
    "    \n",
    "    return TN"
   ]
  },
  {
   "cell_type": "markdown",
   "id": "8021b8c2",
   "metadata": {},
   "source": [
    "%matplotlib inline\n",
    "\n",
    "fig = plt.figure(figsize=(8, 6), dpi=110)\n",
    "ax = fig.add_subplot(111)\n",
    "\n",
    "X = np.logspace(-4,11,10000)\n",
    "SN = shot_noise(X, Pin=Pin, wo=wo, Qo=Qo, w_m=1, Q=1e4, use_G_opt=False, w_opt=1e6)\n",
    "BA = back_action(X, Pin=Pin, wo=wo, Qo=Qo, w_m=1, Q=1e4, use_G_opt=False, w_opt=1e6)\n",
    "TN = thermal_noise(m=sensor_mass, T=0.01, w_m=1, Q=1e4)\n",
    "TN_gas = thermal_noise_gas(T=0.01)\n",
    "\n",
    "ax.plot(X, SN, label='Shot noise')\n",
    "ax.plot(X, BA, label='Backaction')\n",
    "ax.plot(X, [TN]*len(X), label='Mechanical thermal noise')\n",
    "ax.plot(X, [TN_gas]*len(X), label='Gas thermal noise')\n",
    "\n",
    "ax.plot(X, SN+BA+TN+TN_gas, label='Total noise')\n",
    "\n",
    "ax.legend()\n",
    "ax.set(xscale='log', yscale='log', ylabel='Noise PSD (m^2/s^4)/Hz', xlabel='angular frequency (Hz)')\n",
    "\n",
    "plt.show()"
   ]
  },
  {
   "cell_type": "markdown",
   "id": "de722729",
   "metadata": {},
   "source": [
    "# <center>Now It's Time For Interactions!!</center>"
   ]
  },
  {
   "cell_type": "code",
   "execution_count": 42,
   "id": "dba1e3cf",
   "metadata": {},
   "outputs": [
    {
     "data": {
      "application/vnd.jupyter.widget-view+json": {
       "model_id": "4d4232c999f0444095f8a1522b10822b",
       "version_major": 2,
       "version_minor": 0
      },
      "text/plain": [
       "interactive(children=(FloatLogSlider(value=10000.0, description='Q', layout=Layout(width='80%'), max=8.0, step…"
      ]
     },
     "metadata": {},
     "output_type": "display_data"
    },
    {
     "data": {
      "application/vnd.jupyter.widget-view+json": {
       "model_id": "a41ff7ee0483471aae257949fc1cb21f",
       "version_major": 2,
       "version_minor": 0
      },
      "image/png": "[encoded data removed]",
      "text/html": [
       "\n",
       "            <div style=\"display: inline-block;\">\n",
       "                <div class=\"jupyter-widgets widget-label\" style=\"text-align: center;\">\n",
       "                    Figure\n",
       "                </div>\n",
       "                <img src='data:image/png;base64,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' width=880.0/>\n",
       "            </div>\n",
       "        "
      ],
      "text/plain": [
       "Canvas(toolbar=Toolbar(toolitems=[('Home', 'Reset original view', 'home', 'home'), ('Back', 'Back to previous …"
      ]
     },
     "metadata": {},
     "output_type": "display_data"
    }
   ],
   "source": [
    "%matplotlib inline\n",
    "%matplotlib ipympl\n",
    "X = np.logspace(-4,11,10000)\n",
    "\n",
    "fig = plt.figure(figsize=(8, 6), dpi=110)\n",
    "ax = fig.add_subplot(1, 1, 1)\n",
    "\n",
    "parameters = {'axes.labelsize': 20, 'axes.titlesize': 20, 'xtick.labelsize': 15, 'ytick.labelsize': 15, 'legend.fontsize':15}\n",
    "plt.rcParams.update(parameters)\n",
    "\n",
    "SN = shot_noise(X, Pin=Pin, wo=wo, Qo=Qo, w_m=1, Q=1e4, use_G_opt=False, w_opt=1e6)\n",
    "BA = back_action(X, Pin=Pin, wo=wo, Qo=Qo, w_m=1, Q=1e4, use_G_opt=False, w_opt=1e6)\n",
    "TN = thermal_noise(m=sensor_mass, T=0.01, w_m=1, Q=1e4)\n",
    "TNG = thermal_noise_gas(T=0.01)\n",
    "\n",
    "total_noise = SN+BA+TN+TNG\n",
    "\n",
    "line_SN, = ax.plot(X, SN)\n",
    "line_BA, = ax.plot(X, BA)\n",
    "line_TN, = ax.plot([TN])\n",
    "line_TNG, = ax.plot([TNG])\n",
    "line_tot = ax.plot(X, total_noise) \n",
    "\n",
    "def update(Q=widgets.FloatLogSlider(value=1e4,base=10,min=0,max=8,step=1e-10,description='Q', layout=widgets.Layout(width='80%')), \n",
    "           w_m=widgets.FloatLogSlider(value=1,base=10,min=0,max=10,step=1e-10, description='w_m (Hz)', layout=widgets.Layout(width='80%')),\n",
    "           wo=widgets.FloatLogSlider(value=2*np.pi*1.94*10e14,base=10,min=13,max=17,step=1e-10,description='w_0 (Hz)', layout=widgets.Layout(width='80%')),\n",
    "           Qo=widgets.FloatLogSlider(value=10*10e6,base=10,min=6,max=10,step=1e-10,description='Q_0', layout=widgets.Layout(width='80%')),\n",
    "           T=widgets.FloatSlider(value=0.01,min=0.01,max=400,step=0.01,description='T (K)', layout=widgets.Layout(width='80%')),\n",
    "           Pin=widgets.FloatLogSlider(value=1,base=10,min=-5,max=14,step=1e-10,description='P_input (W)', layout=widgets.Layout(width='80%'))\n",
    "           ):\n",
    "    \n",
    "    ax.clear()\n",
    "    ax.set(xscale='log',yscale='log', ylabel='Noise PSD ($m^2$/$s^4$)/Hz', xlabel='angular frequency (Hz)', title=' sensor_mass='+str(sensor_mass)+'kg, $\\gamma$= '+str(float('{:.8f}'.format(w_m/Q))))\n",
    "    ax.set_ylim([1e-53, 1e-3])\n",
    "    \n",
    "    SN = shot_noise(X, Pin=Pin, wo=wo, Qo=Qo, w_m=w_m, Q=Q, use_G_opt=False, w_opt=1e6)\n",
    "    BA = back_action(X, Pin=Pin, wo=wo, Qo=Qo, w_m=1, Q=1e4, use_G_opt=False, w_opt=1e6) \n",
    "    TN = thermal_noise_gas(T=T)\n",
    "    TNG = thermal_noise(m=sensor_mass, T=T, w_m=w_m, Q=Q)\n",
    "    \n",
    "    total_noise = SN+BA+TN+TNG\n",
    "    \n",
    "    ax.plot(X, SN, label='Shot Noise')\n",
    "    ax.plot(X, BA, label='Back-action')\n",
    "    ax.hlines(TN, xmin=X[0],xmax=X[-1], color='red', label='Thermal Noise of Gas')\n",
    "    ax.hlines(TNG,xmin=X[0],xmax=X[-1], color='green', label='Thermal Noise')\n",
    "    ax.plot(X, total_noise, color='purple', label='Total Noise')\n",
    "    \n",
    "    ax.legend()\n",
    "    label = '$\\omega$=' + '{:.2e}'.format(X[np.argmin(total_noise)]) + ' Hz \\n min. noise='+'{:.2e}'.format(min(total_noise))+' (m^2/s^4)/Hz'\n",
    "    plt.annotate(label, (X[np.argmin(total_noise)], min(total_noise)), textcoords=\"offset points\", xytext=(0,20), ha='center',arrowprops=dict(arrowstyle=\"->\"))\n",
    "    # print(\"SN vs. w = \", shot_noise(X, 1, w_m=w_m, Q=Q, use_G_opt=True, w_opt=1e6))\n",
    "    fig.canvas.draw_idle()\n",
    "    \n",
    "    print('min. freq.=', X[np.argmin(total_noise)], 'Hz, min. noise=', min(total_noise), '(m^2/s^4)/Hz')\n",
    "    \n",
    "interact(update);"
   ]
  },
  {
   "cell_type": "code",
   "execution_count": 19,
   "id": "216a4ce1",
   "metadata": {},
   "outputs": [
    {
     "name": "stderr",
     "output_type": "stream",
     "text": [
      "  0%|                                                                                          | 0/199 [00:00<?, ?it/s]\n"
     ]
    },
    {
     "ename": "NameError",
     "evalue": "name 'integrand_signal_model_exponential' is not defined",
     "output_type": "error",
     "traceback": [
      "\u001b[1;31m---------------------------------------------------------------------------\u001b[0m",
      "\u001b[1;31mNameError\u001b[0m                                 Traceback (most recent call last)",
      "\u001b[1;32m~\\AppData\\Local\\Temp/ipykernel_21180/573073704.py\u001b[0m in \u001b[0;36m<cell line: 4>\u001b[1;34m()\u001b[0m\n\u001b[0;32m      3\u001b[0m \u001b[0mSNR_arr\u001b[0m \u001b[1;33m=\u001b[0m \u001b[0mnp\u001b[0m\u001b[1;33m.\u001b[0m\u001b[0mzeros_like\u001b[0m\u001b[1;33m(\u001b[0m\u001b[0mPin_arr_centers\u001b[0m\u001b[1;33m)\u001b[0m\u001b[1;33m\u001b[0m\u001b[1;33m\u001b[0m\u001b[0m\n\u001b[0;32m      4\u001b[0m \u001b[1;32mfor\u001b[0m \u001b[0mi\u001b[0m\u001b[1;33m,\u001b[0m\u001b[0mPin\u001b[0m \u001b[1;32min\u001b[0m \u001b[0menumerate\u001b[0m\u001b[1;33m(\u001b[0m\u001b[0mtqdm\u001b[0m\u001b[1;33m(\u001b[0m\u001b[0mPin_arr_centers\u001b[0m\u001b[1;33m)\u001b[0m\u001b[1;33m)\u001b[0m\u001b[1;33m:\u001b[0m\u001b[1;33m\u001b[0m\u001b[1;33m\u001b[0m\u001b[0m\n\u001b[1;32m----> 5\u001b[1;33m     \u001b[0mSNR\u001b[0m\u001b[1;33m,\u001b[0m \u001b[0merr\u001b[0m \u001b[1;33m=\u001b[0m \u001b[0mquad\u001b[0m\u001b[1;33m(\u001b[0m\u001b[0mintegrand_signal_model_exponential\u001b[0m\u001b[1;33m,\u001b[0m \u001b[1;33m-\u001b[0m\u001b[1;36m30\u001b[0m\u001b[1;33m,\u001b[0m \u001b[1;36m40\u001b[0m\u001b[1;33m,\u001b[0m \u001b[0margs\u001b[0m\u001b[1;33m=\u001b[0m\u001b[1;33m(\u001b[0m\u001b[0mplanck_mass\u001b[0m\u001b[1;33m,\u001b[0m \u001b[1;36m5e-3\u001b[0m\u001b[1;33m,\u001b[0m \u001b[0mv\u001b[0m\u001b[1;33m,\u001b[0m \u001b[0mPin\u001b[0m\u001b[1;33m,\u001b[0m \u001b[0mT\u001b[0m\u001b[1;33m,\u001b[0m \u001b[1;36m10\u001b[0m\u001b[1;33m**\u001b[0m\u001b[1;33m(\u001b[0m\u001b[0mrequired_QNR_dB\u001b[0m\u001b[1;33m[\u001b[0m\u001b[1;36m0\u001b[0m\u001b[1;33m]\u001b[0m\u001b[1;33m/\u001b[0m\u001b[1;36m10\u001b[0m\u001b[1;33m)\u001b[0m\u001b[1;33m,\u001b[0m \u001b[0mwm\u001b[0m\u001b[1;33m,\u001b[0m \u001b[0mQ\u001b[0m\u001b[1;33m,\u001b[0m \u001b[0msensor_mass\u001b[0m\u001b[1;33m)\u001b[0m\u001b[1;33m)\u001b[0m\u001b[1;33m\u001b[0m\u001b[1;33m\u001b[0m\u001b[0m\n\u001b[0m\u001b[0;32m      6\u001b[0m     \u001b[0mSNR_arr\u001b[0m\u001b[1;33m[\u001b[0m\u001b[0mi\u001b[0m\u001b[1;33m]\u001b[0m \u001b[1;33m=\u001b[0m \u001b[0mnp\u001b[0m\u001b[1;33m.\u001b[0m\u001b[0msqrt\u001b[0m\u001b[1;33m(\u001b[0m\u001b[0mSNR\u001b[0m\u001b[1;33m)\u001b[0m\u001b[1;33m\u001b[0m\u001b[1;33m\u001b[0m\u001b[0m\n\u001b[0;32m      7\u001b[0m \u001b[0mfig\u001b[0m \u001b[1;33m=\u001b[0m \u001b[0mplt\u001b[0m\u001b[1;33m.\u001b[0m\u001b[0mfigure\u001b[0m\u001b[1;33m(\u001b[0m\u001b[0mfigsize\u001b[0m\u001b[1;33m=\u001b[0m\u001b[1;33m(\u001b[0m\u001b[1;36m8\u001b[0m\u001b[1;33m,\u001b[0m \u001b[1;36m6\u001b[0m\u001b[1;33m)\u001b[0m\u001b[1;33m,\u001b[0m \u001b[0mdpi\u001b[0m\u001b[1;33m=\u001b[0m\u001b[1;36m150\u001b[0m\u001b[1;33m)\u001b[0m\u001b[1;33m\u001b[0m\u001b[1;33m\u001b[0m\u001b[0m\n",
      "\u001b[1;31mNameError\u001b[0m: name 'integrand_signal_model_exponential' is not defined"
     ]
    }
   ],
   "source": [
    "Pin_arr_edges = np.logspace(-15, 10, 200)\n",
    "Pin_arr_centers = Pin_arr_edges[:-1] + np.diff(Pin_arr_edges)/2\n",
    "SNR_arr = np.zeros_like(Pin_arr_centers)\n",
    "for i,Pin in enumerate(tqdm(Pin_arr_centers)):\n",
    "    SNR, err = quad(integrand_signal_model_exponential, -30, 40, args=(planck_mass, 5e-3, v, Pin, T, 10**(required_QNR_dB[0]/10), wm, Q, sensor_mass))\n",
    "    SNR_arr[i] = np.sqrt(SNR)\n",
    "fig = plt.figure(figsize=(8, 6), dpi=150)\n",
    "ax = fig.add_subplot(111)\n",
    "ax.plot(Pin_arr_centers, SNR_arr)\n",
    "ax.set(xscale='log', ylabel='SNR', xlabel='Laser power (W)')\n",
    "plt.show()"
   ]
  },
  {
   "cell_type": "code",
   "execution_count": null,
   "id": "08c53671",
   "metadata": {},
   "outputs": [],
   "source": [
    "max_index = np.argmax(SNR_arr)\n",
    "optimal_laser_power = Pin_arr_centers[max_index]\n",
    "\n",
    "cmap = cm.get_cmap('Dark2')\n",
    "fig = plt.figure(figsize=(8, 6), dpi=150)\n",
    "ax = fig.add_subplot(111)\n",
    "\n",
    "X = np.logspace(-7,11,10000)\n",
    "SN = shot_noise(X, optimal_laser_power, Q=Q, w_m=wm)/10**(required_QNR_dB[0]/10*2)\n",
    "BA = back_action(X, optimal_laser_power, Q=Q, w_m=wm)/10**(required_QNR_dB[0]/10*2)\n",
    "TN = thermal_noise(Q=Q, w_m=wm)\n",
    "TN_gas = thermal_noise_gas()\n",
    "\n",
    "ax.plot(X, SN, label='Shot noise', color=cmap(0))\n",
    "ax.plot(X, BA, label='Backaction', color=cmap(1))\n",
    "ax.plot(X, [TN]*len(X), label='Mechanical thermal noise', color=cmap(2))\n",
    "ax.plot(X, [TN_gas]*len(X), label='Gas thermal noise', color=cmap(4))\n",
    "\n",
    "ax.plot(X, SN+BA+TN+TN_gas, label='Total noise', color=cmap(5))\n",
    "\n",
    "ax.legend()\n",
    "ax.set(xscale='log', yscale='log', ylabel='Noise PSD (N^2)/Hz', xlabel='angular frequency (Hz)')\n",
    "\n",
    "ax2 = ax.twinx()\n",
    "ax2.plot(X, signal_model(X), color='red')\n",
    "ax2.set(xscale='log', yscale='log', ylim=[1e-60, 1e-45])\n",
    "ax2.set_ylabel('Force per freq squared (N^2/Hz^2)', color='red')\n",
    "ax2.tick_params(axis='y', labelcolor='red')\n",
    "\n",
    "plt.show()"
   ]
  },
  {
   "cell_type": "code",
   "execution_count": null,
   "id": "12d3d77e",
   "metadata": {},
   "outputs": [],
   "source": []
  }
 ],
 "metadata": {
  "kernelspec": {
   "display_name": "Python 3 (ipykernel)",
   "language": "python",
   "name": "python3"
  },
  "language_info": {
   "codemirror_mode": {
    "name": "ipython",
    "version": 3
   },
   "file_extension": ".py",
   "mimetype": "text/x-python",
   "name": "python",
   "nbconvert_exporter": "python",
   "pygments_lexer": "ipython3",
   "version": "3.9.7"
  },
  "widgets": {
   "application/vnd.jupyter.widget-state+json": {
    "state": {
     "02a4bcba056e4d91a038a35307b4f202": {
      "model_module": "@jupyter-widgets/output",
      "model_module_version": "1.0.0",
      "model_name": "OutputModel",
      "state": {
       "layout": "IPY_MODEL_a26db7609f0c4b2a8df7cf81ec0ae551",
       "outputs": [
        {
         "name": "stdout",
         "output_type": "stream",
         "text": "min. freq.= 1.1191927559403982 Hz, min. noise= 3.1313371651876377e-30 m^2/s^4)/Hz\n"
        }
       ]
      }
     },
     "0490c756e429455e88b7f16b70b48856": {
      "model_module": "@jupyter-widgets/base",
      "model_module_version": "1.2.0",
      "model_name": "LayoutModel",
      "state": {}
     },
     "05f28b34e69f44a38907f0a7a206f32a": {
      "model_module": "@jupyter-widgets/controls",
      "model_module_version": "1.5.0",
      "model_name": "FloatLogSliderModel",
      "state": {
       "description": "w_m (Hz)",
       "layout": "IPY_MODEL_437477b0e08f4e809791d61267b542cf",
       "max": 10,
       "step": 1e-10,
       "style": "IPY_MODEL_d31dda621a7e45528c3e6af33e23ff65"
      }
     },
     "0a0e0a4ba47847c2a6fd9190cf7516d6": {
      "model_module": "@jupyter-widgets/controls",
      "model_module_version": "1.5.0",
      "model_name": "FloatLogSliderModel",
      "state": {
       "description": "Q",
       "layout": "IPY_MODEL_d8da9978fcad42009a03f53fba808f42",
       "max": 8,
       "step": 1e-10,
       "style": "IPY_MODEL_76edec2c547a4fae817bc7210abc0fdd",
       "value": 10000
      }
     },
     "0a4e8c46d55847eea71be5a236e923c0": {
      "model_module": "@jupyter-widgets/base",
      "model_module_version": "1.2.0",
      "model_name": "LayoutModel",
      "state": {}
     },
     "10550c9c80c343158a6bd19b656f5dee": {
      "model_module": "@jupyter-widgets/controls",
      "model_module_version": "1.5.0",
      "model_name": "FloatLogSliderModel",
      "state": {
       "description": "Q_0",
       "layout": "IPY_MODEL_605868ec37d040f8bc393597bb28cca1",
       "max": 10,
       "min": 6,
       "step": 1e-10,
       "style": "IPY_MODEL_fdf658aeaab24df8a85d861dbc7b1449",
       "value": 100000000
      }
     },
     "126fc60634de41d2910d59ee42ea9258": {
      "model_module": "jupyter-matplotlib",
      "model_module_version": "^0.11",
      "model_name": "ToolbarModel",
      "state": {
       "_model_module_version": "^0.11",
       "_view_module_version": "^0.11",
       "collapsed": true,
       "layout": "IPY_MODEL_7d79eb87a7314a4dbe95f77943a1d51d",
       "orientation": "vertical",
       "toolitems": [
        [
         "Home",
         "Reset original view",
         "home",
         "home"
        ],
        [
         "Back",
         "Back to previous view",
         "arrow-left",
         "back"
        ],
        [
         "Forward",
         "Forward to next view",
         "arrow-right",
         "forward"
        ],
        [
         "Pan",
         "Left button pans, Right button zooms\nx/y fixes axis, CTRL fixes aspect",
         "arrows",
         "pan"
        ],
        [
         "Zoom",
         "Zoom to rectangle\nx/y fixes axis, CTRL fixes aspect",
         "square-o",
         "zoom"
        ],
        [
         "Download",
         "Download plot",
         "floppy-o",
         "save_figure"
        ]
       ]
      }
     },
     "137e0701c81042e18fab3062074b6c90": {
      "model_module": "@jupyter-widgets/base",
      "model_module_version": "1.2.0",
      "model_name": "LayoutModel",
      "state": {
       "width": "80%"
      }
     },
     "1444da36a3a74327909bb20e9c3c923b": {
      "model_module": "@jupyter-widgets/controls",
      "model_module_version": "1.5.0",
      "model_name": "VBoxModel",
      "state": {
       "_dom_classes": [
        "widget-interact"
       ],
       "children": [
        "IPY_MODEL_8f893435018a4456a61c109345e33138",
        "IPY_MODEL_d8ae834ea12f440ca33d562090985936",
        "IPY_MODEL_d555cc99c8a7448da638f51284144d9d",
        "IPY_MODEL_414226c59497449a9a438dd94527e580",
        "IPY_MODEL_22011645763a4d41a168a4c9645ca6d7",
        "IPY_MODEL_7ada8ed0bbca4cf18b41c32f4b58e0ae",
        "IPY_MODEL_ba89b962d06b41bbbb92674d04b8f16b"
       ],
       "layout": "IPY_MODEL_54eee7be69fc4f20aa28a9859821a035"
      }
     },
     "178f7c1de05f4e349b638ce303f005c8": {
      "model_module": "@jupyter-widgets/controls",
      "model_module_version": "1.5.0",
      "model_name": "FloatLogSliderModel",
      "state": {
       "description": "Q",
       "layout": "IPY_MODEL_63620c08740e47b692940b911d5236e1",
       "max": 8,
       "step": 1e-10,
       "style": "IPY_MODEL_d16eb4d607974da4bd3589688323a3e8",
       "value": 10000
      }
     },
     "18084ca55b23404fa8d67e7df3adc8cf": {
      "model_module": "@jupyter-widgets/controls",
      "model_module_version": "1.5.0",
      "model_name": "SliderStyleModel",
      "state": {
       "description_width": ""
      }
     },
     "18d776aa485c49ad8fd9fee7dc8e961f": {
      "model_module": "@jupyter-widgets/output",
      "model_module_version": "1.0.0",
      "model_name": "OutputModel",
      "state": {
       "layout": "IPY_MODEL_74fecf10bed84fa68b8d7bd5788a16f2",
       "outputs": [
        {
         "name": "stdout",
         "output_type": "stream",
         "text": "min. freq.= 1.1191927559403982 Hz, min. noise= 3.1313371651876377e-30 m^2/s^4)/Hz\n"
        }
       ]
      }
     },
     "1a095773a39c4b8fba7d08ebd622b53f": {
      "model_module": "@jupyter-widgets/controls",
      "model_module_version": "1.5.0",
      "model_name": "SliderStyleModel",
      "state": {
       "description_width": ""
      }
     },
     "1aa34c34251a492daed895beb40a6ea4": {
      "model_module": "@jupyter-widgets/base",
      "model_module_version": "1.2.0",
      "model_name": "LayoutModel",
      "state": {}
     },
     "1b0004380f7d4a9cb35168c8ac1ff1a9": {
      "model_module": "@jupyter-widgets/controls",
      "model_module_version": "1.5.0",
      "model_name": "SliderStyleModel",
      "state": {
       "description_width": ""
      }
     },
     "1b2edc7cbd224ccc89ffc29108d87f66": {
      "model_module": "@jupyter-widgets/base",
      "model_module_version": "1.2.0",
      "model_name": "LayoutModel",
      "state": {
       "width": "80%"
      }
     },
     "22011645763a4d41a168a4c9645ca6d7": {
      "model_module": "@jupyter-widgets/controls",
      "model_module_version": "1.5.0",
      "model_name": "FloatSliderModel",
      "state": {
       "description": "T (K)",
       "layout": "IPY_MODEL_fe128f7349254c16a3d60fc4b9e3364d",
       "max": 400,
       "min": 0.01,
       "step": 0.01,
       "style": "IPY_MODEL_9d7f5e9224294432a7becd2eb3119362",
       "value": 0.01
      }
     },
     "25cf829088434ef48a1bd1befb056893": {
      "model_module": "@jupyter-widgets/base",
      "model_module_version": "1.2.0",
      "model_name": "LayoutModel",
      "state": {
       "width": "80%"
      }
     },
     "27c5a1545cb84e1cb45d0aa1a7e8b37e": {
      "model_module": "@jupyter-widgets/controls",
      "model_module_version": "1.5.0",
      "model_name": "FloatLogSliderModel",
      "state": {
       "description": "w_m (Hz)",
       "layout": "IPY_MODEL_5aebe7e1b5e941f09f9d640df2260114",
       "max": 10,
       "step": 1e-10,
       "style": "IPY_MODEL_5c62a92a4a304f1d915413f7bfa992c2"
      }
     },
     "2886c5b93e4745e68829df7ed9adbb12": {
      "model_module": "@jupyter-widgets/base",
      "model_module_version": "1.2.0",
      "model_name": "LayoutModel",
      "state": {}
     },
     "2951e14ef56d4cda94ccb5f6cc4fa381": {
      "model_module": "@jupyter-widgets/controls",
      "model_module_version": "1.5.0",
      "model_name": "FloatLogSliderModel",
      "state": {
       "description": "P_input (W)",
       "layout": "IPY_MODEL_aad192884986488ab4d69c067729b1d8",
       "max": 14,
       "min": -5,
       "step": 1e-10,
       "style": "IPY_MODEL_d6012d7113674091a2800a68b35a8c86"
      }
     },
     "29f9420cfe1f4943bdbd1eda75dc4f5c": {
      "model_module": "@jupyter-widgets/base",
      "model_module_version": "1.2.0",
      "model_name": "LayoutModel",
      "state": {
       "width": "80%"
      }
     },
     "2ab11f9b0cd2428d82d71bffd7cd877e": {
      "model_module": "jupyter-matplotlib",
      "model_module_version": "^0.11",
      "model_name": "ToolbarModel",
      "state": {
       "_model_module_version": "^0.11",
       "_view_module_version": "^0.11",
       "collapsed": true,
       "layout": "IPY_MODEL_92858de334844351b779801cbb65115b",
       "orientation": "vertical",
       "toolitems": [
        [
         "Home",
         "Reset original view",
         "home",
         "home"
        ],
        [
         "Back",
         "Back to previous view",
         "arrow-left",
         "back"
        ],
        [
         "Forward",
         "Forward to next view",
         "arrow-right",
         "forward"
        ],
        [
         "Pan",
         "Left button pans, Right button zooms\nx/y fixes axis, CTRL fixes aspect",
         "arrows",
         "pan"
        ],
        [
         "Zoom",
         "Zoom to rectangle\nx/y fixes axis, CTRL fixes aspect",
         "square-o",
         "zoom"
        ],
        [
         "Download",
         "Download plot",
         "floppy-o",
         "save_figure"
        ]
       ]
      }
     },
     "2c008a2b993945af96a827fd8e46ff8a": {
      "model_module": "@jupyter-widgets/base",
      "model_module_version": "1.2.0",
      "model_name": "LayoutModel",
      "state": {}
     },
     "2e7c6147c82c46b8ab6df5343ea06c68": {
      "model_module": "@jupyter-widgets/base",
      "model_module_version": "1.2.0",
      "model_name": "LayoutModel",
      "state": {
       "width": "80%"
      }
     },
     "2fbfce10db994288a02b76e5f21d7bfa": {
      "model_module": "@jupyter-widgets/controls",
      "model_module_version": "1.5.0",
      "model_name": "SliderStyleModel",
      "state": {
       "description_width": ""
      }
     },
     "35a9e034241a44158a06318bd511fb89": {
      "model_module": "@jupyter-widgets/base",
      "model_module_version": "1.2.0",
      "model_name": "LayoutModel",
      "state": {}
     },
     "35ccc098b49744a1bf0f3144f3cfe576": {
      "model_module": "@jupyter-widgets/base",
      "model_module_version": "1.2.0",
      "model_name": "LayoutModel",
      "state": {}
     },
     "3672b38aed4445dca9c295afabb5df45": {
      "model_module": "jupyter-matplotlib",
      "model_module_version": "^0.11",
      "model_name": "ToolbarModel",
      "state": {
       "_model_module_version": "^0.11",
       "_view_module_version": "^0.11",
       "collapsed": true,
       "layout": "IPY_MODEL_2886c5b93e4745e68829df7ed9adbb12",
       "orientation": "vertical",
       "toolitems": [
        [
         "Home",
         "Reset original view",
         "home",
         "home"
        ],
        [
         "Back",
         "Back to previous view",
         "arrow-left",
         "back"
        ],
        [
         "Forward",
         "Forward to next view",
         "arrow-right",
         "forward"
        ],
        [
         "Pan",
         "Left button pans, Right button zooms\nx/y fixes axis, CTRL fixes aspect",
         "arrows",
         "pan"
        ],
        [
         "Zoom",
         "Zoom to rectangle\nx/y fixes axis, CTRL fixes aspect",
         "square-o",
         "zoom"
        ],
        [
         "Download",
         "Download plot",
         "floppy-o",
         "save_figure"
        ]
       ]
      }
     },
     "377bba167f3040b1ae16c02e3538e435": {
      "model_module": "@jupyter-widgets/base",
      "model_module_version": "1.2.0",
      "model_name": "LayoutModel",
      "state": {
       "width": "80%"
      }
     },
     "3ccccf93707d4107b9290a8a70476faf": {
      "model_module": "@jupyter-widgets/base",
      "model_module_version": "1.2.0",
      "model_name": "LayoutModel",
      "state": {
       "width": "80%"
      }
     },
     "3f623f0a94974546b2383c68b42e80fe": {
      "model_module": "jupyter-matplotlib",
      "model_module_version": "^0.11",
      "model_name": "ToolbarModel",
      "state": {
       "_model_module_version": "^0.11",
       "_view_module_version": "^0.11",
       "collapsed": true,
       "layout": "IPY_MODEL_567f22b24992431d8cb5331a6f2ef932",
       "orientation": "vertical",
       "toolitems": [
        [
         "Home",
         "Reset original view",
         "home",
         "home"
        ],
        [
         "Back",
         "Back to previous view",
         "arrow-left",
         "back"
        ],
        [
         "Forward",
         "Forward to next view",
         "arrow-right",
         "forward"
        ],
        [
         "Pan",
         "Left button pans, Right button zooms\nx/y fixes axis, CTRL fixes aspect",
         "arrows",
         "pan"
        ],
        [
         "Zoom",
         "Zoom to rectangle\nx/y fixes axis, CTRL fixes aspect",
         "square-o",
         "zoom"
        ],
        [
         "Download",
         "Download plot",
         "floppy-o",
         "save_figure"
        ]
       ]
      }
     },
     "414226c59497449a9a438dd94527e580": {
      "model_module": "@jupyter-widgets/controls",
      "model_module_version": "1.5.0",
      "model_name": "FloatLogSliderModel",
      "state": {
       "description": "Q_0",
       "layout": "IPY_MODEL_baedd87f7c524a38b4153950199bf259",
       "max": 10,
       "min": 6,
       "step": 1e-10,
       "style": "IPY_MODEL_86fadfb04b524334b6a32e54dc7aa800",
       "value": 100000000
      }
     },
     "437477b0e08f4e809791d61267b542cf": {
      "model_module": "@jupyter-widgets/base",
      "model_module_version": "1.2.0",
      "model_name": "LayoutModel",
      "state": {
       "width": "80%"
      }
     },
     "45391e45dbdd4727ab5bf60d0a898921": {
      "model_module": "@jupyter-widgets/controls",
      "model_module_version": "1.5.0",
      "model_name": "FloatLogSliderModel",
      "state": {
       "description": "P_input (W)",
       "layout": "IPY_MODEL_29f9420cfe1f4943bdbd1eda75dc4f5c",
       "max": 14,
       "min": -5,
       "step": 1e-10,
       "style": "IPY_MODEL_8ce56519b1304adeb81eea16f3e6396e"
      }
     },
     "48adcb56d769454697f07ffb489d6697": {
      "model_module": "@jupyter-widgets/base",
      "model_module_version": "1.2.0",
      "model_name": "LayoutModel",
      "state": {
       "width": "80%"
      }
     },
     "4b800ef1ee894b7aaac0981b0a6bd9be": {
      "model_module": "@jupyter-widgets/controls",
      "model_module_version": "1.5.0",
      "model_name": "FloatSliderModel",
      "state": {
       "description": "T (K)",
       "layout": "IPY_MODEL_6fdc44e3ffd442438efcacf06d2a5559",
       "max": 400,
       "min": 0.01,
       "step": 0.01,
       "style": "IPY_MODEL_b09a96973fd84f9588d8e90728d2d187",
       "value": 0.01
      }
     },
     "4ca62e6064484478946f032f383fddb8": {
      "model_module": "@jupyter-widgets/base",
      "model_module_version": "1.2.0",
      "model_name": "LayoutModel",
      "state": {
       "width": "80%"
      }
     },
     "4d7d88bf1b0749d59458cd57685df318": {
      "model_module": "@jupyter-widgets/base",
      "model_module_version": "1.2.0",
      "model_name": "LayoutModel",
      "state": {}
     },
     "4fe44b376af542f980aa122ccb387ddc": {
      "model_module": "@jupyter-widgets/controls",
      "model_module_version": "1.5.0",
      "model_name": "SliderStyleModel",
      "state": {
       "description_width": ""
      }
     },
     "50e68c7bf0cb45f9b2821f144a6b0ed0": {
      "model_module": "@jupyter-widgets/base",
      "model_module_version": "1.2.0",
      "model_name": "LayoutModel",
      "state": {
       "width": "80%"
      }
     },
     "51ef71206c2f46fa87b9402831223376": {
      "model_module": "@jupyter-widgets/base",
      "model_module_version": "1.2.0",
      "model_name": "LayoutModel",
      "state": {
       "width": "80%"
      }
     },
     "54eee7be69fc4f20aa28a9859821a035": {
      "model_module": "@jupyter-widgets/base",
      "model_module_version": "1.2.0",
      "model_name": "LayoutModel",
      "state": {}
     },
     "567f22b24992431d8cb5331a6f2ef932": {
      "model_module": "@jupyter-widgets/base",
      "model_module_version": "1.2.0",
      "model_name": "LayoutModel",
      "state": {}
     },
     "5912fd66f7d04a5894017dbc0e347225": {
      "model_module": "@jupyter-widgets/controls",
      "model_module_version": "1.5.0",
      "model_name": "VBoxModel",
      "state": {
       "_dom_classes": [
        "widget-interact"
       ],
       "children": [
        "IPY_MODEL_ee9bd43e1fab421bac5fb01bb3a73613",
        "IPY_MODEL_9aaf0b4e7b1e48459fc6d3dcd329e2d3",
        "IPY_MODEL_f420b2369cd04ac8aa5115c10915e457",
        "IPY_MODEL_10550c9c80c343158a6bd19b656f5dee",
        "IPY_MODEL_dd6b77b35a7e436ca44dc048b4156984",
        "IPY_MODEL_8c375b6645544aa086ce0b26311ac29a",
        "IPY_MODEL_d37e35121dfc4659aaf9077e925726f0"
       ],
       "layout": "IPY_MODEL_df6af889383b4744b1de28c1659d5ba5"
      }
     },
     "5aebe7e1b5e941f09f9d640df2260114": {
      "model_module": "@jupyter-widgets/base",
      "model_module_version": "1.2.0",
      "model_name": "LayoutModel",
      "state": {
       "width": "80%"
      }
     },
     "5c62a92a4a304f1d915413f7bfa992c2": {
      "model_module": "@jupyter-widgets/controls",
      "model_module_version": "1.5.0",
      "model_name": "SliderStyleModel",
      "state": {
       "description_width": ""
      }
     },
     "5cc9205578484d6a8e92cc880582d10a": {
      "model_module": "jupyter-matplotlib",
      "model_module_version": "^0.11",
      "model_name": "ToolbarModel",
      "state": {
       "_model_module_version": "^0.11",
       "_view_module_version": "^0.11",
       "collapsed": true,
       "layout": "IPY_MODEL_878cb26b85bb4a11a727553b94e55d43",
       "orientation": "vertical",
       "toolitems": [
        [
         "Home",
         "Reset original view",
         "home",
         "home"
        ],
        [
         "Back",
         "Back to previous view",
         "arrow-left",
         "back"
        ],
        [
         "Forward",
         "Forward to next view",
         "arrow-right",
         "forward"
        ],
        [
         "Pan",
         "Left button pans, Right button zooms\nx/y fixes axis, CTRL fixes aspect",
         "arrows",
         "pan"
        ],
        [
         "Zoom",
         "Zoom to rectangle\nx/y fixes axis, CTRL fixes aspect",
         "square-o",
         "zoom"
        ],
        [
         "Download",
         "Download plot",
         "floppy-o",
         "save_figure"
        ]
       ]
      }
     },
     "605868ec37d040f8bc393597bb28cca1": {
      "model_module": "@jupyter-widgets/base",
      "model_module_version": "1.2.0",
      "model_name": "LayoutModel",
      "state": {
       "width": "80%"
      }
     },
     "63620c08740e47b692940b911d5236e1": {
      "model_module": "@jupyter-widgets/base",
      "model_module_version": "1.2.0",
      "model_name": "LayoutModel",
      "state": {
       "width": "80%"
      }
     },
     "6682abb9e99a4046933b02e1dec6cd1d": {
      "model_module": "@jupyter-widgets/base",
      "model_module_version": "1.2.0",
      "model_name": "LayoutModel",
      "state": {}
     },
     "67af750690d44e5a81a2064847a6b70b": {
      "model_module": "@jupyter-widgets/base",
      "model_module_version": "1.2.0",
      "model_name": "LayoutModel",
      "state": {
       "width": "80%"
      }
     },
     "69584cb3a76c4dc1bc8b6e0862c18711": {
      "model_module": "@jupyter-widgets/controls",
      "model_module_version": "1.5.0",
      "model_name": "VBoxModel",
      "state": {
       "_dom_classes": [
        "widget-interact"
       ],
       "children": [
        "IPY_MODEL_0a0e0a4ba47847c2a6fd9190cf7516d6",
        "IPY_MODEL_bf2a7b5233e44a2691b5ebbeb2942924",
        "IPY_MODEL_6d890c34c1054d9cae295159c0e174fd",
        "IPY_MODEL_d5c95052821c4c109e73a4a07f9ae797",
        "IPY_MODEL_84d24913bdb24cca87f3a665d30353b1",
        "IPY_MODEL_2951e14ef56d4cda94ccb5f6cc4fa381",
        "IPY_MODEL_18d776aa485c49ad8fd9fee7dc8e961f"
       ],
       "layout": "IPY_MODEL_74016c8d2c5549e0a8aee2caf59f3335"
      }
     },
     "6aebfd3b2913418bb572e974ff8d6797": {
      "model_module": "@jupyter-widgets/controls",
      "model_module_version": "1.5.0",
      "model_name": "FloatLogSliderModel",
      "state": {
       "description": "Q_0",
       "layout": "IPY_MODEL_48adcb56d769454697f07ffb489d6697",
       "max": 10,
       "min": 6,
       "step": 1e-10,
       "style": "IPY_MODEL_ab9a0b22c8f740d7b8e9ba7fc6923f6a",
       "value": 100000000
      }
     },
     "6b61eb93c468483590e760cf26932531": {
      "model_module": "@jupyter-widgets/controls",
      "model_module_version": "1.5.0",
      "model_name": "SliderStyleModel",
      "state": {
       "description_width": ""
      }
     },
     "6cb462233e834e3ea0326f1f24b9d082": {
      "model_module": "@jupyter-widgets/controls",
      "model_module_version": "1.5.0",
      "model_name": "SliderStyleModel",
      "state": {
       "description_width": ""
      }
     },
     "6d890c34c1054d9cae295159c0e174fd": {
      "model_module": "@jupyter-widgets/controls",
      "model_module_version": "1.5.0",
      "model_name": "FloatLogSliderModel",
      "state": {
       "description": "w_0 (Hz)",
       "layout": "IPY_MODEL_377bba167f3040b1ae16c02e3538e435",
       "max": 17,
       "min": 13,
       "step": 1e-10,
       "style": "IPY_MODEL_b7ab41e644fe4692910523ee5b0c404b",
       "value": 12189379495928398
      }
     },
     "6f5a17bcb3e64f56896b535102850ef2": {
      "model_module": "@jupyter-widgets/base",
      "model_module_version": "1.2.0",
      "model_name": "LayoutModel",
      "state": {}
     },
     "6fc0f97484da4949bfbbd91ead9f5bb3": {
      "model_module": "jupyter-matplotlib",
      "model_module_version": "^0.11",
      "model_name": "ToolbarModel",
      "state": {
       "_model_module_version": "^0.11",
       "_view_module_version": "^0.11",
       "collapsed": true,
       "layout": "IPY_MODEL_72144ec12a3b4104b7e41af363f5be21",
       "orientation": "vertical",
       "toolitems": [
        [
         "Home",
         "Reset original view",
         "home",
         "home"
        ],
        [
         "Back",
         "Back to previous view",
         "arrow-left",
         "back"
        ],
        [
         "Forward",
         "Forward to next view",
         "arrow-right",
         "forward"
        ],
        [
         "Pan",
         "Left button pans, Right button zooms\nx/y fixes axis, CTRL fixes aspect",
         "arrows",
         "pan"
        ],
        [
         "Zoom",
         "Zoom to rectangle\nx/y fixes axis, CTRL fixes aspect",
         "square-o",
         "zoom"
        ],
        [
         "Download",
         "Download plot",
         "floppy-o",
         "save_figure"
        ]
       ]
      }
     },
     "6fd994c0f763444097c77aa7e1856f26": {
      "model_module": "@jupyter-widgets/output",
      "model_module_version": "1.0.0",
      "model_name": "OutputModel",
      "state": {
       "layout": "IPY_MODEL_0a4e8c46d55847eea71be5a236e923c0",
       "outputs": [
        {
         "name": "stdout",
         "output_type": "stream",
         "text": "min. freq.= 1.1191927559403982 Hz, min. noise= 3.1313371651876377e-30 m^2/s^4)/Hz\n"
        }
       ]
      }
     },
     "6fdc44e3ffd442438efcacf06d2a5559": {
      "model_module": "@jupyter-widgets/base",
      "model_module_version": "1.2.0",
      "model_name": "LayoutModel",
      "state": {
       "width": "80%"
      }
     },
     "72144ec12a3b4104b7e41af363f5be21": {
      "model_module": "@jupyter-widgets/base",
      "model_module_version": "1.2.0",
      "model_name": "LayoutModel",
      "state": {}
     },
     "7269a3a2a7e342c2ab4083650ef7a8c8": {
      "model_module": "@jupyter-widgets/controls",
      "model_module_version": "1.5.0",
      "model_name": "SliderStyleModel",
      "state": {
       "description_width": ""
      }
     },
     "74016c8d2c5549e0a8aee2caf59f3335": {
      "model_module": "@jupyter-widgets/base",
      "model_module_version": "1.2.0",
      "model_name": "LayoutModel",
      "state": {}
     },
     "74fecf10bed84fa68b8d7bd5788a16f2": {
      "model_module": "@jupyter-widgets/base",
      "model_module_version": "1.2.0",
      "model_name": "LayoutModel",
      "state": {}
     },
     "769a110fffaf4486ba1dc1b8ee9297f1": {
      "model_module": "@jupyter-widgets/controls",
      "model_module_version": "1.5.0",
      "model_name": "SliderStyleModel",
      "state": {
       "description_width": ""
      }
     },
     "76edec2c547a4fae817bc7210abc0fdd": {
      "model_module": "@jupyter-widgets/controls",
      "model_module_version": "1.5.0",
      "model_name": "SliderStyleModel",
      "state": {
       "description_width": ""
      }
     },
     "7ada8ed0bbca4cf18b41c32f4b58e0ae": {
      "model_module": "@jupyter-widgets/controls",
      "model_module_version": "1.5.0",
      "model_name": "FloatLogSliderModel",
      "state": {
       "description": "P_input (W)",
       "layout": "IPY_MODEL_25cf829088434ef48a1bd1befb056893",
       "max": 14,
       "min": -5,
       "step": 1e-10,
       "style": "IPY_MODEL_cdba9b90b9e74b55962691378b65497e"
      }
     },
     "7c65671126ef4ebba7c0c5089da132e2": {
      "model_module": "@jupyter-widgets/controls",
      "model_module_version": "1.5.0",
      "model_name": "FloatSliderModel",
      "state": {
       "description": "T (K)",
       "layout": "IPY_MODEL_e4fba1ca343241a6884a2325d6249054",
       "max": 400,
       "min": 0.01,
       "step": 0.01,
       "style": "IPY_MODEL_b786642fdd26459d8feb1511a26142cf",
       "value": 0.01
      }
     },
     "7d79eb87a7314a4dbe95f77943a1d51d": {
      "model_module": "@jupyter-widgets/base",
      "model_module_version": "1.2.0",
      "model_name": "LayoutModel",
      "state": {}
     },
     "7f7bfd66d0c148b6950d2850445efc7f": {
      "model_module": "@jupyter-widgets/controls",
      "model_module_version": "1.5.0",
      "model_name": "SliderStyleModel",
      "state": {
       "description_width": ""
      }
     },
     "827c8b271fe844948a372f2da67fbb82": {
      "model_module": "@jupyter-widgets/controls",
      "model_module_version": "1.5.0",
      "model_name": "SliderStyleModel",
      "state": {
       "description_width": ""
      }
     },
     "84d24913bdb24cca87f3a665d30353b1": {
      "model_module": "@jupyter-widgets/controls",
      "model_module_version": "1.5.0",
      "model_name": "FloatSliderModel",
      "state": {
       "description": "T (K)",
       "layout": "IPY_MODEL_de02bd15e73d4b379ae8c7ae2da16f7b",
       "max": 400,
       "min": 0.01,
       "step": 0.01,
       "style": "IPY_MODEL_827c8b271fe844948a372f2da67fbb82",
       "value": 0.01
      }
     },
     "8532b7166d8a46c4801fb5d07418f52f": {
      "model_module": "@jupyter-widgets/controls",
      "model_module_version": "1.5.0",
      "model_name": "SliderStyleModel",
      "state": {
       "description_width": ""
      }
     },
     "86fadfb04b524334b6a32e54dc7aa800": {
      "model_module": "@jupyter-widgets/controls",
      "model_module_version": "1.5.0",
      "model_name": "SliderStyleModel",
      "state": {
       "description_width": ""
      }
     },
     "878cb26b85bb4a11a727553b94e55d43": {
      "model_module": "@jupyter-widgets/base",
      "model_module_version": "1.2.0",
      "model_name": "LayoutModel",
      "state": {}
     },
     "89460be92ff740cb8e15ebd6f318c623": {
      "model_module": "@jupyter-widgets/controls",
      "model_module_version": "1.5.0",
      "model_name": "VBoxModel",
      "state": {
       "_dom_classes": [
        "widget-interact"
       ],
       "children": [
        "IPY_MODEL_d75bcf148f014949a8a1119e6f0f9ece",
        "IPY_MODEL_8ef90eaef0214a4fbb9b6af75bb902ed",
        "IPY_MODEL_b458804dd12f4887b52e16cacf237f35",
        "IPY_MODEL_b1a6f81177b247d98741c88230684568",
        "IPY_MODEL_ecc7c3616efa4c5094e69a7bb56c40e8",
        "IPY_MODEL_a11120a9faeb44ac8e4dd3999013d639",
        "IPY_MODEL_a2bd99b1b0cf4957bb9ee9208d76d0ac"
       ],
       "layout": "IPY_MODEL_35a9e034241a44158a06318bd511fb89"
      }
     },
     "8c375b6645544aa086ce0b26311ac29a": {
      "model_module": "@jupyter-widgets/controls",
      "model_module_version": "1.5.0",
      "model_name": "FloatLogSliderModel",
      "state": {
       "description": "P_input (W)",
       "layout": "IPY_MODEL_eee5ee62ea574f0480a5965626357ba1",
       "max": 14,
       "min": -5,
       "step": 1e-10,
       "style": "IPY_MODEL_6b61eb93c468483590e760cf26932531"
      }
     },
     "8ce56519b1304adeb81eea16f3e6396e": {
      "model_module": "@jupyter-widgets/controls",
      "model_module_version": "1.5.0",
      "model_name": "SliderStyleModel",
      "state": {
       "description_width": ""
      }
     },
     "8e21dfc61eb64cba879eac0db90a8d75": {
      "model_module": "jupyter-matplotlib",
      "model_module_version": "^0.11",
      "model_name": "ToolbarModel",
      "state": {
       "_model_module_version": "^0.11",
       "_view_module_version": "^0.11",
       "collapsed": true,
       "layout": "IPY_MODEL_f2d7c9c5782c4927a917d1fc3cae5e74",
       "orientation": "vertical",
       "toolitems": [
        [
         "Home",
         "Reset original view",
         "home",
         "home"
        ],
        [
         "Back",
         "Back to previous view",
         "arrow-left",
         "back"
        ],
        [
         "Forward",
         "Forward to next view",
         "arrow-right",
         "forward"
        ],
        [
         "Pan",
         "Left button pans, Right button zooms\nx/y fixes axis, CTRL fixes aspect",
         "arrows",
         "pan"
        ],
        [
         "Zoom",
         "Zoom to rectangle\nx/y fixes axis, CTRL fixes aspect",
         "square-o",
         "zoom"
        ],
        [
         "Download",
         "Download plot",
         "floppy-o",
         "save_figure"
        ]
       ]
      }
     },
     "8e83204a664d4c16abd6fa7837f4d55d": {
      "model_module": "@jupyter-widgets/base",
      "model_module_version": "1.2.0",
      "model_name": "LayoutModel",
      "state": {
       "width": "80%"
      }
     },
     "8ef90eaef0214a4fbb9b6af75bb902ed": {
      "model_module": "@jupyter-widgets/controls",
      "model_module_version": "1.5.0",
      "model_name": "FloatLogSliderModel",
      "state": {
       "description": "w_m (Hz)",
       "layout": "IPY_MODEL_bf693bd360344010869d7c7378967a88",
       "max": 10,
       "step": 1e-10,
       "style": "IPY_MODEL_ac9da21ee8a84a6eb683be6ff86b12d3"
      }
     },
     "8f893435018a4456a61c109345e33138": {
      "model_module": "@jupyter-widgets/controls",
      "model_module_version": "1.5.0",
      "model_name": "FloatLogSliderModel",
      "state": {
       "description": "Q",
       "layout": "IPY_MODEL_4ca62e6064484478946f032f383fddb8",
       "max": 8,
       "step": 1e-10,
       "style": "IPY_MODEL_c3aee9beb0f64dafb334a599bdb2f754",
       "value": 10000
      }
     },
     "92858de334844351b779801cbb65115b": {
      "model_module": "@jupyter-widgets/base",
      "model_module_version": "1.2.0",
      "model_name": "LayoutModel",
      "state": {}
     },
     "9676c98b0a6b4c16bd6648aaf7cae31f": {
      "model_module": "jupyter-matplotlib",
      "model_module_version": "^0.11",
      "model_name": "MPLCanvasModel",
      "state": {
       "_cursor": "default",
       "_data_url": "data:image/png;base64,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",
       "_figure_label": "Figure 1",
       "_model_module_version": "^0.11",
       "_size": [
        880,
        660
       ],
       "_view_module_version": "^0.11",
       "layout": "IPY_MODEL_4d7d88bf1b0749d59458cd57685df318",
       "toolbar": "IPY_MODEL_3672b38aed4445dca9c295afabb5df45",
       "toolbar_position": "left"
      }
     },
     "96b6d05a666a44a19c9eb3ddf418dbf8": {
      "model_module": "jupyter-matplotlib",
      "model_module_version": "^0.11",
      "model_name": "MPLCanvasModel",
      "state": {
       "_data_url": "data:image/png;base64,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",
       "_figure_label": "Figure 1",
       "_model_module_version": "^0.11",
       "_size": [
        880,
        660
       ],
       "_view_module_version": "^0.11",
       "layout": "IPY_MODEL_1aa34c34251a492daed895beb40a6ea4",
       "resizable": false,
       "toolbar": "IPY_MODEL_2ab11f9b0cd2428d82d71bffd7cd877e",
       "toolbar_position": "left"
      }
     },
     "99a54ddd78764af1aff606f86a5c1a9b": {
      "model_module": "@jupyter-widgets/base",
      "model_module_version": "1.2.0",
      "model_name": "LayoutModel",
      "state": {
       "width": "80%"
      }
     },
     "9aaf0b4e7b1e48459fc6d3dcd329e2d3": {
      "model_module": "@jupyter-widgets/controls",
      "model_module_version": "1.5.0",
      "model_name": "FloatLogSliderModel",
      "state": {
       "description": "w_m (Hz)",
       "layout": "IPY_MODEL_51ef71206c2f46fa87b9402831223376",
       "max": 10,
       "step": 1e-10,
       "style": "IPY_MODEL_7f7bfd66d0c148b6950d2850445efc7f"
      }
     },
     "9d517d0c10364d74a73d8641ef67215d": {
      "model_module": "@jupyter-widgets/controls",
      "model_module_version": "1.5.0",
      "model_name": "SliderStyleModel",
      "state": {
       "description_width": ""
      }
     },
     "9d7f5e9224294432a7becd2eb3119362": {
      "model_module": "@jupyter-widgets/controls",
      "model_module_version": "1.5.0",
      "model_name": "SliderStyleModel",
      "state": {
       "description_width": ""
      }
     },
     "a11120a9faeb44ac8e4dd3999013d639": {
      "model_module": "@jupyter-widgets/controls",
      "model_module_version": "1.5.0",
      "model_name": "FloatLogSliderModel",
      "state": {
       "description": "P_input (W)",
       "layout": "IPY_MODEL_fb3e1054e0424e61bcdd05c1098f5019",
       "max": 14,
       "min": -5,
       "step": 1e-10,
       "style": "IPY_MODEL_9d517d0c10364d74a73d8641ef67215d"
      }
     },
     "a26db7609f0c4b2a8df7cf81ec0ae551": {
      "model_module": "@jupyter-widgets/base",
      "model_module_version": "1.2.0",
      "model_name": "LayoutModel",
      "state": {}
     },
     "a2bd99b1b0cf4957bb9ee9208d76d0ac": {
      "model_module": "@jupyter-widgets/output",
      "model_module_version": "1.0.0",
      "model_name": "OutputModel",
      "state": {
       "layout": "IPY_MODEL_0490c756e429455e88b7f16b70b48856",
       "outputs": [
        {
         "name": "stdout",
         "output_type": "stream",
         "text": "min. freq.= 1.1191927559403982 Hz, min. noise= 3.125314396731539e-30 m^2/s^4)/Hz\n"
        }
       ]
      }
     },
     "a67c66b1fde64e3896884f44c620b5ae": {
      "model_module": "@jupyter-widgets/controls",
      "model_module_version": "1.5.0",
      "model_name": "SliderStyleModel",
      "state": {
       "description_width": ""
      }
     },
     "a787ec05f80a4116b48480adc666ce1a": {
      "model_module": "@jupyter-widgets/base",
      "model_module_version": "1.2.0",
      "model_name": "LayoutModel",
      "state": {
       "width": "80%"
      }
     },
     "aad192884986488ab4d69c067729b1d8": {
      "model_module": "@jupyter-widgets/base",
      "model_module_version": "1.2.0",
      "model_name": "LayoutModel",
      "state": {
       "width": "80%"
      }
     },
     "ab9a0b22c8f740d7b8e9ba7fc6923f6a": {
      "model_module": "@jupyter-widgets/controls",
      "model_module_version": "1.5.0",
      "model_name": "SliderStyleModel",
      "state": {
       "description_width": ""
      }
     },
     "ac9da21ee8a84a6eb683be6ff86b12d3": {
      "model_module": "@jupyter-widgets/controls",
      "model_module_version": "1.5.0",
      "model_name": "SliderStyleModel",
      "state": {
       "description_width": ""
      }
     },
     "af47d95459334171bed99851f29226ba": {
      "model_module": "@jupyter-widgets/controls",
      "model_module_version": "1.5.0",
      "model_name": "VBoxModel",
      "state": {
       "_dom_classes": [
        "widget-interact"
       ],
       "children": [
        "IPY_MODEL_178f7c1de05f4e349b638ce303f005c8",
        "IPY_MODEL_05f28b34e69f44a38907f0a7a206f32a",
        "IPY_MODEL_d72a926ee6fc4cedbc79cb12a8b1cf5f",
        "IPY_MODEL_c72c2b93bd5647459645bbd6a73b7290",
        "IPY_MODEL_4b800ef1ee894b7aaac0981b0a6bd9be",
        "IPY_MODEL_c42c38c9bed34207b41e2b55a1e9a882",
        "IPY_MODEL_02a4bcba056e4d91a038a35307b4f202"
       ],
       "layout": "IPY_MODEL_35ccc098b49744a1bf0f3144f3cfe576"
      }
     },
     "b09a96973fd84f9588d8e90728d2d187": {
      "model_module": "@jupyter-widgets/controls",
      "model_module_version": "1.5.0",
      "model_name": "SliderStyleModel",
      "state": {
       "description_width": ""
      }
     },
     "b1a6f81177b247d98741c88230684568": {
      "model_module": "@jupyter-widgets/controls",
      "model_module_version": "1.5.0",
      "model_name": "FloatLogSliderModel",
      "state": {
       "description": "Q_0",
       "layout": "IPY_MODEL_a787ec05f80a4116b48480adc666ce1a",
       "max": 10,
       "min": 6,
       "step": 1e-10,
       "style": "IPY_MODEL_8532b7166d8a46c4801fb5d07418f52f",
       "value": 100000000
      }
     },
     "b458804dd12f4887b52e16cacf237f35": {
      "model_module": "@jupyter-widgets/controls",
      "model_module_version": "1.5.0",
      "model_name": "FloatLogSliderModel",
      "state": {
       "description": "w_0 (Hz)",
       "layout": "IPY_MODEL_137e0701c81042e18fab3062074b6c90",
       "max": 17,
       "min": 13,
       "step": 1e-10,
       "style": "IPY_MODEL_e1d4f2487430441792d293c37efae203",
       "value": 12189379495928398
      }
     },
     "b6caf09c9b9d45efb9d0510fc2f928a5": {
      "model_module": "@jupyter-widgets/controls",
      "model_module_version": "1.5.0",
      "model_name": "SliderStyleModel",
      "state": {
       "description_width": ""
      }
     },
     "b786642fdd26459d8feb1511a26142cf": {
      "model_module": "@jupyter-widgets/controls",
      "model_module_version": "1.5.0",
      "model_name": "SliderStyleModel",
      "state": {
       "description_width": ""
      }
     },
     "b7ab41e644fe4692910523ee5b0c404b": {
      "model_module": "@jupyter-widgets/controls",
      "model_module_version": "1.5.0",
      "model_name": "SliderStyleModel",
      "state": {
       "description_width": ""
      }
     },
     "ba89b962d06b41bbbb92674d04b8f16b": {
      "model_module": "@jupyter-widgets/output",
      "model_module_version": "1.0.0",
      "model_name": "OutputModel",
      "state": {
       "layout": "IPY_MODEL_bc2e91866ead4448ad28c9e0bf38c37e",
       "outputs": [
        {
         "name": "stdout",
         "output_type": "stream",
         "text": "min. freq.= 1.1191927559403982 Hz, min. noise= 3.1313371651876377e-30 m^2/s^4)/Hz\n"
        }
       ]
      }
     },
     "baedd87f7c524a38b4153950199bf259": {
      "model_module": "@jupyter-widgets/base",
      "model_module_version": "1.2.0",
      "model_name": "LayoutModel",
      "state": {
       "width": "80%"
      }
     },
     "bc2e91866ead4448ad28c9e0bf38c37e": {
      "model_module": "@jupyter-widgets/base",
      "model_module_version": "1.2.0",
      "model_name": "LayoutModel",
      "state": {}
     },
     "bcfd719b6e11437aa155dc3c9659bb4e": {
      "model_module": "@jupyter-widgets/controls",
      "model_module_version": "1.5.0",
      "model_name": "SliderStyleModel",
      "state": {
       "description_width": ""
      }
     },
     "bf2a7b5233e44a2691b5ebbeb2942924": {
      "model_module": "@jupyter-widgets/controls",
      "model_module_version": "1.5.0",
      "model_name": "FloatLogSliderModel",
      "state": {
       "description": "w_m (Hz)",
       "layout": "IPY_MODEL_50e68c7bf0cb45f9b2821f144a6b0ed0",
       "max": 10,
       "step": 1e-10,
       "style": "IPY_MODEL_1b0004380f7d4a9cb35168c8ac1ff1a9"
      }
     },
     "bf693bd360344010869d7c7378967a88": {
      "model_module": "@jupyter-widgets/base",
      "model_module_version": "1.2.0",
      "model_name": "LayoutModel",
      "state": {
       "width": "80%"
      }
     },
     "c3aee9beb0f64dafb334a599bdb2f754": {
      "model_module": "@jupyter-widgets/controls",
      "model_module_version": "1.5.0",
      "model_name": "SliderStyleModel",
      "state": {
       "description_width": ""
      }
     },
     "c42c38c9bed34207b41e2b55a1e9a882": {
      "model_module": "@jupyter-widgets/controls",
      "model_module_version": "1.5.0",
      "model_name": "FloatLogSliderModel",
      "state": {
       "description": "P_input (W)",
       "layout": "IPY_MODEL_8e83204a664d4c16abd6fa7837f4d55d",
       "max": 14,
       "min": -5,
       "step": 1e-10,
       "style": "IPY_MODEL_a67c66b1fde64e3896884f44c620b5ae"
      }
     },
     "c51620e8168944c18cdc65504911f41d": {
      "model_module": "jupyter-matplotlib",
      "model_module_version": "^0.11",
      "model_name": "ToolbarModel",
      "state": {
       "_model_module_version": "^0.11",
       "_view_module_version": "^0.11",
       "collapsed": true,
       "layout": "IPY_MODEL_2c008a2b993945af96a827fd8e46ff8a",
       "orientation": "vertical",
       "toolitems": [
        [
         "Home",
         "Reset original view",
         "home",
         "home"
        ],
        [
         "Back",
         "Back to previous view",
         "arrow-left",
         "back"
        ],
        [
         "Forward",
         "Forward to next view",
         "arrow-right",
         "forward"
        ],
        [
         "Pan",
         "Left button pans, Right button zooms\nx/y fixes axis, CTRL fixes aspect",
         "arrows",
         "pan"
        ],
        [
         "Zoom",
         "Zoom to rectangle\nx/y fixes axis, CTRL fixes aspect",
         "square-o",
         "zoom"
        ],
        [
         "Download",
         "Download plot",
         "floppy-o",
         "save_figure"
        ]
       ]
      }
     },
     "c72c2b93bd5647459645bbd6a73b7290": {
      "model_module": "@jupyter-widgets/controls",
      "model_module_version": "1.5.0",
      "model_name": "FloatLogSliderModel",
      "state": {
       "description": "Q_0",
       "layout": "IPY_MODEL_e47a2c70e33a4ac884b34d08bafc17ea",
       "max": 10,
       "min": 6,
       "step": 1e-10,
       "style": "IPY_MODEL_fa80b1d1bd564620934663367560c388",
       "value": 100000000
      }
     },
     "cd813b339dee4989af4e0b5b9d4a7041": {
      "model_module": "@jupyter-widgets/base",
      "model_module_version": "1.2.0",
      "model_name": "LayoutModel",
      "state": {
       "width": "80%"
      }
     },
     "cdba9b90b9e74b55962691378b65497e": {
      "model_module": "@jupyter-widgets/controls",
      "model_module_version": "1.5.0",
      "model_name": "SliderStyleModel",
      "state": {
       "description_width": ""
      }
     },
     "cf2fc7404e5045da8aacf12060ede59d": {
      "model_module": "@jupyter-widgets/base",
      "model_module_version": "1.2.0",
      "model_name": "LayoutModel",
      "state": {}
     },
     "d16eb4d607974da4bd3589688323a3e8": {
      "model_module": "@jupyter-widgets/controls",
      "model_module_version": "1.5.0",
      "model_name": "SliderStyleModel",
      "state": {
       "description_width": ""
      }
     },
     "d31dda621a7e45528c3e6af33e23ff65": {
      "model_module": "@jupyter-widgets/controls",
      "model_module_version": "1.5.0",
      "model_name": "SliderStyleModel",
      "state": {
       "description_width": ""
      }
     },
     "d37e35121dfc4659aaf9077e925726f0": {
      "model_module": "@jupyter-widgets/output",
      "model_module_version": "1.0.0",
      "model_name": "OutputModel",
      "state": {
       "layout": "IPY_MODEL_cf2fc7404e5045da8aacf12060ede59d",
       "outputs": [
        {
         "name": "stdout",
         "output_type": "stream",
         "text": "min. freq.= 1.1191927559403982 Hz, min. noise= 3.1313371651876377e-30 m^2/s^4)/Hz\n"
        }
       ]
      }
     },
     "d555cc99c8a7448da638f51284144d9d": {
      "model_module": "@jupyter-widgets/controls",
      "model_module_version": "1.5.0",
      "model_name": "FloatLogSliderModel",
      "state": {
       "description": "w_0 (Hz)",
       "layout": "IPY_MODEL_e3a93b75c3414ac6bd9a1b7bfab0ee96",
       "max": 17,
       "min": 13,
       "step": 1e-10,
       "style": "IPY_MODEL_1a095773a39c4b8fba7d08ebd622b53f",
       "value": 12189379495928398
      }
     },
     "d5c95052821c4c109e73a4a07f9ae797": {
      "model_module": "@jupyter-widgets/controls",
      "model_module_version": "1.5.0",
      "model_name": "FloatLogSliderModel",
      "state": {
       "description": "Q_0",
       "layout": "IPY_MODEL_99a54ddd78764af1aff606f86a5c1a9b",
       "max": 10,
       "min": 6,
       "step": 1e-10,
       "style": "IPY_MODEL_769a110fffaf4486ba1dc1b8ee9297f1",
       "value": 100000000
      }
     },
     "d6012d7113674091a2800a68b35a8c86": {
      "model_module": "@jupyter-widgets/controls",
      "model_module_version": "1.5.0",
      "model_name": "SliderStyleModel",
      "state": {
       "description_width": ""
      }
     },
     "d72a926ee6fc4cedbc79cb12a8b1cf5f": {
      "model_module": "@jupyter-widgets/controls",
      "model_module_version": "1.5.0",
      "model_name": "FloatLogSliderModel",
      "state": {
       "description": "w_0 (Hz)",
       "layout": "IPY_MODEL_1b2edc7cbd224ccc89ffc29108d87f66",
       "max": 17,
       "min": 13,
       "step": 1e-10,
       "style": "IPY_MODEL_dfe12b4d4b174bf1b78d079a04219c95",
       "value": 12189379495928398
      }
     },
     "d75bcf148f014949a8a1119e6f0f9ece": {
      "model_module": "@jupyter-widgets/controls",
      "model_module_version": "1.5.0",
      "model_name": "FloatLogSliderModel",
      "state": {
       "description": "Q",
       "layout": "IPY_MODEL_ee2eb530eeb34bc893d22d9b37fec77b",
       "max": 8,
       "step": 1e-10,
       "style": "IPY_MODEL_bcfd719b6e11437aa155dc3c9659bb4e",
       "value": 11224.060526790206
      }
     },
     "d8ae834ea12f440ca33d562090985936": {
      "model_module": "@jupyter-widgets/controls",
      "model_module_version": "1.5.0",
      "model_name": "FloatLogSliderModel",
      "state": {
       "description": "w_m (Hz)",
       "layout": "IPY_MODEL_de298c527b2c43b1a60f6b04a0bf81b5",
       "max": 10,
       "step": 1e-10,
       "style": "IPY_MODEL_2fbfce10db994288a02b76e5f21d7bfa"
      }
     },
     "d8da9978fcad42009a03f53fba808f42": {
      "model_module": "@jupyter-widgets/base",
      "model_module_version": "1.2.0",
      "model_name": "LayoutModel",
      "state": {
       "width": "80%"
      }
     },
     "da9bfadcd7ca4edf832d627480809b37": {
      "model_module": "@jupyter-widgets/base",
      "model_module_version": "1.2.0",
      "model_name": "LayoutModel",
      "state": {}
     },
     "dd6b77b35a7e436ca44dc048b4156984": {
      "model_module": "@jupyter-widgets/controls",
      "model_module_version": "1.5.0",
      "model_name": "FloatSliderModel",
      "state": {
       "description": "T (K)",
       "layout": "IPY_MODEL_cd813b339dee4989af4e0b5b9d4a7041",
       "max": 400,
       "min": 0.01,
       "step": 0.01,
       "style": "IPY_MODEL_e0bd8be2beb14c61b192a99ccbc448c1",
       "value": 0.01
      }
     },
     "de02bd15e73d4b379ae8c7ae2da16f7b": {
      "model_module": "@jupyter-widgets/base",
      "model_module_version": "1.2.0",
      "model_name": "LayoutModel",
      "state": {
       "width": "80%"
      }
     },
     "de298c527b2c43b1a60f6b04a0bf81b5": {
      "model_module": "@jupyter-widgets/base",
      "model_module_version": "1.2.0",
      "model_name": "LayoutModel",
      "state": {
       "width": "80%"
      }
     },
     "de929adfe0004ff0bd8bff8a2360c731": {
      "model_module": "@jupyter-widgets/base",
      "model_module_version": "1.2.0",
      "model_name": "LayoutModel",
      "state": {
       "width": "80%"
      }
     },
     "df6af889383b4744b1de28c1659d5ba5": {
      "model_module": "@jupyter-widgets/base",
      "model_module_version": "1.2.0",
      "model_name": "LayoutModel",
      "state": {}
     },
     "dfe12b4d4b174bf1b78d079a04219c95": {
      "model_module": "@jupyter-widgets/controls",
      "model_module_version": "1.5.0",
      "model_name": "SliderStyleModel",
      "state": {
       "description_width": ""
      }
     },
     "e0bd8be2beb14c61b192a99ccbc448c1": {
      "model_module": "@jupyter-widgets/controls",
      "model_module_version": "1.5.0",
      "model_name": "SliderStyleModel",
      "state": {
       "description_width": ""
      }
     },
     "e1d4f2487430441792d293c37efae203": {
      "model_module": "@jupyter-widgets/controls",
      "model_module_version": "1.5.0",
      "model_name": "SliderStyleModel",
      "state": {
       "description_width": ""
      }
     },
     "e3a93b75c3414ac6bd9a1b7bfab0ee96": {
      "model_module": "@jupyter-widgets/base",
      "model_module_version": "1.2.0",
      "model_name": "LayoutModel",
      "state": {
       "width": "80%"
      }
     },
     "e47a2c70e33a4ac884b34d08bafc17ea": {
      "model_module": "@jupyter-widgets/base",
      "model_module_version": "1.2.0",
      "model_name": "LayoutModel",
      "state": {
       "width": "80%"
      }
     },
     "e4fba1ca343241a6884a2325d6249054": {
      "model_module": "@jupyter-widgets/base",
      "model_module_version": "1.2.0",
      "model_name": "LayoutModel",
      "state": {
       "width": "80%"
      }
     },
     "ecc7c3616efa4c5094e69a7bb56c40e8": {
      "model_module": "@jupyter-widgets/controls",
      "model_module_version": "1.5.0",
      "model_name": "FloatSliderModel",
      "state": {
       "description": "T (K)",
       "layout": "IPY_MODEL_2e7c6147c82c46b8ab6df5343ea06c68",
       "max": 400,
       "min": 0.01,
       "step": 0.01,
       "style": "IPY_MODEL_6cb462233e834e3ea0326f1f24b9d082",
       "value": 0.01
      }
     },
     "ee2eb530eeb34bc893d22d9b37fec77b": {
      "model_module": "@jupyter-widgets/base",
      "model_module_version": "1.2.0",
      "model_name": "LayoutModel",
      "state": {
       "width": "80%"
      }
     },
     "ee4df318fe5d4225aaed8e3f11af9be0": {
      "model_module": "@jupyter-widgets/controls",
      "model_module_version": "1.5.0",
      "model_name": "FloatLogSliderModel",
      "state": {
       "description": "w_0 (Hz)",
       "layout": "IPY_MODEL_67af750690d44e5a81a2064847a6b70b",
       "max": 17,
       "min": 13,
       "step": 1e-10,
       "style": "IPY_MODEL_b6caf09c9b9d45efb9d0510fc2f928a5",
       "value": 12189379495928398
      }
     },
     "ee9bd43e1fab421bac5fb01bb3a73613": {
      "model_module": "@jupyter-widgets/controls",
      "model_module_version": "1.5.0",
      "model_name": "FloatLogSliderModel",
      "state": {
       "description": "Q",
       "layout": "IPY_MODEL_ff5e2d93365b44ea831ef54b1481c585",
       "max": 8,
       "step": 1e-10,
       "style": "IPY_MODEL_18084ca55b23404fa8d67e7df3adc8cf",
       "value": 10000
      }
     },
     "eee5ee62ea574f0480a5965626357ba1": {
      "model_module": "@jupyter-widgets/base",
      "model_module_version": "1.2.0",
      "model_name": "LayoutModel",
      "state": {
       "width": "80%"
      }
     },
     "f14073ec82c64a1db3d9a7ca8459d490": {
      "model_module": "@jupyter-widgets/controls",
      "model_module_version": "1.5.0",
      "model_name": "VBoxModel",
      "state": {
       "_dom_classes": [
        "widget-interact"
       ],
       "children": [
        "IPY_MODEL_fa73eb340d83453da4bb79ef7923cdb9",
        "IPY_MODEL_27c5a1545cb84e1cb45d0aa1a7e8b37e",
        "IPY_MODEL_ee4df318fe5d4225aaed8e3f11af9be0",
        "IPY_MODEL_6aebfd3b2913418bb572e974ff8d6797",
        "IPY_MODEL_7c65671126ef4ebba7c0c5089da132e2",
        "IPY_MODEL_45391e45dbdd4727ab5bf60d0a898921",
        "IPY_MODEL_6fd994c0f763444097c77aa7e1856f26"
       ],
       "layout": "IPY_MODEL_da9bfadcd7ca4edf832d627480809b37"
      }
     },
     "f2d7c9c5782c4927a917d1fc3cae5e74": {
      "model_module": "@jupyter-widgets/base",
      "model_module_version": "1.2.0",
      "model_name": "LayoutModel",
      "state": {}
     },
     "f420b2369cd04ac8aa5115c10915e457": {
      "model_module": "@jupyter-widgets/controls",
      "model_module_version": "1.5.0",
      "model_name": "FloatLogSliderModel",
      "state": {
       "description": "w_0 (Hz)",
       "layout": "IPY_MODEL_de929adfe0004ff0bd8bff8a2360c731",
       "max": 17,
       "min": 13,
       "step": 1e-10,
       "style": "IPY_MODEL_4fe44b376af542f980aa122ccb387ddc",
       "value": 12189379495928398
      }
     },
     "fa73eb340d83453da4bb79ef7923cdb9": {
      "model_module": "@jupyter-widgets/controls",
      "model_module_version": "1.5.0",
      "model_name": "FloatLogSliderModel",
      "state": {
       "description": "Q",
       "layout": "IPY_MODEL_3ccccf93707d4107b9290a8a70476faf",
       "max": 8,
       "step": 1e-10,
       "style": "IPY_MODEL_7269a3a2a7e342c2ab4083650ef7a8c8",
       "value": 10000
      }
     },
     "fa80b1d1bd564620934663367560c388": {
      "model_module": "@jupyter-widgets/controls",
      "model_module_version": "1.5.0",
      "model_name": "SliderStyleModel",
      "state": {
       "description_width": ""
      }
     },
     "fb3e1054e0424e61bcdd05c1098f5019": {
      "model_module": "@jupyter-widgets/base",
      "model_module_version": "1.2.0",
      "model_name": "LayoutModel",
      "state": {
       "width": "80%"
      }
     },
     "fdf658aeaab24df8a85d861dbc7b1449": {
      "model_module": "@jupyter-widgets/controls",
      "model_module_version": "1.5.0",
      "model_name": "SliderStyleModel",
      "state": {
       "description_width": ""
      }
     },
     "fe128f7349254c16a3d60fc4b9e3364d": {
      "model_module": "@jupyter-widgets/base",
      "model_module_version": "1.2.0",
      "model_name": "LayoutModel",
      "state": {
       "width": "80%"
      }
     },
     "ff5e2d93365b44ea831ef54b1481c585": {
      "model_module": "@jupyter-widgets/base",
      "model_module_version": "1.2.0",
      "model_name": "LayoutModel",
      "state": {
       "width": "80%"
      }
     }
    },
    "version_major": 2,
    "version_minor": 0
   }
  }
 },
 "nbformat": 4,
 "nbformat_minor": 5
}
